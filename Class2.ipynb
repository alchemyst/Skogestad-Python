{
 "cells": [
  {
   "cell_type": "code",
   "execution_count": 2,
   "metadata": {},
   "outputs": [],
   "source": [
    "import numpy\n",
    "coeffs = [1,1]\n",
    "for i in range(9):\n",
    "    coeffs = numpy.convolve(coeffs, [1,1])"
   ]
  },
  {
   "cell_type": "code",
   "execution_count": 2,
   "metadata": {},
   "outputs": [
    {
     "data": {
      "text/plain": [
       "array([  1,  10,  45, 120, 210, 252, 210, 120,  45,  10,   1])"
      ]
     },
     "execution_count": 2,
     "metadata": {},
     "output_type": "execute_result"
    }
   ],
   "source": [
    "coeffs"
   ]
  },
  {
   "cell_type": "code",
   "execution_count": 3,
   "metadata": {},
   "outputs": [
    {
     "data": {
      "text/plain": [
       "array([-1.0486659 +0.01614412j, -1.0486659 -0.01614412j,\n",
       "       -1.02925286+0.04166079j, -1.02925286-0.04166079j,\n",
       "       -0.99899397+0.05030124j, -0.99899397-0.05030124j,\n",
       "       -0.9701264 +0.03974754j, -0.9701264 -0.03974754j,\n",
       "       -0.95296087+0.01496287j, -0.95296087-0.01496287j])"
      ]
     },
     "execution_count": 3,
     "metadata": {},
     "output_type": "execute_result"
    }
   ],
   "source": [
    "numpy.roots(coeffs)"
   ]
  },
  {
   "cell_type": "code",
   "execution_count": 4,
   "metadata": {},
   "outputs": [],
   "source": [
    "#Even if the the roots are exact, soliving it is difficult"
   ]
  },
  {
   "cell_type": "code",
   "execution_count": 5,
   "metadata": {},
   "outputs": [],
   "source": [
    "import sympy\n",
    "import scipy.signal"
   ]
  },
  {
   "cell_type": "code",
   "execution_count": 6,
   "metadata": {},
   "outputs": [],
   "source": [
    "s, t =sympy.symbols('s, t')"
   ]
  },
  {
   "cell_type": "code",
   "execution_count": 7,
   "metadata": {},
   "outputs": [],
   "source": [
    "G = ((-0.02621*s - 0.001)*sympy.exp(-2.66*s))/((7.85*s +1)*(14.63*s +1))"
   ]
  },
  {
   "cell_type": "code",
   "execution_count": 8,
   "metadata": {},
   "outputs": [
    {
     "data": {
      "text/latex": [
       "$\\displaystyle \\frac{\\left(- \\frac{2621 s}{100000} - \\frac{1}{1000}\\right) e^{- \\frac{133 s}{50}}}{\\left(\\frac{157 s}{20} + 1\\right) \\left(\\frac{1463 s}{100} + 1\\right)}$"
      ],
      "text/plain": [
       "(-2621*s/100000 - 1/1000)*exp(-133*s/50)/((157*s/20 + 1)*(1463*s/100 + 1))"
      ]
     },
     "execution_count": 8,
     "metadata": {},
     "output_type": "execute_result"
    }
   ],
   "source": [
    "sympy.nsimplify(G)"
   ]
  },
  {
   "cell_type": "code",
   "execution_count": 9,
   "metadata": {},
   "outputs": [],
   "source": [
    " inverse =sympy.inverse_laplace_transform(sympy.nsimplify(G), s, t)"
   ]
  },
  {
   "cell_type": "code",
   "execution_count": 10,
   "metadata": {},
   "outputs": [
    {
     "data": {
      "text/latex": [
       "$\\displaystyle \\frac{\\left(\\frac{829872 e^{\\frac{100 t}{1463} + \\frac{266}{785}} \\Gamma\\left(- \\frac{13560}{229691}\\right)}{157} + 30301 e^{\\frac{20 t}{157} + \\frac{2}{11}} \\Gamma\\left(\\frac{216131}{229691}\\right)\\right) e^{- \\frac{44960 t}{229691}} \\sin{\\left(\\frac{13560 \\pi}{229691} \\right)} \\theta\\left(t - \\frac{133}{50}\\right) \\Gamma\\left(\\frac{13560}{229691}\\right)}{259550830 \\pi}$"
      ],
      "text/plain": [
       "(829872*exp(100*t/1463 + 266/785)*gamma(-13560/229691)/157 + 30301*exp(20*t/157 + 2/11)*gamma(216131/229691))*exp(-44960*t/229691)*sin(13560*pi/229691)*Heaviside(t - 133/50)*gamma(13560/229691)/(259550830*pi)"
      ]
     },
     "execution_count": 10,
     "metadata": {},
     "output_type": "execute_result"
    }
   ],
   "source": [
    "inverse"
   ]
  },
  {
   "cell_type": "code",
   "execution_count": 11,
   "metadata": {},
   "outputs": [
    {
     "data": {
      "text/latex": [
       "$\\displaystyle 3.71275406944301 \\cdot 10^{-9} \\left(- 92913.1413191932 e^{\\frac{100 t}{1463} + \\frac{266}{785}} + 31444.0411982817 e^{\\frac{20 t}{157} + \\frac{2}{11}}\\right) e^{- \\frac{44960 t}{229691}} \\theta\\left(t - \\frac{133}{50}\\right)$"
      ],
      "text/plain": [
       "3.71275406944301e-9*(-92913.1413191932*exp(100*t/1463 + 266/785) + 31444.0411982817*exp(20*t/157 + 2/11))*exp(-44960*t/229691)*Heaviside(t - 133/50)"
      ]
     },
     "execution_count": 11,
     "metadata": {},
     "output_type": "execute_result"
    }
   ],
   "source": [
    "sympy.N(inverse)"
   ]
  },
  {
   "cell_type": "code",
   "execution_count": 13,
   "metadata": {},
   "outputs": [
    {
     "data": {
      "image/png": "[encoded data removed]",
      "text/plain": [
       "<Figure size 432x288 with 1 Axes>"
      ]
     },
     "metadata": {
      "needs_background": "light"
     },
     "output_type": "display_data"
    },
    {
     "data": {
      "text/plain": [
       "<sympy.plotting.plot.Plot at 0x1c167b4cd0>"
      ]
     },
     "execution_count": 13,
     "metadata": {},
     "output_type": "execute_result"
    }
   ],
   "source": [
    "sympy.plot(inverse, (t, 0, 10))"
   ]
  },
  {
   "cell_type": "code",
   "execution_count": null,
   "metadata": {},
   "outputs": [],
   "source": []
  },
  {
   "cell_type": "code",
   "execution_count": 14,
   "metadata": {},
   "outputs": [],
   "source": [
    "import scipy.signal\n",
    "import matplotlib.pyplot as plt\n",
    "G = scipy.signal.lti([-0.001*26.21, -0.001*1], numpy.convolve([7.85,1], [14.63,1]))\n",
    "t,y = scipy.signal.step(G)"
   ]
  },
  {
   "cell_type": "code",
   "execution_count": 15,
   "metadata": {},
   "outputs": [
    {
     "data": {
      "text/plain": [
       "[<matplotlib.lines.Line2D at 0x1c1732e190>]"
      ]
     },
     "execution_count": 15,
     "metadata": {},
     "output_type": "execute_result"
    },
    {
     "data": {
      "image/png": "[encoded data removed]",
      "text/plain": [
       "<Figure size 432x288 with 1 Axes>"
      ]
     },
     "metadata": {
      "needs_background": "light"
     },
     "output_type": "display_data"
    }
   ],
   "source": [
    "plt.plot((t + 2.66) , y)"
   ]
  },
  {
   "cell_type": "code",
   "execution_count": 16,
   "metadata": {},
   "outputs": [],
   "source": [
    "import utils\n",
    "s = utils.tf([1,0], 1)"
   ]
  },
  {
   "cell_type": "code",
   "execution_count": 17,
   "metadata": {},
   "outputs": [
    {
     "data": {
      "text/latex": [
       "$$\\frac{1.0s}{1.0}$$"
      ],
      "text/plain": [
       "tf([1. 0.], [1.])"
      ]
     },
     "execution_count": 17,
     "metadata": {},
     "output_type": "execute_result"
    }
   ],
   "source": [
    "s"
   ]
  },
  {
   "cell_type": "code",
   "execution_count": 18,
   "metadata": {},
   "outputs": [],
   "source": [
    "import numpy"
   ]
  },
  {
   "cell_type": "code",
   "execution_count": 19,
   "metadata": {},
   "outputs": [
    {
     "data": {
      "text/latex": [
       "$$\\frac{(-0.0002282197s-8.7074e-06)e^{-2.66s}}{1.0s^2+0.195741235s+0.0087073503}$$"
      ],
      "text/plain": [
       "tf([-2.282197e-04 -8.707400e-06], [1.         0.19574124 0.00870735], deadtime=2.66)"
      ]
     },
     "execution_count": 19,
     "metadata": {},
     "output_type": "execute_result"
    }
   ],
   "source": [
    "G = ((-0.02621*s - 0.001)*numpy.exp(-2.66*s))/((7.85*s +1)*(14.63*s +1))\n",
    "G"
   ]
  },
  {
   "cell_type": "code",
   "execution_count": 20,
   "metadata": {},
   "outputs": [
    {
     "data": {
      "text/plain": [
       "[<matplotlib.lines.Line2D at 0x1c174ff2d0>]"
      ]
     },
     "execution_count": 20,
     "metadata": {},
     "output_type": "execute_result"
    },
    {
     "data": {
      "image/png": "[encoded data removed]",
      "text/plain": [
       "<Figure size 432x288 with 1 Axes>"
      ]
     },
     "metadata": {
      "needs_background": "light"
     },
     "output_type": "display_data"
    }
   ],
   "source": [
    "t, y = G.step()\n",
    "plt.plot(t, y)"
   ]
  },
  {
   "cell_type": "code",
   "execution_count": 55,
   "metadata": {},
   "outputs": [],
   "source": []
  },
  {
   "cell_type": "code",
   "execution_count": 21,
   "metadata": {},
   "outputs": [],
   "source": [
    "K = -1\n",
    "omega = numpy.logspace(-2, 2)\n",
    "s = 1j*omega\n",
    "G = ((-0.02621*s - 0.001)*numpy.exp(-2.66*s))/((7.85*s +1)*(14.63*s +1))"
   ]
  },
  {
   "cell_type": "code",
   "execution_count": 22,
   "metadata": {},
   "outputs": [],
   "source": [
    "T = K*G/(1 + K*G)"
   ]
  },
  {
   "cell_type": "code",
   "execution_count": 23,
   "metadata": {},
   "outputs": [],
   "source": [
    "import utilsplot\n",
    "#plt.plot.loglog frequency and gain plot for this using "
   ]
  },
  {
   "cell_type": "code",
   "execution_count": 63,
   "metadata": {},
   "outputs": [
    {
     "name": "stdout",
     "output_type": "stream",
     "text": [
      "Collecting tbcontrol\n",
      "  Downloading https://files.pythonhosted.org/packages/4f/14/653035024b6474c285bc0a390582c36961d60908afdc68c85cbc902809c1/tbcontrol-0.1.11-py3-none-any.whl\n",
      "Requirement already satisfied: scipy in /opt/anaconda3/lib/python3.7/site-packages (from tbcontrol) (1.3.1)\n",
      "Requirement already satisfied: packaging in /opt/anaconda3/lib/python3.7/site-packages (from tbcontrol) (19.2)\n",
      "Requirement already satisfied: numpy in /opt/anaconda3/lib/python3.7/site-packages (from tbcontrol) (1.17.2)\n",
      "Requirement already satisfied: tqdm in /opt/anaconda3/lib/python3.7/site-packages (from tbcontrol) (4.36.1)\n",
      "Requirement already satisfied: pyparsing>=2.0.2 in /opt/anaconda3/lib/python3.7/site-packages (from packaging->tbcontrol) (2.4.2)\n",
      "Requirement already satisfied: six in /opt/anaconda3/lib/python3.7/site-packages (from packaging->tbcontrol) (1.12.0)\n",
      "Installing collected packages: tbcontrol\n",
      "Successfully installed tbcontrol-0.1.11\n"
     ]
    }
   ],
   "source": [
    "!pip install tbcontrol"
   ]
  },
  {
   "cell_type": "code",
   "execution_count": 24,
   "metadata": {},
   "outputs": [],
   "source": [
    "from tbcontrol import blocksim"
   ]
  },
  {
   "cell_type": "code",
   "execution_count": 25,
   "metadata": {},
   "outputs": [],
   "source": [
    "K = blocksim.LTI('K', 'e', -1, 1)\n",
    "G = blocksim.LTI('G','u', 'yprime', [-0.001*26.21, 0.001*1], numpy.convolve([7.85, 1], [14.63,1]))"
   ]
  },
  {
   "cell_type": "code",
   "execution_count": 26,
   "metadata": {},
   "outputs": [],
   "source": [
    "Gd =blocksim.LTI('Gd', 'd', 'yd', [0.001*26.21, -0.001*1], numpy.convolve([7.85,1], [14.63,1]))"
   ]
  },
  {
   "cell_type": "code",
   "execution_count": 27,
   "metadata": {},
   "outputs": [],
   "source": [
    "blocks = [K, G, Gd]"
   ]
  },
  {
   "cell_type": "code",
   "execution_count": 28,
   "metadata": {},
   "outputs": [],
   "source": [
    "sums ={'e':('+r','-y'),\n",
    "       'y': ('+yprime', '+yd')}"
   ]
  },
  {
   "cell_type": "code",
   "execution_count": 29,
   "metadata": {},
   "outputs": [],
   "source": [
    "inputs = {'r': blocksim.step(),\n",
    "         'd': blocksim.step(starttime= 250)}"
   ]
  },
  {
   "cell_type": "code",
   "execution_count": 30,
   "metadata": {},
   "outputs": [],
   "source": [
    "ts = numpy.arange(0, 500, 0.1)"
   ]
  },
  {
   "cell_type": "code",
   "execution_count": 31,
   "metadata": {},
   "outputs": [],
   "source": [
    "diagram = blocksim.Diagram(blocks, sums, inputs)\n"
   ]
  },
  {
   "cell_type": "code",
   "execution_count": 33,
   "metadata": {},
   "outputs": [
    {
     "data": {
      "application/vnd.jupyter.widget-view+json": {
       "model_id": "8cfcc5b77061473c95ae5779eb3e9693",
       "version_major": 2,
       "version_minor": 0
      },
      "text/plain": [
       "HBox(children=(IntProgress(value=0, max=5000), HTML(value='')))"
      ]
     },
     "metadata": {},
     "output_type": "display_data"
    }
   ],
   "source": [
    "result = diagram.simulate(ts, progress =True)"
   ]
  },
  {
   "cell_type": "code",
   "execution_count": 34,
   "metadata": {},
   "outputs": [
    {
     "data": {
      "text/plain": [
       "[<matplotlib.lines.Line2D at 0x1c156dfa10>]"
      ]
     },
     "execution_count": 34,
     "metadata": {},
     "output_type": "execute_result"
    },
    {
     "data": {
      "image/png": "[encoded data removed]",
      "text/plain": [
       "<Figure size 432x288 with 1 Axes>"
      ]
     },
     "metadata": {
      "needs_background": "light"
     },
     "output_type": "display_data"
    },
    {
     "name": "stdout",
     "output_type": "stream",
     "text": [
      "\n"
     ]
    }
   ],
   "source": [
    "plt.plot(ts, result['y'])"
   ]
  },
  {
   "cell_type": "code",
   "execution_count": 35,
   "metadata": {},
   "outputs": [],
   "source": [
    "G = numpy.array([[1/(s + 1), 2/(3*s +1)], [2/(2*s + 1), 3/(2*s +1)]])\n",
    "w = numpy.array(numpy.logspace(-2, 2))\n",
    "s = 1j*w"
   ]
  },
  {
   "cell_type": "code",
   "execution_count": 36,
   "metadata": {},
   "outputs": [
    {
     "data": {
      "text/plain": [
       "array([[[9.99900010e-01-0.009999j  , 9.99854386e-01-0.01206617j,\n",
       "         9.99787950e-01-0.0145604j , 9.99691211e-01-0.01756968j,\n",
       "         9.99550359e-01-0.02119997j, 9.99345300e-01-0.02557872j,\n",
       "         9.99046814e-01-0.03085899j, 9.98612433e-01-0.03722421j,\n",
       "         9.97980497e-01-0.04489348j, 9.97061608e-01-0.05412724j,\n",
       "         9.95726408e-01-0.06523288j, 9.93788275e-01-0.07856933j,\n",
       "         9.90979135e-01-0.09454887j, 9.86916338e-01-0.11363309j,\n",
       "         9.81058722e-01-0.13631767j, 9.72651295e-01-0.16309737j,\n",
       "         9.60661719e-01-0.19439851j, 9.43720089e-01-0.23046146j,\n",
       "         9.20089206e-01-0.27115505j, 8.87716691e-01-0.31571469j,\n",
       "         8.44446961e-01-0.36243108j, 7.88475901e-01-0.4083891j ,\n",
       "         7.19065448e-01-0.44945559j, 6.37354072e-01-0.48076383j,\n",
       "         5.46853664e-01-0.49779989j, 4.53146336e-01-0.49779989j,\n",
       "         3.62645928e-01-0.48076383j, 2.80934552e-01-0.44945559j,\n",
       "         2.11524099e-01-0.4083891j , 1.55553039e-01-0.36243108j,\n",
       "         1.12283309e-01-0.31571469j, 7.99107940e-02-0.27115505j,\n",
       "         5.62799113e-02-0.23046146j, 3.93382814e-02-0.19439851j,\n",
       "         2.73487047e-02-0.16309737j, 1.89412785e-02-0.13631767j,\n",
       "         1.30836621e-02-0.11363309j, 9.02086501e-03-0.09454887j,\n",
       "         6.21172521e-03-0.07856933j, 4.27359228e-03-0.06523288j,\n",
       "         2.93839211e-03-0.05412724j, 2.01950300e-03-0.04489348j,\n",
       "         1.38756748e-03-0.03722421j, 9.53186046e-04-0.03085899j,\n",
       "         6.54699644e-04-0.02557872j, 4.49640999e-04-0.02119997j,\n",
       "         3.08788980e-04-0.01756968j, 2.12050114e-04-0.0145604j ,\n",
       "         1.45613641e-04-0.01206617j, 9.99900010e-05-0.009999j  ],\n",
       "        [1.99820162e+00-0.05994605j, 1.99738200e+00-0.07231278j,\n",
       "         1.99618956e+00-0.08721443j, 1.99445550e+00-0.1051583j ,\n",
       "         1.99193547e+00-0.12674392j, 1.98827681e+00-0.15267269j,\n",
       "         1.98297249e+00-0.18375276j, 1.97529799e+00-0.22089325j,\n",
       "         1.96422690e+00-0.26507827j, 1.94832370e+00-0.31730451j,\n",
       "         1.92561835e+00-0.37845827j, 1.89348222e+00-0.44909857j,\n",
       "         1.84855383e+00-0.52910906j, 1.78680867e+00-0.61719698j,\n",
       "         1.70392179e+00-0.71027749j, 1.59609381e+00-0.8029148j ,\n",
       "         1.46140892e+00-0.88718759j, 1.30146810e+00-0.95347626j,\n",
       "         1.12254849e+00-0.99246253j, 9.35291968e-01-0.99790424j,\n",
       "         7.52484240e-01-0.96888387j, 5.85749954e-01-0.91016312j,\n",
       "         4.42845679e-01-0.83040897j, 3.26750433e-01-0.73941532j,\n",
       "         2.36468533e-01-0.64577062j, 1.68617945e-01-0.55570125j,\n",
       "         1.18923064e-01-0.47297297j, 8.32087584e-02-0.39936677j,\n",
       "         5.78898957e-02-0.33530367j, 4.01138600e-02-0.28039008j,\n",
       "         2.77183416e-02-0.2338127j , 1.91157830e-02-0.19459227j,\n",
       "         1.31652600e-02-0.16173186j, 9.05859550e-03-0.13429495j,\n",
       "         6.22891459e-03-0.1114407j , 4.28125516e-03-0.09243474j,\n",
       "         2.94169211e-03-0.07664679j, 2.02084088e-03-0.0635421j ,\n",
       "         1.38804753e-03-0.05267037j, 9.53308554e-04-0.04365442j,\n",
       "         6.54686001e-04-0.03617932j, 4.49585502e-04-0.02998281j,\n",
       "         3.08729112e-04-0.02484679j, 2.11998743e-04-0.02059011j,\n",
       "         1.45573527e-04-0.01706241j, 9.99601742e-05-0.01413897j,\n",
       "         6.86386131e-05-0.01171634j, 4.71311313e-05-0.00970876j,\n",
       "         3.23627758e-05-0.00804515j, 2.22219753e-05-0.00666659j]],\n",
       "\n",
       "       [[1.99920032e+00-0.03998401j, 1.99883560e+00-0.0482436j ,\n",
       "         1.99830468e+00-0.05820456j, 1.99753197e+00-0.07021367j,\n",
       "         1.99640772e+00-0.08468565j, 1.99477267e+00-0.10211432j,\n",
       "         1.99239625e+00-0.12308401j, 1.98894548e+00-0.14827961j,\n",
       "         1.98394127e+00-0.17849252j, 1.97669827e+00-0.21461707j,\n",
       "         1.96624404e+00-0.25762852j, 1.95121531e+00-0.30852785j,\n",
       "         1.92973464e+00-0.36823022j, 1.89928391e+00-0.43736535j,\n",
       "         1.85661733e+00-0.51595228j, 1.79780008e+00-0.60292208j,\n",
       "         1.71851335e+00-0.69551317j, 1.61479810e+00-0.78868454j,\n",
       "         1.48433520e+00-0.87488252j, 1.32807232e+00-0.94465261j,\n",
       "         1.15152451e+00-0.9884535j , 9.64748887e-01-0.99937849j,\n",
       "         7.80403757e-01-0.97559084j, 6.10510597e-01-0.92103095j,\n",
       "         4.63545497e-01-0.84392924j, 3.43219746e-01-0.75408202j,\n",
       "         2.49064684e-01-0.66037577j, 1.77964574e-01-0.56943635j,\n",
       "         1.25704141e-01-0.4853934j , 8.80487017e-02-0.41029846j,\n",
       "         6.13042363e-02-0.34474667j, 4.25027164e-02-0.28844229j,\n",
       "         2.93800872e-02-0.24061792j, 2.02670952e-02-0.20030835j,\n",
       "         1.39607078e-02-0.1665128j , 9.60711754e-03-0.1382821j ,\n",
       "         6.60666052e-03-0.1147592j , 4.54115637e-03-0.09519291j,\n",
       "         3.12039991e-03-0.07893708j, 2.14366701e-03-0.06544264j,\n",
       "         1.47244101e-03-0.05424679j, 1.01128322e-03-0.04496158j,\n",
       "         6.94506494e-04-0.03726299j, 4.76933978e-04-0.03088107j,\n",
       "         3.27510638e-04-0.02559129j, 2.24896341e-04-0.02120712j,\n",
       "         1.54430255e-04-0.01757375j, 1.06041922e-04-0.01456271j,\n",
       "         7.28147728e-05-0.01206749j, 4.99987500e-05-0.00999975j],\n",
       "        [2.99880048e+00-0.05997601j, 2.99825340e+00-0.0723654j ,\n",
       "         2.99745702e+00-0.08730684j, 2.99629796e+00-0.10532051j,\n",
       "         2.99461158e+00-0.12702848j, 2.99215900e+00-0.15317149j,\n",
       "         2.98859438e+00-0.18462601j, 2.98341822e+00-0.22241942j,\n",
       "         2.97591190e+00-0.26773879j, 2.96504741e+00-0.3219256j ,\n",
       "         2.94936606e+00-0.38644279j, 2.92682296e+00-0.46279178j,\n",
       "         2.89460196e+00-0.55234533j, 2.84892586e+00-0.65604803j,\n",
       "         2.78492599e+00-0.77392842j, 2.69670012e+00-0.90438312j,\n",
       "         2.57777003e+00-1.04326975j, 2.42219715e+00-1.18302681j,\n",
       "         2.22650280e+00-1.31232377j, 1.99210848e+00-1.41697891j,\n",
       "         1.72728677e+00-1.48268025j, 1.44712333e+00-1.49906773j,\n",
       "         1.17060564e+00-1.46338626j, 9.15765896e-01-1.38154642j,\n",
       "         6.95318245e-01-1.26589386j, 5.14829619e-01-1.13112303j,\n",
       "         3.73597026e-01-0.99056365j, 2.66946861e-01-0.85415453j,\n",
       "         1.88556211e-01-0.7280901j , 1.32073053e-01-0.6154477j ,\n",
       "         9.19563544e-02-0.51712j   , 6.37540746e-02-0.43266343j,\n",
       "         4.40701307e-02-0.36092688j, 3.04006428e-02-0.30046253j,\n",
       "         2.09410617e-02-0.24976921j, 1.44106763e-02-0.20742315j,\n",
       "         9.90999077e-03-0.17213879j, 6.81173456e-03-0.14278937j,\n",
       "         4.68059986e-03-0.11840562j, 3.21550052e-03-0.09816396j,\n",
       "         2.20866152e-03-0.08137018j, 1.51692483e-03-0.06744237j,\n",
       "         1.04175974e-03-0.05589449j, 7.15400967e-04-0.04632161j,\n",
       "         4.91265957e-04-0.03838693j, 3.37344512e-04-0.03181069j,\n",
       "         2.31645382e-04-0.02636062j, 1.59062882e-04-0.02184407j,\n",
       "         1.09222159e-04-0.01810123j, 7.49981250e-05-0.01499963j]]])"
      ]
     },
     "execution_count": 36,
     "metadata": {},
     "output_type": "execute_result"
    }
   ],
   "source": [
    "G  "
   ]
  },
  {
   "cell_type": "code",
   "execution_count": null,
   "metadata": {},
   "outputs": [],
   "source": []
  },
  {
   "cell_type": "code",
   "execution_count": 37,
   "metadata": {},
   "outputs": [],
   "source": [
    "def G(s):\n",
    "    return numpy.array([[4/(s + 1), 2/(3*s +1)], [2/(2*s + 1), 3/(2*s +1)]])\n"
   ]
  },
  {
   "cell_type": "code",
   "execution_count": 38,
   "metadata": {},
   "outputs": [
    {
     "data": {
      "text/plain": [
       "array([[4., 2.],\n",
       "       [2., 3.]])"
      ]
     },
     "execution_count": 38,
     "metadata": {},
     "output_type": "execute_result"
    }
   ],
   "source": [
    "G(0)"
   ]
  },
  {
   "cell_type": "code",
   "execution_count": 39,
   "metadata": {},
   "outputs": [],
   "source": [
    "w = numpy.logspace(-2,2, 1000)\n"
   ]
  },
  {
   "cell_type": "code",
   "execution_count": 40,
   "metadata": {},
   "outputs": [],
   "source": [
    "#as = []\n",
    "o_maxs = []\n",
    "o_mins = []\n",
    "for i in w:\n",
    "    u, s, vh = numpy.linalg.svd(G(1j*i))\n",
    "    o_max, o_min = s\n",
    "    #as.append([o_max, o_min, 1])\n",
    "    o_maxs.append(o_max)\n",
    "    o_mins.append(o_min)"
   ]
  },
  {
   "cell_type": "code",
   "execution_count": 41,
   "metadata": {},
   "outputs": [
    {
     "data": {
      "text/plain": [
       "[<matplotlib.lines.Line2D at 0x1c17813790>]"
      ]
     },
     "execution_count": 41,
     "metadata": {},
     "output_type": "execute_result"
    },
    {
     "data": {
      "image/png": "[encoded data removed]",
      "text/plain": [
       "<Figure size 432x288 with 1 Axes>"
      ]
     },
     "metadata": {
      "needs_background": "light"
     },
     "output_type": "display_data"
    }
   ],
   "source": [
    "plt.loglog(w, o_maxs)\n",
    "plt.loglog(w, o_mins)"
   ]
  },
  {
   "cell_type": "code",
   "execution_count": 42,
   "metadata": {},
   "outputs": [
    {
     "name": "stdout",
     "output_type": "stream",
     "text": [
      "[1, 25, 16, 9]\n"
     ]
    }
   ],
   "source": [
    "r = []\n",
    "ns = [1, 5, 4, 3]\n",
    "for n in ns:\n",
    "    r.append(n**2)\n",
    "print(r)"
   ]
  },
  {
   "cell_type": "code",
   "execution_count": 43,
   "metadata": {},
   "outputs": [
    {
     "data": {
      "text/plain": [
       "[1, 25, 16, 9]"
      ]
     },
     "execution_count": 43,
     "metadata": {},
     "output_type": "execute_result"
    }
   ],
   "source": [
    "[n**2 for n in ns]"
   ]
  },
  {
   "cell_type": "code",
   "execution_count": 44,
   "metadata": {},
   "outputs": [],
   "source": [
    "#Relative gain array, in the open loop case, one control in auto adn one in manual\n",
    "inv = numpy.linalg.inv\n",
    "K = G(0)"
   ]
  },
  {
   "cell_type": "code",
   "execution_count": 45,
   "metadata": {},
   "outputs": [
    {
     "data": {
      "text/plain": [
       "array([[ 1.5, -0.5],\n",
       "       [-0.5,  1.5]])"
      ]
     },
     "execution_count": 45,
     "metadata": {},
     "output_type": "execute_result"
    }
   ],
   "source": [
    "K*inv(K).T"
   ]
  },
  {
   "cell_type": "code",
   "execution_count": null,
   "metadata": {},
   "outputs": [],
   "source": []
  },
  {
   "cell_type": "code",
   "execution_count": 54,
   "metadata": {},
   "outputs": [
    {
     "data": {
      "text/plain": [
       "array([[ 1.14705882-0.08823529j, -0.14705882+0.08823529j],\n",
       "       [-0.14705882+0.08823529j,  1.14705882-0.08823529j]])"
      ]
     },
     "execution_count": 54,
     "metadata": {},
     "output_type": "execute_result"
    }
   ],
   "source": [
    "#Relative gain array, in the open loop case, one control in auto adn one in manual\n",
    "w = numpy.logspace(-2, 2)\n",
    "K = G(1j)\n",
    "inv = numpy.linalg.inv\n",
    "A = K*inv(K).T\n",
    "A"
   ]
  },
  {
   "cell_type": "code",
   "execution_count": 53,
   "metadata": {},
   "outputs": [
    {
     "data": {
      "text/plain": [
       "array([1.+8.32667268e-17j, 1.+1.38777878e-17j])"
      ]
     },
     "execution_count": 53,
     "metadata": {},
     "output_type": "execute_result"
    }
   ],
   "source": [
    "A.sum(axis=1)"
   ]
  },
  {
   "cell_type": "code",
   "execution_count": 48,
   "metadata": {},
   "outputs": [
    {
     "data": {
      "text/plain": [
       "array([1.+6.93889390e-17j, 1.+2.77555756e-17j])"
      ]
     },
     "execution_count": 48,
     "metadata": {},
     "output_type": "execute_result"
    }
   ],
   "source": [
    "A.sum(axis=0)"
   ]
  },
  {
   "cell_type": "code",
   "execution_count": 49,
   "metadata": {},
   "outputs": [],
   "source": [
    "A00 = [G(1j*i)*inv(G(1j*i).T)[0,0] for i in w]"
   ]
  },
  {
   "cell_type": "code",
   "execution_count": 50,
   "metadata": {},
   "outputs": [
    {
     "ename": "ValueError",
     "evalue": "x and y can be no greater than 2-D, but have shapes (50,) and (50, 2, 2)",
     "output_type": "error",
     "traceback": [
      "\u001b[0;31m---------------------------------------------------------------------------\u001b[0m",
      "\u001b[0;31mValueError\u001b[0m                                Traceback (most recent call last)",
      "\u001b[0;32m<ipython-input-50-aa4f721f1fc4>\u001b[0m in \u001b[0;36m<module>\u001b[0;34m\u001b[0m\n\u001b[0;32m----> 1\u001b[0;31m \u001b[0mplt\u001b[0m\u001b[0;34m.\u001b[0m\u001b[0msemilogx\u001b[0m\u001b[0;34m(\u001b[0m\u001b[0mw\u001b[0m\u001b[0;34m,\u001b[0m \u001b[0mA00\u001b[0m\u001b[0;34m)\u001b[0m\u001b[0;34m\u001b[0m\u001b[0;34m\u001b[0m\u001b[0m\n\u001b[0m\u001b[1;32m      2\u001b[0m \u001b[0;31m#A00\u001b[0m\u001b[0;34m\u001b[0m\u001b[0;34m\u001b[0m\u001b[0;34m\u001b[0m\u001b[0m\n",
      "\u001b[0;32m/opt/anaconda3/lib/python3.7/site-packages/matplotlib/pyplot.py\u001b[0m in \u001b[0;36msemilogx\u001b[0;34m(*args, **kwargs)\u001b[0m\n\u001b[1;32m   2853\u001b[0m \u001b[0;34m@\u001b[0m\u001b[0mdocstring\u001b[0m\u001b[0;34m.\u001b[0m\u001b[0mcopy\u001b[0m\u001b[0;34m(\u001b[0m\u001b[0mAxes\u001b[0m\u001b[0;34m.\u001b[0m\u001b[0msemilogx\u001b[0m\u001b[0;34m)\u001b[0m\u001b[0;34m\u001b[0m\u001b[0;34m\u001b[0m\u001b[0m\n\u001b[1;32m   2854\u001b[0m \u001b[0;32mdef\u001b[0m \u001b[0msemilogx\u001b[0m\u001b[0;34m(\u001b[0m\u001b[0;34m*\u001b[0m\u001b[0margs\u001b[0m\u001b[0;34m,\u001b[0m \u001b[0;34m**\u001b[0m\u001b[0mkwargs\u001b[0m\u001b[0;34m)\u001b[0m\u001b[0;34m:\u001b[0m\u001b[0;34m\u001b[0m\u001b[0;34m\u001b[0m\u001b[0m\n\u001b[0;32m-> 2855\u001b[0;31m     \u001b[0;32mreturn\u001b[0m \u001b[0mgca\u001b[0m\u001b[0;34m(\u001b[0m\u001b[0;34m)\u001b[0m\u001b[0;34m.\u001b[0m\u001b[0msemilogx\u001b[0m\u001b[0;34m(\u001b[0m\u001b[0;34m*\u001b[0m\u001b[0margs\u001b[0m\u001b[0;34m,\u001b[0m \u001b[0;34m**\u001b[0m\u001b[0mkwargs\u001b[0m\u001b[0;34m)\u001b[0m\u001b[0;34m\u001b[0m\u001b[0;34m\u001b[0m\u001b[0m\n\u001b[0m\u001b[1;32m   2856\u001b[0m \u001b[0;34m\u001b[0m\u001b[0m\n\u001b[1;32m   2857\u001b[0m \u001b[0;34m\u001b[0m\u001b[0m\n",
      "\u001b[0;32m/opt/anaconda3/lib/python3.7/site-packages/matplotlib/axes/_axes.py\u001b[0m in \u001b[0;36msemilogx\u001b[0;34m(self, *args, **kwargs)\u001b[0m\n\u001b[1;32m   1848\u001b[0m \u001b[0;34m\u001b[0m\u001b[0m\n\u001b[1;32m   1849\u001b[0m         \u001b[0mself\u001b[0m\u001b[0;34m.\u001b[0m\u001b[0mset_xscale\u001b[0m\u001b[0;34m(\u001b[0m\u001b[0;34m'log'\u001b[0m\u001b[0;34m,\u001b[0m \u001b[0;34m**\u001b[0m\u001b[0md\u001b[0m\u001b[0;34m)\u001b[0m\u001b[0;34m\u001b[0m\u001b[0;34m\u001b[0m\u001b[0m\n\u001b[0;32m-> 1850\u001b[0;31m         \u001b[0ml\u001b[0m \u001b[0;34m=\u001b[0m \u001b[0mself\u001b[0m\u001b[0;34m.\u001b[0m\u001b[0mplot\u001b[0m\u001b[0;34m(\u001b[0m\u001b[0;34m*\u001b[0m\u001b[0margs\u001b[0m\u001b[0;34m,\u001b[0m \u001b[0;34m**\u001b[0m\u001b[0mkwargs\u001b[0m\u001b[0;34m)\u001b[0m\u001b[0;34m\u001b[0m\u001b[0;34m\u001b[0m\u001b[0m\n\u001b[0m\u001b[1;32m   1851\u001b[0m         \u001b[0;32mreturn\u001b[0m \u001b[0ml\u001b[0m\u001b[0;34m\u001b[0m\u001b[0;34m\u001b[0m\u001b[0m\n\u001b[1;32m   1852\u001b[0m \u001b[0;34m\u001b[0m\u001b[0m\n",
      "\u001b[0;32m/opt/anaconda3/lib/python3.7/site-packages/matplotlib/axes/_axes.py\u001b[0m in \u001b[0;36mplot\u001b[0;34m(self, scalex, scaley, data, *args, **kwargs)\u001b[0m\n\u001b[1;32m   1664\u001b[0m         \"\"\"\n\u001b[1;32m   1665\u001b[0m         \u001b[0mkwargs\u001b[0m \u001b[0;34m=\u001b[0m \u001b[0mcbook\u001b[0m\u001b[0;34m.\u001b[0m\u001b[0mnormalize_kwargs\u001b[0m\u001b[0;34m(\u001b[0m\u001b[0mkwargs\u001b[0m\u001b[0;34m,\u001b[0m \u001b[0mmlines\u001b[0m\u001b[0;34m.\u001b[0m\u001b[0mLine2D\u001b[0m\u001b[0;34m.\u001b[0m\u001b[0m_alias_map\u001b[0m\u001b[0;34m)\u001b[0m\u001b[0;34m\u001b[0m\u001b[0;34m\u001b[0m\u001b[0m\n\u001b[0;32m-> 1666\u001b[0;31m         \u001b[0mlines\u001b[0m \u001b[0;34m=\u001b[0m \u001b[0;34m[\u001b[0m\u001b[0;34m*\u001b[0m\u001b[0mself\u001b[0m\u001b[0;34m.\u001b[0m\u001b[0m_get_lines\u001b[0m\u001b[0;34m(\u001b[0m\u001b[0;34m*\u001b[0m\u001b[0margs\u001b[0m\u001b[0;34m,\u001b[0m \u001b[0mdata\u001b[0m\u001b[0;34m=\u001b[0m\u001b[0mdata\u001b[0m\u001b[0;34m,\u001b[0m \u001b[0;34m**\u001b[0m\u001b[0mkwargs\u001b[0m\u001b[0;34m)\u001b[0m\u001b[0;34m]\u001b[0m\u001b[0;34m\u001b[0m\u001b[0;34m\u001b[0m\u001b[0m\n\u001b[0m\u001b[1;32m   1667\u001b[0m         \u001b[0;32mfor\u001b[0m \u001b[0mline\u001b[0m \u001b[0;32min\u001b[0m \u001b[0mlines\u001b[0m\u001b[0;34m:\u001b[0m\u001b[0;34m\u001b[0m\u001b[0;34m\u001b[0m\u001b[0m\n\u001b[1;32m   1668\u001b[0m             \u001b[0mself\u001b[0m\u001b[0;34m.\u001b[0m\u001b[0madd_line\u001b[0m\u001b[0;34m(\u001b[0m\u001b[0mline\u001b[0m\u001b[0;34m)\u001b[0m\u001b[0;34m\u001b[0m\u001b[0;34m\u001b[0m\u001b[0m\n",
      "\u001b[0;32m/opt/anaconda3/lib/python3.7/site-packages/matplotlib/axes/_base.py\u001b[0m in \u001b[0;36m__call__\u001b[0;34m(self, *args, **kwargs)\u001b[0m\n\u001b[1;32m    223\u001b[0m                 \u001b[0mthis\u001b[0m \u001b[0;34m+=\u001b[0m \u001b[0margs\u001b[0m\u001b[0;34m[\u001b[0m\u001b[0;36m0\u001b[0m\u001b[0;34m]\u001b[0m\u001b[0;34m,\u001b[0m\u001b[0;34m\u001b[0m\u001b[0;34m\u001b[0m\u001b[0m\n\u001b[1;32m    224\u001b[0m                 \u001b[0margs\u001b[0m \u001b[0;34m=\u001b[0m \u001b[0margs\u001b[0m\u001b[0;34m[\u001b[0m\u001b[0;36m1\u001b[0m\u001b[0;34m:\u001b[0m\u001b[0;34m]\u001b[0m\u001b[0;34m\u001b[0m\u001b[0;34m\u001b[0m\u001b[0m\n\u001b[0;32m--> 225\u001b[0;31m             \u001b[0;32myield\u001b[0m \u001b[0;32mfrom\u001b[0m \u001b[0mself\u001b[0m\u001b[0;34m.\u001b[0m\u001b[0m_plot_args\u001b[0m\u001b[0;34m(\u001b[0m\u001b[0mthis\u001b[0m\u001b[0;34m,\u001b[0m \u001b[0mkwargs\u001b[0m\u001b[0;34m)\u001b[0m\u001b[0;34m\u001b[0m\u001b[0;34m\u001b[0m\u001b[0m\n\u001b[0m\u001b[1;32m    226\u001b[0m \u001b[0;34m\u001b[0m\u001b[0m\n\u001b[1;32m    227\u001b[0m     \u001b[0;32mdef\u001b[0m \u001b[0mget_next_color\u001b[0m\u001b[0;34m(\u001b[0m\u001b[0mself\u001b[0m\u001b[0;34m)\u001b[0m\u001b[0;34m:\u001b[0m\u001b[0;34m\u001b[0m\u001b[0;34m\u001b[0m\u001b[0m\n",
      "\u001b[0;32m/opt/anaconda3/lib/python3.7/site-packages/matplotlib/axes/_base.py\u001b[0m in \u001b[0;36m_plot_args\u001b[0;34m(self, tup, kwargs)\u001b[0m\n\u001b[1;32m    389\u001b[0m             \u001b[0mx\u001b[0m\u001b[0;34m,\u001b[0m \u001b[0my\u001b[0m \u001b[0;34m=\u001b[0m \u001b[0mindex_of\u001b[0m\u001b[0;34m(\u001b[0m\u001b[0mtup\u001b[0m\u001b[0;34m[\u001b[0m\u001b[0;34m-\u001b[0m\u001b[0;36m1\u001b[0m\u001b[0;34m]\u001b[0m\u001b[0;34m)\u001b[0m\u001b[0;34m\u001b[0m\u001b[0;34m\u001b[0m\u001b[0m\n\u001b[1;32m    390\u001b[0m \u001b[0;34m\u001b[0m\u001b[0m\n\u001b[0;32m--> 391\u001b[0;31m         \u001b[0mx\u001b[0m\u001b[0;34m,\u001b[0m \u001b[0my\u001b[0m \u001b[0;34m=\u001b[0m \u001b[0mself\u001b[0m\u001b[0;34m.\u001b[0m\u001b[0m_xy_from_xy\u001b[0m\u001b[0;34m(\u001b[0m\u001b[0mx\u001b[0m\u001b[0;34m,\u001b[0m \u001b[0my\u001b[0m\u001b[0;34m)\u001b[0m\u001b[0;34m\u001b[0m\u001b[0;34m\u001b[0m\u001b[0m\n\u001b[0m\u001b[1;32m    392\u001b[0m \u001b[0;34m\u001b[0m\u001b[0m\n\u001b[1;32m    393\u001b[0m         \u001b[0;32mif\u001b[0m \u001b[0mself\u001b[0m\u001b[0;34m.\u001b[0m\u001b[0mcommand\u001b[0m \u001b[0;34m==\u001b[0m \u001b[0;34m'plot'\u001b[0m\u001b[0;34m:\u001b[0m\u001b[0;34m\u001b[0m\u001b[0;34m\u001b[0m\u001b[0m\n",
      "\u001b[0;32m/opt/anaconda3/lib/python3.7/site-packages/matplotlib/axes/_base.py\u001b[0m in \u001b[0;36m_xy_from_xy\u001b[0;34m(self, x, y)\u001b[0m\n\u001b[1;32m    271\u001b[0m         \u001b[0;32mif\u001b[0m \u001b[0mx\u001b[0m\u001b[0;34m.\u001b[0m\u001b[0mndim\u001b[0m \u001b[0;34m>\u001b[0m \u001b[0;36m2\u001b[0m \u001b[0;32mor\u001b[0m \u001b[0my\u001b[0m\u001b[0;34m.\u001b[0m\u001b[0mndim\u001b[0m \u001b[0;34m>\u001b[0m \u001b[0;36m2\u001b[0m\u001b[0;34m:\u001b[0m\u001b[0;34m\u001b[0m\u001b[0;34m\u001b[0m\u001b[0m\n\u001b[1;32m    272\u001b[0m             raise ValueError(\"x and y can be no greater than 2-D, but have \"\n\u001b[0;32m--> 273\u001b[0;31m                              \"shapes {} and {}\".format(x.shape, y.shape))\n\u001b[0m\u001b[1;32m    274\u001b[0m \u001b[0;34m\u001b[0m\u001b[0m\n\u001b[1;32m    275\u001b[0m         \u001b[0;32mif\u001b[0m \u001b[0mx\u001b[0m\u001b[0;34m.\u001b[0m\u001b[0mndim\u001b[0m \u001b[0;34m==\u001b[0m \u001b[0;36m1\u001b[0m\u001b[0;34m:\u001b[0m\u001b[0;34m\u001b[0m\u001b[0;34m\u001b[0m\u001b[0m\n",
      "\u001b[0;31mValueError\u001b[0m: x and y can be no greater than 2-D, but have shapes (50,) and (50, 2, 2)"
     ]
    },
    {
     "data": {
      "image/png": "[encoded data removed]",
      "text/plain": [
       "<Figure size 432x288 with 1 Axes>"
      ]
     },
     "metadata": {
      "needs_background": "light"
     },
     "output_type": "display_data"
    }
   ],
   "source": [
    "plt.semilogx(w, A00)\n",
    "#A00"
   ]
  },
  {
   "cell_type": "code",
   "execution_count": 160,
   "metadata": {},
   "outputs": [
    {
     "data": {
      "text/plain": [
       "array([1.00000000e-02, 1.20679264e-02, 1.45634848e-02, 1.75751062e-02,\n",
       "       2.12095089e-02, 2.55954792e-02, 3.08884360e-02, 3.72759372e-02,\n",
       "       4.49843267e-02, 5.42867544e-02, 6.55128557e-02, 7.90604321e-02,\n",
       "       9.54095476e-02, 1.15139540e-01, 1.38949549e-01, 1.67683294e-01,\n",
       "       2.02358965e-01, 2.44205309e-01, 2.94705170e-01, 3.55648031e-01,\n",
       "       4.29193426e-01, 5.17947468e-01, 6.25055193e-01, 7.54312006e-01,\n",
       "       9.10298178e-01, 1.09854114e+00, 1.32571137e+00, 1.59985872e+00,\n",
       "       1.93069773e+00, 2.32995181e+00, 2.81176870e+00, 3.39322177e+00,\n",
       "       4.09491506e+00, 4.94171336e+00, 5.96362332e+00, 7.19685673e+00,\n",
       "       8.68511374e+00, 1.04811313e+01, 1.26485522e+01, 1.52641797e+01,\n",
       "       1.84206997e+01, 2.22299648e+01, 2.68269580e+01, 3.23745754e+01,\n",
       "       3.90693994e+01, 4.71486636e+01, 5.68986603e+01, 6.86648845e+01,\n",
       "       8.28642773e+01, 1.00000000e+02])"
      ]
     },
     "execution_count": 160,
     "metadata": {},
     "output_type": "execute_result"
    }
   ],
   "source": []
  },
  {
   "cell_type": "code",
   "execution_count": null,
   "metadata": {},
   "outputs": [],
   "source": []
  }
 ],
 "metadata": {
  "kernelspec": {
   "display_name": "Python 3",
   "language": "python",
   "name": "python3"
  },
  "language_info": {
   "codemirror_mode": {
    "name": "ipython",
    "version": 3
   },
   "file_extension": ".py",
   "mimetype": "text/x-python",
   "name": "python",
   "nbconvert_exporter": "python",
   "pygments_lexer": "ipython3",
   "version": "3.7.4"
  }
 },
 "nbformat": 4,
 "nbformat_minor": 4
}
