{
 "cells": [
  {
   "cell_type": "code",
   "execution_count": null,
   "metadata": {},
   "outputs": [],
   "source": [
    "import numpy as np\n",
    "import scipy.linalg as spla\n",
    "\n",
    "from robustcontrol.utils import state_controllability\n",
    "\n",
    "\n",
    "def state_observability(A, C):\n",
    "    \"\"\"\n",
    "    Parameters: A => state space matrix A\n",
    "                C => state space matrix C\n",
    "\n",
    "    Returns: state_obsr     => True is states are observable\n",
    "             out_pole_vec   => The output vector poles y_p_i\n",
    "             observe_matrix => The observability matrix\n",
    "    \"\"\"\n",
    "    state_obsr = True\n",
    "\n",
    "    A = np.asmatrix(A)\n",
    "    C = np.asmatrix(C)\n",
    "\n",
    "    # compute all output pole vectors\n",
    "    ev, vr = spla.eig(A, left=False, right=True)\n",
    "    out_pole_vec = [np.around(C.dot(x), 3) for x in vr.T]\n",
    "    # TODO: is this calculation correct?\n",
    "    state_obsr = not any(np.sum(x) == 0.0 for x in out_pole_vec)\n",
    "\n",
    "    # compute observability matrix\n",
    "    o_plus = [C*A**n for n in range(A.shape[1])]\n",
    "    observe_matrix = np.vstack(o_plus)\n",
    "\n",
    "    return state_obsr, out_pole_vec, observe_matrix\n",
    "\n",
    "\n",
    "def is_min_realisation(A, B, C):\n",
    "    \"\"\"\n",
    "    Parameters: A => state space matrix A\n",
    "                B => state space matrix B\n",
    "                C => state space matrix C\n",
    "\n",
    "    Returns: is_min_real => True if the system is the minimum realisation\n",
    "    \"\"\"\n",
    "    state_obsr, out_pole_vec, observe_matrix = state_observability(A, C)\n",
    "    state_control, in_pole_vec, control_matrix = state_controllability(A, B)\n",
    "\n",
    "    return state_control and state_obsr\n"
   ]
  }
 ],
 "metadata": {
  "anaconda-cloud": {},
  "kernelspec": {
   "display_name": "Python 3",
   "language": "python",
   "name": "python3"
  },
  "language_info": {
   "codemirror_mode": {
    "name": "ipython",
    "version": 3
   },
   "file_extension": ".py",
   "mimetype": "text/x-python",
   "name": "python",
   "nbconvert_exporter": "python",
   "pygments_lexer": "ipython3",
   "version": "3.7.4"
  }
 },
 "nbformat": 4,
 "nbformat_minor": 4
}
