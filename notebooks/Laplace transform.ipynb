{
 "cells": [
  {
   "cell_type": "code",
   "execution_count": 1,
   "metadata": {
    "collapsed": true
   },
   "outputs": [],
   "source": [
    "import sympy"
   ]
  },
  {
   "cell_type": "code",
   "execution_count": 2,
   "metadata": {
    "collapsed": true
   },
   "outputs": [],
   "source": [
    "sympy.init_printing()"
   ]
  },
  {
   "cell_type": "code",
   "execution_count": 3,
   "metadata": {
    "collapsed": true
   },
   "outputs": [],
   "source": [
    "x = sympy.Symbol('x')"
   ]
  },
  {
   "cell_type": "code",
   "execution_count": 4,
   "metadata": {
    "collapsed": false
   },
   "outputs": [
    {
     "data": {
      "image/png": "[encoded data removed]",
      "text/latex": [
       "$$x^{4} + 8 x^{3} + 24 x^{2} + 32 x + 16$$"
      ],
      "text/plain": [
       " 4      3       2            \n",
       "x  + 8⋅x  + 24⋅x  + 32⋅x + 16"
      ]
     },
     "execution_count": 4,
     "metadata": {},
     "output_type": "execute_result"
    }
   ],
   "source": [
    "sympy.expand((x + 2)**4)"
   ]
  },
  {
   "cell_type": "code",
   "execution_count": 8,
   "metadata": {
    "collapsed": false
   },
   "outputs": [],
   "source": [
    "a = sympy.solve(x**2 + 2, x)"
   ]
  },
  {
   "cell_type": "code",
   "execution_count": 9,
   "metadata": {
    "collapsed": false
   },
   "outputs": [
    {
     "data": {
      "image/png": "[encoded data removed]",
      "text/latex": [
       "$$2$$"
      ],
      "text/plain": [
       "2"
      ]
     },
     "execution_count": 9,
     "metadata": {},
     "output_type": "execute_result"
    }
   ],
   "source": [
    "len(a)"
   ]
  },
  {
   "cell_type": "code",
   "execution_count": 10,
   "metadata": {
    "collapsed": false
   },
   "outputs": [
    {
     "data": {
      "image/png": "[encoded data removed]",
      "text/latex": [
       "$$\\left [ - 1.4142135623731 i, \\quad 1.4142135623731 i\\right ]$$"
      ],
      "text/plain": [
       "[-1.4142135623731⋅ⅈ, 1.4142135623731⋅ⅈ]"
      ]
     },
     "execution_count": 10,
     "metadata": {},
     "output_type": "execute_result"
    }
   ],
   "source": [
    "[sympy.N(e) for e in a]"
   ]
  },
  {
   "cell_type": "code",
   "execution_count": 11,
   "metadata": {
    "collapsed": false
   },
   "outputs": [
    {
     "data": {
      "image/png": "[encoded data removed]",
      "text/latex": [
       "$$\\left [ - 1.4142135623731 i, \\quad 1.4142135623731 i\\right ]$$"
      ],
      "text/plain": [
       "[-1.4142135623731⋅ⅈ, 1.4142135623731⋅ⅈ]"
      ]
     },
     "execution_count": 11,
     "metadata": {},
     "output_type": "execute_result"
    }
   ],
   "source": [
    "list(map(sympy.N, a))"
   ]
  },
  {
   "cell_type": "code",
   "execution_count": null,
   "metadata": {
    "collapsed": true
   },
   "outputs": [],
   "source": []
  },
  {
   "cell_type": "code",
   "execution_count": 14,
   "metadata": {
    "collapsed": false
   },
   "outputs": [],
   "source": [
    "sympy.laplace_transform?"
   ]
  },
  {
   "cell_type": "code",
   "execution_count": 15,
   "metadata": {
    "collapsed": true
   },
   "outputs": [],
   "source": [
    "s, t = sympy.symbols('s t')"
   ]
  },
  {
   "cell_type": "code",
   "execution_count": 16,
   "metadata": {
    "collapsed": false
   },
   "outputs": [
    {
     "data": {
      "image/png": "[encoded data removed]",
      "text/latex": [
       "$$\\frac{5 s^{2} + s + 5}{s \\left(s^{2} + 1\\right)}$$"
      ],
      "text/plain": [
       "   2        \n",
       "5⋅s  + s + 5\n",
       "────────────\n",
       "   ⎛ 2    ⎞ \n",
       " s⋅⎝s  + 1⎠ "
      ]
     },
     "execution_count": 16,
     "metadata": {},
     "output_type": "execute_result"
    }
   ],
   "source": [
    "sympy.laplace_transform(sympy.sin(t) + 5, t, s, noconds=True)"
   ]
  },
  {
   "cell_type": "code",
   "execution_count": 17,
   "metadata": {
    "collapsed": true
   },
   "outputs": [],
   "source": [
    "def L(g):\n",
    "    return sympy.laplace_transform(g, t, s, noconds=True)"
   ]
  },
  {
   "cell_type": "code",
   "execution_count": 18,
   "metadata": {
    "collapsed": false
   },
   "outputs": [
    {
     "data": {
      "image/png": "[encoded data removed]",
      "text/latex": [
       "$$\\frac{5 s^{2} + s + 5}{s \\left(s^{2} + 1\\right)}$$"
      ],
      "text/plain": [
       "   2        \n",
       "5⋅s  + s + 5\n",
       "────────────\n",
       "   ⎛ 2    ⎞ \n",
       " s⋅⎝s  + 1⎠ "
      ]
     },
     "execution_count": 18,
     "metadata": {},
     "output_type": "execute_result"
    }
   ],
   "source": [
    "L(sympy.sin(t) + 5)"
   ]
  },
  {
   "cell_type": "code",
   "execution_count": 19,
   "metadata": {
    "collapsed": false
   },
   "outputs": [
    {
     "data": {
      "image/png": "[encoded data removed]",
      "text/latex": [
       "$$e^{- t} \\theta\\left(t\\right)$$"
      ],
      "text/plain": [
       " -t             \n",
       "ℯ  ⋅Heaviside(t)"
      ]
     },
     "execution_count": 19,
     "metadata": {},
     "output_type": "execute_result"
    }
   ],
   "source": [
    "sympy.inverse_laplace_transform(1/(s + 1), s, t)"
   ]
  },
  {
   "cell_type": "code",
   "execution_count": 20,
   "metadata": {
    "collapsed": true
   },
   "outputs": [],
   "source": [
    "G = (s + 1)/((s+2)*(s+3)*(s+4))"
   ]
  },
  {
   "cell_type": "code",
   "execution_count": 21,
   "metadata": {
    "collapsed": false
   },
   "outputs": [
    {
     "data": {
      "text/plain": [
       "sympy.core.mul.Mul"
      ]
     },
     "execution_count": 21,
     "metadata": {},
     "output_type": "execute_result"
    }
   ],
   "source": [
    "type(G)"
   ]
  },
  {
   "cell_type": "code",
   "execution_count": 22,
   "metadata": {
    "collapsed": true
   },
   "outputs": [],
   "source": [
    "s = sympy.Symbol('s')\n",
    "t = sympy.Symbol('t')"
   ]
  },
  {
   "cell_type": "code",
   "execution_count": 23,
   "metadata": {
    "collapsed": true
   },
   "outputs": [],
   "source": [
    "t = sympy.Symbol('t', positive=True)"
   ]
  },
  {
   "cell_type": "code",
   "execution_count": 24,
   "metadata": {
    "collapsed": true
   },
   "outputs": [],
   "source": [
    "variables = [s, t]"
   ]
  },
  {
   "cell_type": "code",
   "execution_count": 25,
   "metadata": {
    "collapsed": true
   },
   "outputs": [],
   "source": [
    "mu = sympy.Symbol('s')"
   ]
  },
  {
   "cell_type": "code",
   "execution_count": 26,
   "metadata": {
    "collapsed": false
   },
   "outputs": [
    {
     "data": {
      "image/png": "[encoded data removed]",
      "text/latex": [
       "$$s$$"
      ],
      "text/plain": [
       "s"
      ]
     },
     "execution_count": 26,
     "metadata": {},
     "output_type": "execute_result"
    }
   ],
   "source": [
    "mu"
   ]
  },
  {
   "cell_type": "code",
   "execution_count": 27,
   "metadata": {
    "collapsed": false
   },
   "outputs": [
    {
     "ename": "NameError",
     "evalue": "name 'variable' is not defined",
     "output_type": "error",
     "traceback": [
      "\u001b[0;31m---------------------------------------------------------------------------\u001b[0m",
      "\u001b[0;31mNameError\u001b[0m                                 Traceback (most recent call last)",
      "\u001b[0;32m<ipython-input-27-25d0663afbe9>\u001b[0m in \u001b[0;36m<module>\u001b[0;34m()\u001b[0m\n\u001b[1;32m      1\u001b[0m \u001b[0;32mfor\u001b[0m \u001b[0mvaraiable\u001b[0m \u001b[0;32min\u001b[0m \u001b[0mvariables\u001b[0m\u001b[0;34m:\u001b[0m\u001b[0;34m\u001b[0m\u001b[0m\n\u001b[0;32m----> 2\u001b[0;31m     \u001b[0mprint\u001b[0m\u001b[0;34m(\u001b[0m\u001b[0mvariable\u001b[0m\u001b[0;34m)\u001b[0m\u001b[0;34m\u001b[0m\u001b[0m\n\u001b[0m",
      "\u001b[0;31mNameError\u001b[0m: name 'variable' is not defined"
     ]
    }
   ],
   "source": [
    "for varaiable in variables:\n",
    "    print(variable)"
   ]
  },
  {
   "cell_type": "code",
   "execution_count": 28,
   "metadata": {
    "collapsed": false
   },
   "outputs": [
    {
     "data": {
      "image/png": "[encoded data removed]",
      "text/latex": [
       "$$\\frac{1}{2 e^{4 t}} \\left(- e^{2 t} + 4 e^{t} - 3\\right)$$"
      ],
      "text/plain": [
       "⎛   2⋅t      t    ⎞  -4⋅t\n",
       "⎝- ℯ    + 4⋅ℯ  - 3⎠⋅ℯ    \n",
       "─────────────────────────\n",
       "            2            "
      ]
     },
     "execution_count": 28,
     "metadata": {},
     "output_type": "execute_result"
    }
   ],
   "source": [
    "sympy.inverse_laplace_transform(G, s, t)"
   ]
  },
  {
   "cell_type": "code",
   "execution_count": 29,
   "metadata": {
    "collapsed": false
   },
   "outputs": [
    {
     "data": {
      "image/png": "[encoded data removed]",
      "text/latex": [
       "$$- \\frac{3}{2 s + 8} + \\frac{2}{s + 3} - \\frac{1}{2 s + 4}$$"
      ],
      "text/plain": [
       "      3         2         1    \n",
       "- ───────── + ───── - ─────────\n",
       "  2⋅(s + 4)   s + 3   2⋅(s + 2)"
      ]
     },
     "execution_count": 29,
     "metadata": {},
     "output_type": "execute_result"
    }
   ],
   "source": [
    "sympy.apart(G)"
   ]
  },
  {
   "cell_type": "code",
   "execution_count": 30,
   "metadata": {
    "collapsed": false
   },
   "outputs": [
    {
     "data": {
      "image/png": "[encoded data removed]",
      "text/latex": [
       "$$\\left [ \\right ]$$"
      ],
      "text/plain": [
       "[]"
      ]
     },
     "execution_count": 30,
     "metadata": {},
     "output_type": "execute_result"
    }
   ],
   "source": [
    "sympy.solve(t**2 + 2, t)"
   ]
  },
  {
   "cell_type": "code",
   "execution_count": 61,
   "metadata": {
    "collapsed": true
   },
   "outputs": [],
   "source": [
    "from sympy.abc import a, b, c"
   ]
  },
  {
   "cell_type": "code",
   "execution_count": 62,
   "metadata": {
    "collapsed": false
   },
   "outputs": [
    {
     "data": {
      "image/png": "[encoded data removed]",
      "text/latex": [
       "$$a + b - c$$"
      ],
      "text/plain": [
       "a + b - c"
      ]
     },
     "execution_count": 62,
     "metadata": {},
     "output_type": "execute_result"
    }
   ],
   "source": [
    "eq1 = a + b - c\n",
    "eq1"
   ]
  },
  {
   "cell_type": "code",
   "execution_count": 90,
   "metadata": {
    "collapsed": false
   },
   "outputs": [
    {
     "data": {
      "image/png": "[encoded data removed]",
      "text/latex": [
       "$$2 a - 5 b c + b$$"
      ],
      "text/plain": [
       "2⋅a - 5⋅b⋅c + b"
      ]
     },
     "execution_count": 90,
     "metadata": {},
     "output_type": "execute_result"
    }
   ],
   "source": [
    "eq2 = 2*a + b - 5*c*b\n",
    "eq2"
   ]
  },
  {
   "cell_type": "code",
   "execution_count": 91,
   "metadata": {
    "collapsed": false
   },
   "outputs": [],
   "source": [
    "result = sympy.solve(eq2, b)"
   ]
  },
  {
   "cell_type": "code",
   "execution_count": 92,
   "metadata": {
    "collapsed": false
   },
   "outputs": [
    {
     "data": {
      "image/png": "[encoded data removed]",
      "text/latex": [
       "$$\\left [ \\frac{2 a}{5 c - 1}\\right ]$$"
      ],
      "text/plain": [
       "⎡  2⋅a  ⎤\n",
       "⎢───────⎥\n",
       "⎣5⋅c - 1⎦"
      ]
     },
     "execution_count": 92,
     "metadata": {},
     "output_type": "execute_result"
    }
   ],
   "source": [
    "result"
   ]
  },
  {
   "cell_type": "code",
   "execution_count": null,
   "metadata": {
    "collapsed": true
   },
   "outputs": [],
   "source": [
    "solb = result[0]\n",
    "solb, = result\n",
    "(solb,) = result\n",
    "[solb] = result"
   ]
  },
  {
   "cell_type": "code",
   "execution_count": 84,
   "metadata": {
    "collapsed": false
   },
   "outputs": [
    {
     "data": {
      "image/png": "[encoded data removed]",
      "text/latex": [
       "$$a + \\frac{2 a}{5 c - 1} - c$$"
      ],
      "text/plain": [
       "      2⋅a      \n",
       "a + ─────── - c\n",
       "    5⋅c - 1    "
      ]
     },
     "execution_count": 84,
     "metadata": {},
     "output_type": "execute_result"
    }
   ],
   "source": [
    "eq1.subs({b: result[0]})"
   ]
  },
  {
   "cell_type": "code",
   "execution_count": 93,
   "metadata": {
    "collapsed": false
   },
   "outputs": [],
   "source": [
    "result = sympy.solve([eq1, eq2], [a, b])"
   ]
  },
  {
   "cell_type": "code",
   "execution_count": 94,
   "metadata": {
    "collapsed": false
   },
   "outputs": [
    {
     "data": {
      "image/png": "[encoded data removed]",
      "text/latex": [
       "$$\\left \\{ a : \\frac{c \\left(5 c - 1\\right)}{5 c + 1}, \\quad b : \\frac{2 c}{5 c + 1}\\right \\}$$"
      ],
      "text/plain": [
       "⎧   c⋅(5⋅c - 1)       2⋅c  ⎫\n",
       "⎨a: ───────────, b: ───────⎬\n",
       "⎩     5⋅c + 1       5⋅c + 1⎭"
      ]
     },
     "execution_count": 94,
     "metadata": {},
     "output_type": "execute_result"
    }
   ],
   "source": [
    "result"
   ]
  },
  {
   "cell_type": "code",
   "execution_count": 85,
   "metadata": {
    "collapsed": true
   },
   "outputs": [],
   "source": [
    "d = {}"
   ]
  },
  {
   "cell_type": "code",
   "execution_count": null,
   "metadata": {
    "collapsed": true
   },
   "outputs": [],
   "source": [
    "d['name1'] = 1\n",
    "d['name1'] = 2"
   ]
  },
  {
   "cell_type": "code",
   "execution_count": 73,
   "metadata": {
    "collapsed": true
   },
   "outputs": [],
   "source": [
    "d = {'name1': 1,\n",
    "     'name1': 2}"
   ]
  },
  {
   "cell_type": "code",
   "execution_count": 74,
   "metadata": {
    "collapsed": false
   },
   "outputs": [
    {
     "data": {
      "image/png": "[encoded data removed]",
      "text/latex": [
       "$$2$$"
      ],
      "text/plain": [
       "2"
      ]
     },
     "execution_count": 74,
     "metadata": {},
     "output_type": "execute_result"
    }
   ],
   "source": [
    "d['name1']"
   ]
  },
  {
   "cell_type": "code",
   "execution_count": 36,
   "metadata": {
    "collapsed": true
   },
   "outputs": [],
   "source": [
    "lst = [1, 2, 3]"
   ]
  },
  {
   "cell_type": "code",
   "execution_count": 37,
   "metadata": {
    "collapsed": false
   },
   "outputs": [
    {
     "data": {
      "text/plain": [
       "list"
      ]
     },
     "execution_count": 37,
     "metadata": {},
     "output_type": "execute_result"
    }
   ],
   "source": [
    "type(lst)"
   ]
  },
  {
   "cell_type": "code",
   "execution_count": 38,
   "metadata": {
    "collapsed": true
   },
   "outputs": [],
   "source": [
    "tup = 1, 2, 3"
   ]
  },
  {
   "cell_type": "code",
   "execution_count": 39,
   "metadata": {
    "collapsed": false
   },
   "outputs": [
    {
     "data": {
      "text/plain": [
       "tuple"
      ]
     },
     "execution_count": 39,
     "metadata": {},
     "output_type": "execute_result"
    }
   ],
   "source": [
    "type(tup)"
   ]
  },
  {
   "cell_type": "code",
   "execution_count": 40,
   "metadata": {
    "collapsed": true
   },
   "outputs": [],
   "source": [
    "tup2 =(((((1, 2, 3)))))"
   ]
  },
  {
   "cell_type": "code",
   "execution_count": 41,
   "metadata": {
    "collapsed": false
   },
   "outputs": [
    {
     "data": {
      "text/plain": [
       "tuple"
      ]
     },
     "execution_count": 41,
     "metadata": {},
     "output_type": "execute_result"
    }
   ],
   "source": [
    "type(tup2)"
   ]
  },
  {
   "cell_type": "code",
   "execution_count": 42,
   "metadata": {
    "collapsed": false
   },
   "outputs": [
    {
     "data": {
      "image/png": "[encoded data removed]",
      "text/latex": [
       "$$\\left ( \\left ( 1, \\quad 2, \\quad 3\\right ), \\quad \\left ( 1, \\quad 2, \\quad 3\\right )\\right )$$"
      ],
      "text/plain": [
       "((1, 2, 3), (1, 2, 3))"
      ]
     },
     "execution_count": 42,
     "metadata": {},
     "output_type": "execute_result"
    }
   ],
   "source": [
    "tup, tup2"
   ]
  },
  {
   "cell_type": "code",
   "execution_count": 43,
   "metadata": {
    "collapsed": true
   },
   "outputs": [],
   "source": [
    "a, (b, c) = 1, [2, 3]"
   ]
  },
  {
   "cell_type": "code",
   "execution_count": 44,
   "metadata": {
    "collapsed": true
   },
   "outputs": [],
   "source": [
    "def f(x):\n",
    "    return x, x+2"
   ]
  },
  {
   "cell_type": "code",
   "execution_count": 45,
   "metadata": {
    "collapsed": true
   },
   "outputs": [],
   "source": [
    "c = f(x)"
   ]
  },
  {
   "cell_type": "code",
   "execution_count": 46,
   "metadata": {
    "collapsed": true
   },
   "outputs": [],
   "source": [
    "t = 1, 2, 3, 4, 5, 6"
   ]
  },
  {
   "cell_type": "code",
   "execution_count": 47,
   "metadata": {
    "collapsed": true
   },
   "outputs": [],
   "source": [
    "b, *bs = t"
   ]
  },
  {
   "cell_type": "code",
   "execution_count": 48,
   "metadata": {
    "collapsed": false
   },
   "outputs": [
    {
     "data": {
      "image/png": "[encoded data removed]",
      "text/latex": [
       "$$1$$"
      ],
      "text/plain": [
       "1"
      ]
     },
     "execution_count": 48,
     "metadata": {},
     "output_type": "execute_result"
    }
   ],
   "source": [
    "b"
   ]
  },
  {
   "cell_type": "code",
   "execution_count": 49,
   "metadata": {
    "collapsed": false
   },
   "outputs": [
    {
     "data": {
      "image/png": "[encoded data removed]",
      "text/latex": [
       "$$\\left [ 2, \\quad 3, \\quad 4, \\quad 5, \\quad 6\\right ]$$"
      ],
      "text/plain": [
       "[2, 3, 4, 5, 6]"
      ]
     },
     "execution_count": 49,
     "metadata": {},
     "output_type": "execute_result"
    }
   ],
   "source": [
    "bs"
   ]
  },
  {
   "cell_type": "code",
   "execution_count": 50,
   "metadata": {
    "collapsed": true
   },
   "outputs": [],
   "source": [
    "def myfunction(many, many1, many2, params):\n",
    "    print(many, many1, many2, params)"
   ]
  },
  {
   "cell_type": "code",
   "execution_count": 51,
   "metadata": {
    "collapsed": true
   },
   "outputs": [],
   "source": [
    "lst = [1, 2, 3, 4]"
   ]
  },
  {
   "cell_type": "code",
   "execution_count": 52,
   "metadata": {
    "collapsed": false
   },
   "outputs": [
    {
     "name": "stdout",
     "output_type": "stream",
     "text": [
      "5 2 3 4\n"
     ]
    }
   ],
   "source": [
    "myfunction(5, *lst[1:])"
   ]
  },
  {
   "cell_type": "code",
   "execution_count": 53,
   "metadata": {
    "collapsed": true
   },
   "outputs": [],
   "source": [
    "def myfunction(*args):\n",
    "    print(args)"
   ]
  },
  {
   "cell_type": "code",
   "execution_count": 54,
   "metadata": {
    "collapsed": false
   },
   "outputs": [
    {
     "name": "stdout",
     "output_type": "stream",
     "text": [
      "(1, 2, 3)\n"
     ]
    }
   ],
   "source": [
    "myfunction(1, 2, 3)"
   ]
  },
  {
   "cell_type": "code",
   "execution_count": 112,
   "metadata": {
    "collapsed": true
   },
   "outputs": [],
   "source": [
    "s = sympy.Symbol('s')\n",
    "t = sympy.Symbol('t')"
   ]
  },
  {
   "cell_type": "code",
   "execution_count": 165,
   "metadata": {
    "collapsed": true
   },
   "outputs": [],
   "source": [
    "def G(s):\n",
    "    return 1/(s + 1)\n",
    "    #return (s + 2)/(s**2 + 0.25*s + 1)"
   ]
  },
  {
   "cell_type": "code",
   "execution_count": 166,
   "metadata": {
    "collapsed": false
   },
   "outputs": [
    {
     "data": {
      "image/png": "[encoded data removed]",
      "text/latex": [
       "$$0.5$$"
      ],
      "text/plain": [
       "0.5"
      ]
     },
     "execution_count": 166,
     "metadata": {},
     "output_type": "execute_result"
    }
   ],
   "source": [
    "G(1)"
   ]
  },
  {
   "cell_type": "code",
   "execution_count": 167,
   "metadata": {
    "collapsed": false
   },
   "outputs": [
    {
     "ename": "ValueError",
     "evalue": "sequence too large; cannot be greater than 32",
     "output_type": "error",
     "traceback": [
      "\u001b[0;31m---------------------------------------------------------------------------\u001b[0m",
      "\u001b[0;31mValueError\u001b[0m                                Traceback (most recent call last)",
      "\u001b[0;32m<ipython-input-167-0fb4ff7ceec1>\u001b[0m in \u001b[0;36m<module>\u001b[0;34m()\u001b[0m\n\u001b[0;32m----> 1\u001b[0;31m \u001b[0msympy\u001b[0m\u001b[0;34m.\u001b[0m\u001b[0msolve\u001b[0m\u001b[0;34m(\u001b[0m\u001b[0msympy\u001b[0m\u001b[0;34m.\u001b[0m\u001b[0mdenom\u001b[0m\u001b[0;34m(\u001b[0m\u001b[0mG\u001b[0m\u001b[0;34m(\u001b[0m\u001b[0ms\u001b[0m\u001b[0;34m)\u001b[0m\u001b[0;34m)\u001b[0m\u001b[0;34m,\u001b[0m \u001b[0ms\u001b[0m\u001b[0;34m)\u001b[0m\u001b[0;34m\u001b[0m\u001b[0m\n\u001b[0m",
      "\u001b[0;32m/Users/alchemyst/anaconda3/lib/python3.5/site-packages/sympy/simplify/radsimp.py\u001b[0m in \u001b[0;36mdenom\u001b[0;34m(expr)\u001b[0m\n\u001b[1;32m    983\u001b[0m \u001b[0;34m\u001b[0m\u001b[0m\n\u001b[1;32m    984\u001b[0m \u001b[0;32mdef\u001b[0m \u001b[0mdenom\u001b[0m\u001b[0;34m(\u001b[0m\u001b[0mexpr\u001b[0m\u001b[0;34m)\u001b[0m\u001b[0;34m:\u001b[0m\u001b[0;34m\u001b[0m\u001b[0m\n\u001b[0;32m--> 985\u001b[0;31m     \u001b[0;32mreturn\u001b[0m \u001b[0mfraction\u001b[0m\u001b[0;34m(\u001b[0m\u001b[0mexpr\u001b[0m\u001b[0;34m)\u001b[0m\u001b[0;34m[\u001b[0m\u001b[0;36m1\u001b[0m\u001b[0;34m]\u001b[0m\u001b[0;34m\u001b[0m\u001b[0m\n\u001b[0m\u001b[1;32m    986\u001b[0m \u001b[0;34m\u001b[0m\u001b[0m\n\u001b[1;32m    987\u001b[0m \u001b[0;34m\u001b[0m\u001b[0m\n",
      "\u001b[0;32m/Users/alchemyst/anaconda3/lib/python3.5/site-packages/sympy/simplify/radsimp.py\u001b[0m in \u001b[0;36mfraction\u001b[0;34m(expr, exact)\u001b[0m\n\u001b[1;32m    948\u001b[0m \u001b[0;34m\u001b[0m\u001b[0m\n\u001b[1;32m    949\u001b[0m     \"\"\"\n\u001b[0;32m--> 950\u001b[0;31m     \u001b[0mexpr\u001b[0m \u001b[0;34m=\u001b[0m \u001b[0msympify\u001b[0m\u001b[0;34m(\u001b[0m\u001b[0mexpr\u001b[0m\u001b[0;34m)\u001b[0m\u001b[0;34m\u001b[0m\u001b[0m\n\u001b[0m\u001b[1;32m    951\u001b[0m \u001b[0;34m\u001b[0m\u001b[0m\n\u001b[1;32m    952\u001b[0m     \u001b[0mnumer\u001b[0m\u001b[0;34m,\u001b[0m \u001b[0mdenom\u001b[0m \u001b[0;34m=\u001b[0m \u001b[0;34m[\u001b[0m\u001b[0;34m]\u001b[0m\u001b[0;34m,\u001b[0m \u001b[0;34m[\u001b[0m\u001b[0;34m]\u001b[0m\u001b[0;34m\u001b[0m\u001b[0m\n",
      "\u001b[0;32m/Users/alchemyst/anaconda3/lib/python3.5/site-packages/sympy/core/sympify.py\u001b[0m in \u001b[0;36msympify\u001b[0;34m(a, locals, convert_xor, strict, rational, evaluate)\u001b[0m\n\u001b[1;32m    280\u001b[0m         \u001b[0;32mtry\u001b[0m\u001b[0;34m:\u001b[0m\u001b[0;34m\u001b[0m\u001b[0m\n\u001b[1;32m    281\u001b[0m             return type(a)([sympify(x, locals=locals, convert_xor=convert_xor,\n\u001b[0;32m--> 282\u001b[0;31m                 rational=rational) for x in a])\n\u001b[0m\u001b[1;32m    283\u001b[0m         \u001b[0;32mexcept\u001b[0m \u001b[0mTypeError\u001b[0m\u001b[0;34m:\u001b[0m\u001b[0;34m\u001b[0m\u001b[0m\n\u001b[1;32m    284\u001b[0m             \u001b[0;31m# Not all iterables are rebuildable with their type.\u001b[0m\u001b[0;34m\u001b[0m\u001b[0;34m\u001b[0m\u001b[0m\n",
      "\u001b[0;31mValueError\u001b[0m: sequence too large; cannot be greater than 32"
     ]
    }
   ],
   "source": [
    "sympy.solve(sympy.denom(G(s)), s)"
   ]
  },
  {
   "cell_type": "code",
   "execution_count": null,
   "metadata": {
    "collapsed": false
   },
   "outputs": [],
   "source": [
    "f = sympy.inverse_laplace_transform(G(s), s, t)"
   ]
  },
  {
   "cell_type": "code",
   "execution_count": 168,
   "metadata": {
    "collapsed": false
   },
   "outputs": [
    {
     "data": {
      "application/javascript": [
       "/* Put everything inside the global mpl namespace */\n",
       "window.mpl = {};\n",
       "\n",
       "mpl.get_websocket_type = function() {\n",
       "    if (typeof(WebSocket) !== 'undefined') {\n",
       "        return WebSocket;\n",
       "    } else if (typeof(MozWebSocket) !== 'undefined') {\n",
       "        return MozWebSocket;\n",
       "    } else {\n",
       "        alert('Your browser does not have WebSocket support.' +\n",
       "              'Please try Chrome, Safari or Firefox ≥ 6. ' +\n",
       "              'Firefox 4 and 5 are also supported but you ' +\n",
       "              'have to enable WebSockets in about:config.');\n",
       "    };\n",
       "}\n",
       "\n",
       "mpl.figure = function(figure_id, websocket, ondownload, parent_element) {\n",
       "    this.id = figure_id;\n",
       "\n",
       "    this.ws = websocket;\n",
       "\n",
       "    this.supports_binary = (this.ws.binaryType != undefined);\n",
       "\n",
       "    if (!this.supports_binary) {\n",
       "        var warnings = document.getElementById(\"mpl-warnings\");\n",
       "        if (warnings) {\n",
       "            warnings.style.display = 'block';\n",
       "            warnings.textContent = (\n",
       "                \"This browser does not support binary websocket messages. \" +\n",
       "                    \"Performance may be slow.\");\n",
       "        }\n",
       "    }\n",
       "\n",
       "    this.imageObj = new Image();\n",
       "\n",
       "    this.context = undefined;\n",
       "    this.message = undefined;\n",
       "    this.canvas = undefined;\n",
       "    this.rubberband_canvas = undefined;\n",
       "    this.rubberband_context = undefined;\n",
       "    this.format_dropdown = undefined;\n",
       "\n",
       "    this.image_mode = 'full';\n",
       "\n",
       "    this.root = $('<div/>');\n",
       "    this._root_extra_style(this.root)\n",
       "    this.root.attr('style', 'display: inline-block');\n",
       "\n",
       "    $(parent_element).append(this.root);\n",
       "\n",
       "    this._init_header(this);\n",
       "    this._init_canvas(this);\n",
       "    this._init_toolbar(this);\n",
       "\n",
       "    var fig = this;\n",
       "\n",
       "    this.waiting = false;\n",
       "\n",
       "    this.ws.onopen =  function () {\n",
       "            fig.send_message(\"supports_binary\", {value: fig.supports_binary});\n",
       "            fig.send_message(\"send_image_mode\", {});\n",
       "            fig.send_message(\"refresh\", {});\n",
       "        }\n",
       "\n",
       "    this.imageObj.onload = function() {\n",
       "            if (fig.image_mode == 'full') {\n",
       "                // Full images could contain transparency (where diff images\n",
       "                // almost always do), so we need to clear the canvas so that\n",
       "                // there is no ghosting.\n",
       "                fig.context.clearRect(0, 0, fig.canvas.width, fig.canvas.height);\n",
       "            }\n",
       "            fig.context.drawImage(fig.imageObj, 0, 0);\n",
       "        };\n",
       "\n",
       "    this.imageObj.onunload = function() {\n",
       "        this.ws.close();\n",
       "    }\n",
       "\n",
       "    this.ws.onmessage = this._make_on_message_function(this);\n",
       "\n",
       "    this.ondownload = ondownload;\n",
       "}\n",
       "\n",
       "mpl.figure.prototype._init_header = function() {\n",
       "    var titlebar = $(\n",
       "        '<div class=\"ui-dialog-titlebar ui-widget-header ui-corner-all ' +\n",
       "        'ui-helper-clearfix\"/>');\n",
       "    var titletext = $(\n",
       "        '<div class=\"ui-dialog-title\" style=\"width: 100%; ' +\n",
       "        'text-align: center; padding: 3px;\"/>');\n",
       "    titlebar.append(titletext)\n",
       "    this.root.append(titlebar);\n",
       "    this.header = titletext[0];\n",
       "}\n",
       "\n",
       "\n",
       "\n",
       "mpl.figure.prototype._canvas_extra_style = function(canvas_div) {\n",
       "\n",
       "}\n",
       "\n",
       "\n",
       "mpl.figure.prototype._root_extra_style = function(canvas_div) {\n",
       "\n",
       "}\n",
       "\n",
       "mpl.figure.prototype._init_canvas = function() {\n",
       "    var fig = this;\n",
       "\n",
       "    var canvas_div = $('<div/>');\n",
       "\n",
       "    canvas_div.attr('style', 'position: relative; clear: both; outline: 0');\n",
       "\n",
       "    function canvas_keyboard_event(event) {\n",
       "        return fig.key_event(event, event['data']);\n",
       "    }\n",
       "\n",
       "    canvas_div.keydown('key_press', canvas_keyboard_event);\n",
       "    canvas_div.keyup('key_release', canvas_keyboard_event);\n",
       "    this.canvas_div = canvas_div\n",
       "    this._canvas_extra_style(canvas_div)\n",
       "    this.root.append(canvas_div);\n",
       "\n",
       "    var canvas = $('<canvas/>');\n",
       "    canvas.addClass('mpl-canvas');\n",
       "    canvas.attr('style', \"left: 0; top: 0; z-index: 0; outline: 0\")\n",
       "\n",
       "    this.canvas = canvas[0];\n",
       "    this.context = canvas[0].getContext(\"2d\");\n",
       "\n",
       "    var rubberband = $('<canvas/>');\n",
       "    rubberband.attr('style', \"position: absolute; left: 0; top: 0; z-index: 1;\")\n",
       "\n",
       "    var pass_mouse_events = true;\n",
       "\n",
       "    canvas_div.resizable({\n",
       "        start: function(event, ui) {\n",
       "            pass_mouse_events = false;\n",
       "        },\n",
       "        resize: function(event, ui) {\n",
       "            fig.request_resize(ui.size.width, ui.size.height);\n",
       "        },\n",
       "        stop: function(event, ui) {\n",
       "            pass_mouse_events = true;\n",
       "            fig.request_resize(ui.size.width, ui.size.height);\n",
       "        },\n",
       "    });\n",
       "\n",
       "    function mouse_event_fn(event) {\n",
       "        if (pass_mouse_events)\n",
       "            return fig.mouse_event(event, event['data']);\n",
       "    }\n",
       "\n",
       "    rubberband.mousedown('button_press', mouse_event_fn);\n",
       "    rubberband.mouseup('button_release', mouse_event_fn);\n",
       "    // Throttle sequential mouse events to 1 every 20ms.\n",
       "    rubberband.mousemove('motion_notify', mouse_event_fn);\n",
       "\n",
       "    rubberband.mouseenter('figure_enter', mouse_event_fn);\n",
       "    rubberband.mouseleave('figure_leave', mouse_event_fn);\n",
       "\n",
       "    canvas_div.on(\"wheel\", function (event) {\n",
       "        event = event.originalEvent;\n",
       "        event['data'] = 'scroll'\n",
       "        if (event.deltaY < 0) {\n",
       "            event.step = 1;\n",
       "        } else {\n",
       "            event.step = -1;\n",
       "        }\n",
       "        mouse_event_fn(event);\n",
       "    });\n",
       "\n",
       "    canvas_div.append(canvas);\n",
       "    canvas_div.append(rubberband);\n",
       "\n",
       "    this.rubberband = rubberband;\n",
       "    this.rubberband_canvas = rubberband[0];\n",
       "    this.rubberband_context = rubberband[0].getContext(\"2d\");\n",
       "    this.rubberband_context.strokeStyle = \"#000000\";\n",
       "\n",
       "    this._resize_canvas = function(width, height) {\n",
       "        // Keep the size of the canvas, canvas container, and rubber band\n",
       "        // canvas in synch.\n",
       "        canvas_div.css('width', width)\n",
       "        canvas_div.css('height', height)\n",
       "\n",
       "        canvas.attr('width', width);\n",
       "        canvas.attr('height', height);\n",
       "\n",
       "        rubberband.attr('width', width);\n",
       "        rubberband.attr('height', height);\n",
       "    }\n",
       "\n",
       "    // Set the figure to an initial 600x600px, this will subsequently be updated\n",
       "    // upon first draw.\n",
       "    this._resize_canvas(600, 600);\n",
       "\n",
       "    // Disable right mouse context menu.\n",
       "    $(this.rubberband_canvas).bind(\"contextmenu\",function(e){\n",
       "        return false;\n",
       "    });\n",
       "\n",
       "    function set_focus () {\n",
       "        canvas.focus();\n",
       "        canvas_div.focus();\n",
       "    }\n",
       "\n",
       "    window.setTimeout(set_focus, 100);\n",
       "}\n",
       "\n",
       "mpl.figure.prototype._init_toolbar = function() {\n",
       "    var fig = this;\n",
       "\n",
       "    var nav_element = $('<div/>')\n",
       "    nav_element.attr('style', 'width: 100%');\n",
       "    this.root.append(nav_element);\n",
       "\n",
       "    // Define a callback function for later on.\n",
       "    function toolbar_event(event) {\n",
       "        return fig.toolbar_button_onclick(event['data']);\n",
       "    }\n",
       "    function toolbar_mouse_event(event) {\n",
       "        return fig.toolbar_button_onmouseover(event['data']);\n",
       "    }\n",
       "\n",
       "    for(var toolbar_ind in mpl.toolbar_items) {\n",
       "        var name = mpl.toolbar_items[toolbar_ind][0];\n",
       "        var tooltip = mpl.toolbar_items[toolbar_ind][1];\n",
       "        var image = mpl.toolbar_items[toolbar_ind][2];\n",
       "        var method_name = mpl.toolbar_items[toolbar_ind][3];\n",
       "\n",
       "        if (!name) {\n",
       "            // put a spacer in here.\n",
       "            continue;\n",
       "        }\n",
       "        var button = $('<button/>');\n",
       "        button.addClass('ui-button ui-widget ui-state-default ui-corner-all ' +\n",
       "                        'ui-button-icon-only');\n",
       "        button.attr('role', 'button');\n",
       "        button.attr('aria-disabled', 'false');\n",
       "        button.click(method_name, toolbar_event);\n",
       "        button.mouseover(tooltip, toolbar_mouse_event);\n",
       "\n",
       "        var icon_img = $('<span/>');\n",
       "        icon_img.addClass('ui-button-icon-primary ui-icon');\n",
       "        icon_img.addClass(image);\n",
       "        icon_img.addClass('ui-corner-all');\n",
       "\n",
       "        var tooltip_span = $('<span/>');\n",
       "        tooltip_span.addClass('ui-button-text');\n",
       "        tooltip_span.html(tooltip);\n",
       "\n",
       "        button.append(icon_img);\n",
       "        button.append(tooltip_span);\n",
       "\n",
       "        nav_element.append(button);\n",
       "    }\n",
       "\n",
       "    var fmt_picker_span = $('<span/>');\n",
       "\n",
       "    var fmt_picker = $('<select/>');\n",
       "    fmt_picker.addClass('mpl-toolbar-option ui-widget ui-widget-content');\n",
       "    fmt_picker_span.append(fmt_picker);\n",
       "    nav_element.append(fmt_picker_span);\n",
       "    this.format_dropdown = fmt_picker[0];\n",
       "\n",
       "    for (var ind in mpl.extensions) {\n",
       "        var fmt = mpl.extensions[ind];\n",
       "        var option = $(\n",
       "            '<option/>', {selected: fmt === mpl.default_extension}).html(fmt);\n",
       "        fmt_picker.append(option)\n",
       "    }\n",
       "\n",
       "    // Add hover states to the ui-buttons\n",
       "    $( \".ui-button\" ).hover(\n",
       "        function() { $(this).addClass(\"ui-state-hover\");},\n",
       "        function() { $(this).removeClass(\"ui-state-hover\");}\n",
       "    );\n",
       "\n",
       "    var status_bar = $('<span class=\"mpl-message\"/>');\n",
       "    nav_element.append(status_bar);\n",
       "    this.message = status_bar[0];\n",
       "}\n",
       "\n",
       "mpl.figure.prototype.request_resize = function(x_pixels, y_pixels) {\n",
       "    // Request matplotlib to resize the figure. Matplotlib will then trigger a resize in the client,\n",
       "    // which will in turn request a refresh of the image.\n",
       "    this.send_message('resize', {'width': x_pixels, 'height': y_pixels});\n",
       "}\n",
       "\n",
       "mpl.figure.prototype.send_message = function(type, properties) {\n",
       "    properties['type'] = type;\n",
       "    properties['figure_id'] = this.id;\n",
       "    this.ws.send(JSON.stringify(properties));\n",
       "}\n",
       "\n",
       "mpl.figure.prototype.send_draw_message = function() {\n",
       "    if (!this.waiting) {\n",
       "        this.waiting = true;\n",
       "        this.ws.send(JSON.stringify({type: \"draw\", figure_id: this.id}));\n",
       "    }\n",
       "}\n",
       "\n",
       "\n",
       "mpl.figure.prototype.handle_save = function(fig, msg) {\n",
       "    var format_dropdown = fig.format_dropdown;\n",
       "    var format = format_dropdown.options[format_dropdown.selectedIndex].value;\n",
       "    fig.ondownload(fig, format);\n",
       "}\n",
       "\n",
       "\n",
       "mpl.figure.prototype.handle_resize = function(fig, msg) {\n",
       "    var size = msg['size'];\n",
       "    if (size[0] != fig.canvas.width || size[1] != fig.canvas.height) {\n",
       "        fig._resize_canvas(size[0], size[1]);\n",
       "        fig.send_message(\"refresh\", {});\n",
       "    };\n",
       "}\n",
       "\n",
       "mpl.figure.prototype.handle_rubberband = function(fig, msg) {\n",
       "    var x0 = msg['x0'];\n",
       "    var y0 = fig.canvas.height - msg['y0'];\n",
       "    var x1 = msg['x1'];\n",
       "    var y1 = fig.canvas.height - msg['y1'];\n",
       "    x0 = Math.floor(x0) + 0.5;\n",
       "    y0 = Math.floor(y0) + 0.5;\n",
       "    x1 = Math.floor(x1) + 0.5;\n",
       "    y1 = Math.floor(y1) + 0.5;\n",
       "    var min_x = Math.min(x0, x1);\n",
       "    var min_y = Math.min(y0, y1);\n",
       "    var width = Math.abs(x1 - x0);\n",
       "    var height = Math.abs(y1 - y0);\n",
       "\n",
       "    fig.rubberband_context.clearRect(\n",
       "        0, 0, fig.canvas.width, fig.canvas.height);\n",
       "\n",
       "    fig.rubberband_context.strokeRect(min_x, min_y, width, height);\n",
       "}\n",
       "\n",
       "mpl.figure.prototype.handle_figure_label = function(fig, msg) {\n",
       "    // Updates the figure title.\n",
       "    fig.header.textContent = msg['label'];\n",
       "}\n",
       "\n",
       "mpl.figure.prototype.handle_cursor = function(fig, msg) {\n",
       "    var cursor = msg['cursor'];\n",
       "    switch(cursor)\n",
       "    {\n",
       "    case 0:\n",
       "        cursor = 'pointer';\n",
       "        break;\n",
       "    case 1:\n",
       "        cursor = 'default';\n",
       "        break;\n",
       "    case 2:\n",
       "        cursor = 'crosshair';\n",
       "        break;\n",
       "    case 3:\n",
       "        cursor = 'move';\n",
       "        break;\n",
       "    }\n",
       "    fig.rubberband_canvas.style.cursor = cursor;\n",
       "}\n",
       "\n",
       "mpl.figure.prototype.handle_message = function(fig, msg) {\n",
       "    fig.message.textContent = msg['message'];\n",
       "}\n",
       "\n",
       "mpl.figure.prototype.handle_draw = function(fig, msg) {\n",
       "    // Request the server to send over a new figure.\n",
       "    fig.send_draw_message();\n",
       "}\n",
       "\n",
       "mpl.figure.prototype.handle_image_mode = function(fig, msg) {\n",
       "    fig.image_mode = msg['mode'];\n",
       "}\n",
       "\n",
       "mpl.figure.prototype.updated_canvas_event = function() {\n",
       "    // Called whenever the canvas gets updated.\n",
       "    this.send_message(\"ack\", {});\n",
       "}\n",
       "\n",
       "// A function to construct a web socket function for onmessage handling.\n",
       "// Called in the figure constructor.\n",
       "mpl.figure.prototype._make_on_message_function = function(fig) {\n",
       "    return function socket_on_message(evt) {\n",
       "        if (evt.data instanceof Blob) {\n",
       "            /* FIXME: We get \"Resource interpreted as Image but\n",
       "             * transferred with MIME type text/plain:\" errors on\n",
       "             * Chrome.  But how to set the MIME type?  It doesn't seem\n",
       "             * to be part of the websocket stream */\n",
       "            evt.data.type = \"image/png\";\n",
       "\n",
       "            /* Free the memory for the previous frames */\n",
       "            if (fig.imageObj.src) {\n",
       "                (window.URL || window.webkitURL).revokeObjectURL(\n",
       "                    fig.imageObj.src);\n",
       "            }\n",
       "\n",
       "            fig.imageObj.src = (window.URL || window.webkitURL).createObjectURL(\n",
       "                evt.data);\n",
       "            fig.updated_canvas_event();\n",
       "            fig.waiting = false;\n",
       "            return;\n",
       "        }\n",
       "        else if (typeof evt.data === 'string' && evt.data.slice(0, 21) == \"data:image/png;base64\") {\n",
       "            fig.imageObj.src = evt.data;\n",
       "            fig.updated_canvas_event();\n",
       "            fig.waiting = false;\n",
       "            return;\n",
       "        }\n",
       "\n",
       "        var msg = JSON.parse(evt.data);\n",
       "        var msg_type = msg['type'];\n",
       "\n",
       "        // Call the  \"handle_{type}\" callback, which takes\n",
       "        // the figure and JSON message as its only arguments.\n",
       "        try {\n",
       "            var callback = fig[\"handle_\" + msg_type];\n",
       "        } catch (e) {\n",
       "            console.log(\"No handler for the '\" + msg_type + \"' message type: \", msg);\n",
       "            return;\n",
       "        }\n",
       "\n",
       "        if (callback) {\n",
       "            try {\n",
       "                // console.log(\"Handling '\" + msg_type + \"' message: \", msg);\n",
       "                callback(fig, msg);\n",
       "            } catch (e) {\n",
       "                console.log(\"Exception inside the 'handler_\" + msg_type + \"' callback:\", e, e.stack, msg);\n",
       "            }\n",
       "        }\n",
       "    };\n",
       "}\n",
       "\n",
       "// from http://stackoverflow.com/questions/1114465/getting-mouse-location-in-canvas\n",
       "mpl.findpos = function(e) {\n",
       "    //this section is from http://www.quirksmode.org/js/events_properties.html\n",
       "    var targ;\n",
       "    if (!e)\n",
       "        e = window.event;\n",
       "    if (e.target)\n",
       "        targ = e.target;\n",
       "    else if (e.srcElement)\n",
       "        targ = e.srcElement;\n",
       "    if (targ.nodeType == 3) // defeat Safari bug\n",
       "        targ = targ.parentNode;\n",
       "\n",
       "    // jQuery normalizes the pageX and pageY\n",
       "    // pageX,Y are the mouse positions relative to the document\n",
       "    // offset() returns the position of the element relative to the document\n",
       "    var x = e.pageX - $(targ).offset().left;\n",
       "    var y = e.pageY - $(targ).offset().top;\n",
       "\n",
       "    return {\"x\": x, \"y\": y};\n",
       "};\n",
       "\n",
       "/*\n",
       " * return a copy of an object with only non-object keys\n",
       " * we need this to avoid circular references\n",
       " * http://stackoverflow.com/a/24161582/3208463\n",
       " */\n",
       "function simpleKeys (original) {\n",
       "  return Object.keys(original).reduce(function (obj, key) {\n",
       "    if (typeof original[key] !== 'object')\n",
       "        obj[key] = original[key]\n",
       "    return obj;\n",
       "  }, {});\n",
       "}\n",
       "\n",
       "mpl.figure.prototype.mouse_event = function(event, name) {\n",
       "    var canvas_pos = mpl.findpos(event)\n",
       "\n",
       "    if (name === 'button_press')\n",
       "    {\n",
       "        this.canvas.focus();\n",
       "        this.canvas_div.focus();\n",
       "    }\n",
       "\n",
       "    var x = canvas_pos.x;\n",
       "    var y = canvas_pos.y;\n",
       "\n",
       "    this.send_message(name, {x: x, y: y, button: event.button,\n",
       "                             step: event.step,\n",
       "                             guiEvent: simpleKeys(event)});\n",
       "\n",
       "    /* This prevents the web browser from automatically changing to\n",
       "     * the text insertion cursor when the button is pressed.  We want\n",
       "     * to control all of the cursor setting manually through the\n",
       "     * 'cursor' event from matplotlib */\n",
       "    event.preventDefault();\n",
       "    return false;\n",
       "}\n",
       "\n",
       "mpl.figure.prototype._key_event_extra = function(event, name) {\n",
       "    // Handle any extra behaviour associated with a key event\n",
       "}\n",
       "\n",
       "mpl.figure.prototype.key_event = function(event, name) {\n",
       "\n",
       "    // Prevent repeat events\n",
       "    if (name == 'key_press')\n",
       "    {\n",
       "        if (event.which === this._key)\n",
       "            return;\n",
       "        else\n",
       "            this._key = event.which;\n",
       "    }\n",
       "    if (name == 'key_release')\n",
       "        this._key = null;\n",
       "\n",
       "    var value = '';\n",
       "    if (event.ctrlKey && event.which != 17)\n",
       "        value += \"ctrl+\";\n",
       "    if (event.altKey && event.which != 18)\n",
       "        value += \"alt+\";\n",
       "    if (event.shiftKey && event.which != 16)\n",
       "        value += \"shift+\";\n",
       "\n",
       "    value += 'k';\n",
       "    value += event.which.toString();\n",
       "\n",
       "    this._key_event_extra(event, name);\n",
       "\n",
       "    this.send_message(name, {key: value,\n",
       "                             guiEvent: simpleKeys(event)});\n",
       "    return false;\n",
       "}\n",
       "\n",
       "mpl.figure.prototype.toolbar_button_onclick = function(name) {\n",
       "    if (name == 'download') {\n",
       "        this.handle_save(this, null);\n",
       "    } else {\n",
       "        this.send_message(\"toolbar_button\", {name: name});\n",
       "    }\n",
       "};\n",
       "\n",
       "mpl.figure.prototype.toolbar_button_onmouseover = function(tooltip) {\n",
       "    this.message.textContent = tooltip;\n",
       "};\n",
       "mpl.toolbar_items = [[\"Home\", \"Reset original view\", \"fa fa-home icon-home\", \"home\"], [\"Back\", \"Back to  previous view\", \"fa fa-arrow-left icon-arrow-left\", \"back\"], [\"Forward\", \"Forward to next view\", \"fa fa-arrow-right icon-arrow-right\", \"forward\"], [\"\", \"\", \"\", \"\"], [\"Pan\", \"Pan axes with left mouse, zoom with right\", \"fa fa-arrows icon-move\", \"pan\"], [\"Zoom\", \"Zoom to rectangle\", \"fa fa-square-o icon-check-empty\", \"zoom\"], [\"\", \"\", \"\", \"\"], [\"Download\", \"Download plot\", \"fa fa-floppy-o icon-save\", \"download\"]];\n",
       "\n",
       "mpl.extensions = [\"eps\", \"jpeg\", \"pdf\", \"png\", \"ps\", \"raw\", \"svg\", \"tif\"];\n",
       "\n",
       "mpl.default_extension = \"png\";var comm_websocket_adapter = function(comm) {\n",
       "    // Create a \"websocket\"-like object which calls the given IPython comm\n",
       "    // object with the appropriate methods. Currently this is a non binary\n",
       "    // socket, so there is still some room for performance tuning.\n",
       "    var ws = {};\n",
       "\n",
       "    ws.close = function() {\n",
       "        comm.close()\n",
       "    };\n",
       "    ws.send = function(m) {\n",
       "        //console.log('sending', m);\n",
       "        comm.send(m);\n",
       "    };\n",
       "    // Register the callback with on_msg.\n",
       "    comm.on_msg(function(msg) {\n",
       "        //console.log('receiving', msg['content']['data'], msg);\n",
       "        // Pass the mpl event to the overriden (by mpl) onmessage function.\n",
       "        ws.onmessage(msg['content']['data'])\n",
       "    });\n",
       "    return ws;\n",
       "}\n",
       "\n",
       "mpl.mpl_figure_comm = function(comm, msg) {\n",
       "    // This is the function which gets called when the mpl process\n",
       "    // starts-up an IPython Comm through the \"matplotlib\" channel.\n",
       "\n",
       "    var id = msg.content.data.id;\n",
       "    // Get hold of the div created by the display call when the Comm\n",
       "    // socket was opened in Python.\n",
       "    var element = $(\"#\" + id);\n",
       "    var ws_proxy = comm_websocket_adapter(comm)\n",
       "\n",
       "    function ondownload(figure, format) {\n",
       "        window.open(figure.imageObj.src);\n",
       "    }\n",
       "\n",
       "    var fig = new mpl.figure(id, ws_proxy,\n",
       "                           ondownload,\n",
       "                           element.get(0));\n",
       "\n",
       "    // Call onopen now - mpl needs it, as it is assuming we've passed it a real\n",
       "    // web socket which is closed, not our websocket->open comm proxy.\n",
       "    ws_proxy.onopen();\n",
       "\n",
       "    fig.parent_element = element.get(0);\n",
       "    fig.cell_info = mpl.find_output_cell(\"<div id='\" + id + \"'></div>\");\n",
       "    if (!fig.cell_info) {\n",
       "        console.error(\"Failed to find cell for figure\", id, fig);\n",
       "        return;\n",
       "    }\n",
       "\n",
       "    var output_index = fig.cell_info[2]\n",
       "    var cell = fig.cell_info[0];\n",
       "\n",
       "};\n",
       "\n",
       "mpl.figure.prototype.handle_close = function(fig, msg) {\n",
       "    fig.root.unbind('remove')\n",
       "\n",
       "    // Update the output cell to use the data from the current canvas.\n",
       "    fig.push_to_output();\n",
       "    var dataURL = fig.canvas.toDataURL();\n",
       "    // Re-enable the keyboard manager in IPython - without this line, in FF,\n",
       "    // the notebook keyboard shortcuts fail.\n",
       "    IPython.keyboard_manager.enable()\n",
       "    $(fig.parent_element).html('<img src=\"' + dataURL + '\">');\n",
       "    fig.close_ws(fig, msg);\n",
       "}\n",
       "\n",
       "mpl.figure.prototype.close_ws = function(fig, msg){\n",
       "    fig.send_message('closing', msg);\n",
       "    // fig.ws.close()\n",
       "}\n",
       "\n",
       "mpl.figure.prototype.push_to_output = function(remove_interactive) {\n",
       "    // Turn the data on the canvas into data in the output cell.\n",
       "    var dataURL = this.canvas.toDataURL();\n",
       "    this.cell_info[1]['text/html'] = '<img src=\"' + dataURL + '\">';\n",
       "}\n",
       "\n",
       "mpl.figure.prototype.updated_canvas_event = function() {\n",
       "    // Tell IPython that the notebook contents must change.\n",
       "    IPython.notebook.set_dirty(true);\n",
       "    this.send_message(\"ack\", {});\n",
       "    var fig = this;\n",
       "    // Wait a second, then push the new image to the DOM so\n",
       "    // that it is saved nicely (might be nice to debounce this).\n",
       "    setTimeout(function () { fig.push_to_output() }, 1000);\n",
       "}\n",
       "\n",
       "mpl.figure.prototype._init_toolbar = function() {\n",
       "    var fig = this;\n",
       "\n",
       "    var nav_element = $('<div/>')\n",
       "    nav_element.attr('style', 'width: 100%');\n",
       "    this.root.append(nav_element);\n",
       "\n",
       "    // Define a callback function for later on.\n",
       "    function toolbar_event(event) {\n",
       "        return fig.toolbar_button_onclick(event['data']);\n",
       "    }\n",
       "    function toolbar_mouse_event(event) {\n",
       "        return fig.toolbar_button_onmouseover(event['data']);\n",
       "    }\n",
       "\n",
       "    for(var toolbar_ind in mpl.toolbar_items){\n",
       "        var name = mpl.toolbar_items[toolbar_ind][0];\n",
       "        var tooltip = mpl.toolbar_items[toolbar_ind][1];\n",
       "        var image = mpl.toolbar_items[toolbar_ind][2];\n",
       "        var method_name = mpl.toolbar_items[toolbar_ind][3];\n",
       "\n",
       "        if (!name) { continue; };\n",
       "\n",
       "        var button = $('<button class=\"btn btn-default\" href=\"#\" title=\"' + name + '\"><i class=\"fa ' + image + ' fa-lg\"></i></button>');\n",
       "        button.click(method_name, toolbar_event);\n",
       "        button.mouseover(tooltip, toolbar_mouse_event);\n",
       "        nav_element.append(button);\n",
       "    }\n",
       "\n",
       "    // Add the status bar.\n",
       "    var status_bar = $('<span class=\"mpl-message\" style=\"text-align:right; float: right;\"/>');\n",
       "    nav_element.append(status_bar);\n",
       "    this.message = status_bar[0];\n",
       "\n",
       "    // Add the close button to the window.\n",
       "    var buttongrp = $('<div class=\"btn-group inline pull-right\"></div>');\n",
       "    var button = $('<button class=\"btn btn-mini btn-primary\" href=\"#\" title=\"Stop Interaction\"><i class=\"fa fa-power-off icon-remove icon-large\"></i></button>');\n",
       "    button.click(function (evt) { fig.handle_close(fig, {}); } );\n",
       "    button.mouseover('Stop Interaction', toolbar_mouse_event);\n",
       "    buttongrp.append(button);\n",
       "    var titlebar = this.root.find($('.ui-dialog-titlebar'));\n",
       "    titlebar.prepend(buttongrp);\n",
       "}\n",
       "\n",
       "mpl.figure.prototype._root_extra_style = function(el){\n",
       "    var fig = this\n",
       "    el.on(\"remove\", function(){\n",
       "\tfig.close_ws(fig, {});\n",
       "    });\n",
       "}\n",
       "\n",
       "mpl.figure.prototype._canvas_extra_style = function(el){\n",
       "    // this is important to make the div 'focusable\n",
       "    el.attr('tabindex', 0)\n",
       "    // reach out to IPython and tell the keyboard manager to turn it's self\n",
       "    // off when our div gets focus\n",
       "\n",
       "    // location in version 3\n",
       "    if (IPython.notebook.keyboard_manager) {\n",
       "        IPython.notebook.keyboard_manager.register_events(el);\n",
       "    }\n",
       "    else {\n",
       "        // location in version 2\n",
       "        IPython.keyboard_manager.register_events(el);\n",
       "    }\n",
       "\n",
       "}\n",
       "\n",
       "mpl.figure.prototype._key_event_extra = function(event, name) {\n",
       "    var manager = IPython.notebook.keyboard_manager;\n",
       "    if (!manager)\n",
       "        manager = IPython.keyboard_manager;\n",
       "\n",
       "    // Check for shift+enter\n",
       "    if (event.shiftKey && event.which == 13) {\n",
       "        this.canvas_div.blur();\n",
       "        event.shiftKey = false;\n",
       "        // Send a \"J\" for go to next cell\n",
       "        event.which = 74;\n",
       "        event.keyCode = 74;\n",
       "        manager.command_mode();\n",
       "        manager.handle_keydown(event);\n",
       "    }\n",
       "}\n",
       "\n",
       "mpl.figure.prototype.handle_save = function(fig, msg) {\n",
       "    fig.ondownload(fig, null);\n",
       "}\n",
       "\n",
       "\n",
       "mpl.find_output_cell = function(html_output) {\n",
       "    // Return the cell and output element which can be found *uniquely* in the notebook.\n",
       "    // Note - this is a bit hacky, but it is done because the \"notebook_saving.Notebook\"\n",
       "    // IPython event is triggered only after the cells have been serialised, which for\n",
       "    // our purposes (turning an active figure into a static one), is too late.\n",
       "    var cells = IPython.notebook.get_cells();\n",
       "    var ncells = cells.length;\n",
       "    for (var i=0; i<ncells; i++) {\n",
       "        var cell = cells[i];\n",
       "        if (cell.cell_type === 'code'){\n",
       "            for (var j=0; j<cell.output_area.outputs.length; j++) {\n",
       "                var data = cell.output_area.outputs[j];\n",
       "                if (data.data) {\n",
       "                    // IPython >= 3 moved mimebundle to data attribute of output\n",
       "                    data = data.data;\n",
       "                }\n",
       "                if (data['text/html'] == html_output) {\n",
       "                    return [cell, data, j];\n",
       "                }\n",
       "            }\n",
       "        }\n",
       "    }\n",
       "}\n",
       "\n",
       "// Register the function which deals with the matplotlib target/channel.\n",
       "// The kernel may be null if the page has been refreshed.\n",
       "if (IPython.notebook.kernel != null) {\n",
       "    IPython.notebook.kernel.comm_manager.register_target('matplotlib', mpl.mpl_figure_comm);\n",
       "}\n"
      ],
      "text/plain": [
       "<IPython.core.display.Javascript object>"
      ]
     },
     "metadata": {},
     "output_type": "display_data"
    },
    {
     "data": {
      "text/html": [
       "<img src=\"data:image/png;base64,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\">"
      ],
      "text/plain": [
       "<IPython.core.display.HTML object>"
      ]
     },
     "metadata": {},
     "output_type": "display_data"
    },
    {
     "data": {
      "text/plain": [
       "<sympy.plotting.plot.Plot at 0x10ff52710>"
      ]
     },
     "execution_count": 168,
     "metadata": {},
     "output_type": "execute_result"
    }
   ],
   "source": [
    "sympy.plot(f, (t, 0.1, 10))"
   ]
  },
  {
   "cell_type": "code",
   "execution_count": 137,
   "metadata": {
    "collapsed": true
   },
   "outputs": [],
   "source": [
    "import numpy"
   ]
  },
  {
   "cell_type": "code",
   "execution_count": 169,
   "metadata": {
    "collapsed": true
   },
   "outputs": [],
   "source": [
    "omega = numpy.logspace(-1, 2)"
   ]
  },
  {
   "cell_type": "code",
   "execution_count": 170,
   "metadata": {
    "collapsed": true
   },
   "outputs": [],
   "source": [
    "s = 1j*omega"
   ]
  },
  {
   "cell_type": "code",
   "execution_count": 175,
   "metadata": {
    "collapsed": false
   },
   "outputs": [],
   "source": [
    "mag = numpy.abs(G(s))\n",
    "phase = numpy.angle(G(s))"
   ]
  },
  {
   "cell_type": "code",
   "execution_count": 176,
   "metadata": {
    "collapsed": true
   },
   "outputs": [],
   "source": [
    "import matplotlib.pyplot as plt"
   ]
  },
  {
   "cell_type": "code",
   "execution_count": 177,
   "metadata": {
    "collapsed": true
   },
   "outputs": [],
   "source": [
    "%matplotlib notebook"
   ]
  },
  {
   "cell_type": "code",
   "execution_count": 178,
   "metadata": {
    "collapsed": false
   },
   "outputs": [
    {
     "data": {
      "application/javascript": [
       "/* Put everything inside the global mpl namespace */\n",
       "window.mpl = {};\n",
       "\n",
       "mpl.get_websocket_type = function() {\n",
       "    if (typeof(WebSocket) !== 'undefined') {\n",
       "        return WebSocket;\n",
       "    } else if (typeof(MozWebSocket) !== 'undefined') {\n",
       "        return MozWebSocket;\n",
       "    } else {\n",
       "        alert('Your browser does not have WebSocket support.' +\n",
       "              'Please try Chrome, Safari or Firefox ≥ 6. ' +\n",
       "              'Firefox 4 and 5 are also supported but you ' +\n",
       "              'have to enable WebSockets in about:config.');\n",
       "    };\n",
       "}\n",
       "\n",
       "mpl.figure = function(figure_id, websocket, ondownload, parent_element) {\n",
       "    this.id = figure_id;\n",
       "\n",
       "    this.ws = websocket;\n",
       "\n",
       "    this.supports_binary = (this.ws.binaryType != undefined);\n",
       "\n",
       "    if (!this.supports_binary) {\n",
       "        var warnings = document.getElementById(\"mpl-warnings\");\n",
       "        if (warnings) {\n",
       "            warnings.style.display = 'block';\n",
       "            warnings.textContent = (\n",
       "                \"This browser does not support binary websocket messages. \" +\n",
       "                    \"Performance may be slow.\");\n",
       "        }\n",
       "    }\n",
       "\n",
       "    this.imageObj = new Image();\n",
       "\n",
       "    this.context = undefined;\n",
       "    this.message = undefined;\n",
       "    this.canvas = undefined;\n",
       "    this.rubberband_canvas = undefined;\n",
       "    this.rubberband_context = undefined;\n",
       "    this.format_dropdown = undefined;\n",
       "\n",
       "    this.image_mode = 'full';\n",
       "\n",
       "    this.root = $('<div/>');\n",
       "    this._root_extra_style(this.root)\n",
       "    this.root.attr('style', 'display: inline-block');\n",
       "\n",
       "    $(parent_element).append(this.root);\n",
       "\n",
       "    this._init_header(this);\n",
       "    this._init_canvas(this);\n",
       "    this._init_toolbar(this);\n",
       "\n",
       "    var fig = this;\n",
       "\n",
       "    this.waiting = false;\n",
       "\n",
       "    this.ws.onopen =  function () {\n",
       "            fig.send_message(\"supports_binary\", {value: fig.supports_binary});\n",
       "            fig.send_message(\"send_image_mode\", {});\n",
       "            fig.send_message(\"refresh\", {});\n",
       "        }\n",
       "\n",
       "    this.imageObj.onload = function() {\n",
       "            if (fig.image_mode == 'full') {\n",
       "                // Full images could contain transparency (where diff images\n",
       "                // almost always do), so we need to clear the canvas so that\n",
       "                // there is no ghosting.\n",
       "                fig.context.clearRect(0, 0, fig.canvas.width, fig.canvas.height);\n",
       "            }\n",
       "            fig.context.drawImage(fig.imageObj, 0, 0);\n",
       "        };\n",
       "\n",
       "    this.imageObj.onunload = function() {\n",
       "        this.ws.close();\n",
       "    }\n",
       "\n",
       "    this.ws.onmessage = this._make_on_message_function(this);\n",
       "\n",
       "    this.ondownload = ondownload;\n",
       "}\n",
       "\n",
       "mpl.figure.prototype._init_header = function() {\n",
       "    var titlebar = $(\n",
       "        '<div class=\"ui-dialog-titlebar ui-widget-header ui-corner-all ' +\n",
       "        'ui-helper-clearfix\"/>');\n",
       "    var titletext = $(\n",
       "        '<div class=\"ui-dialog-title\" style=\"width: 100%; ' +\n",
       "        'text-align: center; padding: 3px;\"/>');\n",
       "    titlebar.append(titletext)\n",
       "    this.root.append(titlebar);\n",
       "    this.header = titletext[0];\n",
       "}\n",
       "\n",
       "\n",
       "\n",
       "mpl.figure.prototype._canvas_extra_style = function(canvas_div) {\n",
       "\n",
       "}\n",
       "\n",
       "\n",
       "mpl.figure.prototype._root_extra_style = function(canvas_div) {\n",
       "\n",
       "}\n",
       "\n",
       "mpl.figure.prototype._init_canvas = function() {\n",
       "    var fig = this;\n",
       "\n",
       "    var canvas_div = $('<div/>');\n",
       "\n",
       "    canvas_div.attr('style', 'position: relative; clear: both; outline: 0');\n",
       "\n",
       "    function canvas_keyboard_event(event) {\n",
       "        return fig.key_event(event, event['data']);\n",
       "    }\n",
       "\n",
       "    canvas_div.keydown('key_press', canvas_keyboard_event);\n",
       "    canvas_div.keyup('key_release', canvas_keyboard_event);\n",
       "    this.canvas_div = canvas_div\n",
       "    this._canvas_extra_style(canvas_div)\n",
       "    this.root.append(canvas_div);\n",
       "\n",
       "    var canvas = $('<canvas/>');\n",
       "    canvas.addClass('mpl-canvas');\n",
       "    canvas.attr('style', \"left: 0; top: 0; z-index: 0; outline: 0\")\n",
       "\n",
       "    this.canvas = canvas[0];\n",
       "    this.context = canvas[0].getContext(\"2d\");\n",
       "\n",
       "    var rubberband = $('<canvas/>');\n",
       "    rubberband.attr('style', \"position: absolute; left: 0; top: 0; z-index: 1;\")\n",
       "\n",
       "    var pass_mouse_events = true;\n",
       "\n",
       "    canvas_div.resizable({\n",
       "        start: function(event, ui) {\n",
       "            pass_mouse_events = false;\n",
       "        },\n",
       "        resize: function(event, ui) {\n",
       "            fig.request_resize(ui.size.width, ui.size.height);\n",
       "        },\n",
       "        stop: function(event, ui) {\n",
       "            pass_mouse_events = true;\n",
       "            fig.request_resize(ui.size.width, ui.size.height);\n",
       "        },\n",
       "    });\n",
       "\n",
       "    function mouse_event_fn(event) {\n",
       "        if (pass_mouse_events)\n",
       "            return fig.mouse_event(event, event['data']);\n",
       "    }\n",
       "\n",
       "    rubberband.mousedown('button_press', mouse_event_fn);\n",
       "    rubberband.mouseup('button_release', mouse_event_fn);\n",
       "    // Throttle sequential mouse events to 1 every 20ms.\n",
       "    rubberband.mousemove('motion_notify', mouse_event_fn);\n",
       "\n",
       "    rubberband.mouseenter('figure_enter', mouse_event_fn);\n",
       "    rubberband.mouseleave('figure_leave', mouse_event_fn);\n",
       "\n",
       "    canvas_div.on(\"wheel\", function (event) {\n",
       "        event = event.originalEvent;\n",
       "        event['data'] = 'scroll'\n",
       "        if (event.deltaY < 0) {\n",
       "            event.step = 1;\n",
       "        } else {\n",
       "            event.step = -1;\n",
       "        }\n",
       "        mouse_event_fn(event);\n",
       "    });\n",
       "\n",
       "    canvas_div.append(canvas);\n",
       "    canvas_div.append(rubberband);\n",
       "\n",
       "    this.rubberband = rubberband;\n",
       "    this.rubberband_canvas = rubberband[0];\n",
       "    this.rubberband_context = rubberband[0].getContext(\"2d\");\n",
       "    this.rubberband_context.strokeStyle = \"#000000\";\n",
       "\n",
       "    this._resize_canvas = function(width, height) {\n",
       "        // Keep the size of the canvas, canvas container, and rubber band\n",
       "        // canvas in synch.\n",
       "        canvas_div.css('width', width)\n",
       "        canvas_div.css('height', height)\n",
       "\n",
       "        canvas.attr('width', width);\n",
       "        canvas.attr('height', height);\n",
       "\n",
       "        rubberband.attr('width', width);\n",
       "        rubberband.attr('height', height);\n",
       "    }\n",
       "\n",
       "    // Set the figure to an initial 600x600px, this will subsequently be updated\n",
       "    // upon first draw.\n",
       "    this._resize_canvas(600, 600);\n",
       "\n",
       "    // Disable right mouse context menu.\n",
       "    $(this.rubberband_canvas).bind(\"contextmenu\",function(e){\n",
       "        return false;\n",
       "    });\n",
       "\n",
       "    function set_focus () {\n",
       "        canvas.focus();\n",
       "        canvas_div.focus();\n",
       "    }\n",
       "\n",
       "    window.setTimeout(set_focus, 100);\n",
       "}\n",
       "\n",
       "mpl.figure.prototype._init_toolbar = function() {\n",
       "    var fig = this;\n",
       "\n",
       "    var nav_element = $('<div/>')\n",
       "    nav_element.attr('style', 'width: 100%');\n",
       "    this.root.append(nav_element);\n",
       "\n",
       "    // Define a callback function for later on.\n",
       "    function toolbar_event(event) {\n",
       "        return fig.toolbar_button_onclick(event['data']);\n",
       "    }\n",
       "    function toolbar_mouse_event(event) {\n",
       "        return fig.toolbar_button_onmouseover(event['data']);\n",
       "    }\n",
       "\n",
       "    for(var toolbar_ind in mpl.toolbar_items) {\n",
       "        var name = mpl.toolbar_items[toolbar_ind][0];\n",
       "        var tooltip = mpl.toolbar_items[toolbar_ind][1];\n",
       "        var image = mpl.toolbar_items[toolbar_ind][2];\n",
       "        var method_name = mpl.toolbar_items[toolbar_ind][3];\n",
       "\n",
       "        if (!name) {\n",
       "            // put a spacer in here.\n",
       "            continue;\n",
       "        }\n",
       "        var button = $('<button/>');\n",
       "        button.addClass('ui-button ui-widget ui-state-default ui-corner-all ' +\n",
       "                        'ui-button-icon-only');\n",
       "        button.attr('role', 'button');\n",
       "        button.attr('aria-disabled', 'false');\n",
       "        button.click(method_name, toolbar_event);\n",
       "        button.mouseover(tooltip, toolbar_mouse_event);\n",
       "\n",
       "        var icon_img = $('<span/>');\n",
       "        icon_img.addClass('ui-button-icon-primary ui-icon');\n",
       "        icon_img.addClass(image);\n",
       "        icon_img.addClass('ui-corner-all');\n",
       "\n",
       "        var tooltip_span = $('<span/>');\n",
       "        tooltip_span.addClass('ui-button-text');\n",
       "        tooltip_span.html(tooltip);\n",
       "\n",
       "        button.append(icon_img);\n",
       "        button.append(tooltip_span);\n",
       "\n",
       "        nav_element.append(button);\n",
       "    }\n",
       "\n",
       "    var fmt_picker_span = $('<span/>');\n",
       "\n",
       "    var fmt_picker = $('<select/>');\n",
       "    fmt_picker.addClass('mpl-toolbar-option ui-widget ui-widget-content');\n",
       "    fmt_picker_span.append(fmt_picker);\n",
       "    nav_element.append(fmt_picker_span);\n",
       "    this.format_dropdown = fmt_picker[0];\n",
       "\n",
       "    for (var ind in mpl.extensions) {\n",
       "        var fmt = mpl.extensions[ind];\n",
       "        var option = $(\n",
       "            '<option/>', {selected: fmt === mpl.default_extension}).html(fmt);\n",
       "        fmt_picker.append(option)\n",
       "    }\n",
       "\n",
       "    // Add hover states to the ui-buttons\n",
       "    $( \".ui-button\" ).hover(\n",
       "        function() { $(this).addClass(\"ui-state-hover\");},\n",
       "        function() { $(this).removeClass(\"ui-state-hover\");}\n",
       "    );\n",
       "\n",
       "    var status_bar = $('<span class=\"mpl-message\"/>');\n",
       "    nav_element.append(status_bar);\n",
       "    this.message = status_bar[0];\n",
       "}\n",
       "\n",
       "mpl.figure.prototype.request_resize = function(x_pixels, y_pixels) {\n",
       "    // Request matplotlib to resize the figure. Matplotlib will then trigger a resize in the client,\n",
       "    // which will in turn request a refresh of the image.\n",
       "    this.send_message('resize', {'width': x_pixels, 'height': y_pixels});\n",
       "}\n",
       "\n",
       "mpl.figure.prototype.send_message = function(type, properties) {\n",
       "    properties['type'] = type;\n",
       "    properties['figure_id'] = this.id;\n",
       "    this.ws.send(JSON.stringify(properties));\n",
       "}\n",
       "\n",
       "mpl.figure.prototype.send_draw_message = function() {\n",
       "    if (!this.waiting) {\n",
       "        this.waiting = true;\n",
       "        this.ws.send(JSON.stringify({type: \"draw\", figure_id: this.id}));\n",
       "    }\n",
       "}\n",
       "\n",
       "\n",
       "mpl.figure.prototype.handle_save = function(fig, msg) {\n",
       "    var format_dropdown = fig.format_dropdown;\n",
       "    var format = format_dropdown.options[format_dropdown.selectedIndex].value;\n",
       "    fig.ondownload(fig, format);\n",
       "}\n",
       "\n",
       "\n",
       "mpl.figure.prototype.handle_resize = function(fig, msg) {\n",
       "    var size = msg['size'];\n",
       "    if (size[0] != fig.canvas.width || size[1] != fig.canvas.height) {\n",
       "        fig._resize_canvas(size[0], size[1]);\n",
       "        fig.send_message(\"refresh\", {});\n",
       "    };\n",
       "}\n",
       "\n",
       "mpl.figure.prototype.handle_rubberband = function(fig, msg) {\n",
       "    var x0 = msg['x0'];\n",
       "    var y0 = fig.canvas.height - msg['y0'];\n",
       "    var x1 = msg['x1'];\n",
       "    var y1 = fig.canvas.height - msg['y1'];\n",
       "    x0 = Math.floor(x0) + 0.5;\n",
       "    y0 = Math.floor(y0) + 0.5;\n",
       "    x1 = Math.floor(x1) + 0.5;\n",
       "    y1 = Math.floor(y1) + 0.5;\n",
       "    var min_x = Math.min(x0, x1);\n",
       "    var min_y = Math.min(y0, y1);\n",
       "    var width = Math.abs(x1 - x0);\n",
       "    var height = Math.abs(y1 - y0);\n",
       "\n",
       "    fig.rubberband_context.clearRect(\n",
       "        0, 0, fig.canvas.width, fig.canvas.height);\n",
       "\n",
       "    fig.rubberband_context.strokeRect(min_x, min_y, width, height);\n",
       "}\n",
       "\n",
       "mpl.figure.prototype.handle_figure_label = function(fig, msg) {\n",
       "    // Updates the figure title.\n",
       "    fig.header.textContent = msg['label'];\n",
       "}\n",
       "\n",
       "mpl.figure.prototype.handle_cursor = function(fig, msg) {\n",
       "    var cursor = msg['cursor'];\n",
       "    switch(cursor)\n",
       "    {\n",
       "    case 0:\n",
       "        cursor = 'pointer';\n",
       "        break;\n",
       "    case 1:\n",
       "        cursor = 'default';\n",
       "        break;\n",
       "    case 2:\n",
       "        cursor = 'crosshair';\n",
       "        break;\n",
       "    case 3:\n",
       "        cursor = 'move';\n",
       "        break;\n",
       "    }\n",
       "    fig.rubberband_canvas.style.cursor = cursor;\n",
       "}\n",
       "\n",
       "mpl.figure.prototype.handle_message = function(fig, msg) {\n",
       "    fig.message.textContent = msg['message'];\n",
       "}\n",
       "\n",
       "mpl.figure.prototype.handle_draw = function(fig, msg) {\n",
       "    // Request the server to send over a new figure.\n",
       "    fig.send_draw_message();\n",
       "}\n",
       "\n",
       "mpl.figure.prototype.handle_image_mode = function(fig, msg) {\n",
       "    fig.image_mode = msg['mode'];\n",
       "}\n",
       "\n",
       "mpl.figure.prototype.updated_canvas_event = function() {\n",
       "    // Called whenever the canvas gets updated.\n",
       "    this.send_message(\"ack\", {});\n",
       "}\n",
       "\n",
       "// A function to construct a web socket function for onmessage handling.\n",
       "// Called in the figure constructor.\n",
       "mpl.figure.prototype._make_on_message_function = function(fig) {\n",
       "    return function socket_on_message(evt) {\n",
       "        if (evt.data instanceof Blob) {\n",
       "            /* FIXME: We get \"Resource interpreted as Image but\n",
       "             * transferred with MIME type text/plain:\" errors on\n",
       "             * Chrome.  But how to set the MIME type?  It doesn't seem\n",
       "             * to be part of the websocket stream */\n",
       "            evt.data.type = \"image/png\";\n",
       "\n",
       "            /* Free the memory for the previous frames */\n",
       "            if (fig.imageObj.src) {\n",
       "                (window.URL || window.webkitURL).revokeObjectURL(\n",
       "                    fig.imageObj.src);\n",
       "            }\n",
       "\n",
       "            fig.imageObj.src = (window.URL || window.webkitURL).createObjectURL(\n",
       "                evt.data);\n",
       "            fig.updated_canvas_event();\n",
       "            fig.waiting = false;\n",
       "            return;\n",
       "        }\n",
       "        else if (typeof evt.data === 'string' && evt.data.slice(0, 21) == \"data:image/png;base64\") {\n",
       "            fig.imageObj.src = evt.data;\n",
       "            fig.updated_canvas_event();\n",
       "            fig.waiting = false;\n",
       "            return;\n",
       "        }\n",
       "\n",
       "        var msg = JSON.parse(evt.data);\n",
       "        var msg_type = msg['type'];\n",
       "\n",
       "        // Call the  \"handle_{type}\" callback, which takes\n",
       "        // the figure and JSON message as its only arguments.\n",
       "        try {\n",
       "            var callback = fig[\"handle_\" + msg_type];\n",
       "        } catch (e) {\n",
       "            console.log(\"No handler for the '\" + msg_type + \"' message type: \", msg);\n",
       "            return;\n",
       "        }\n",
       "\n",
       "        if (callback) {\n",
       "            try {\n",
       "                // console.log(\"Handling '\" + msg_type + \"' message: \", msg);\n",
       "                callback(fig, msg);\n",
       "            } catch (e) {\n",
       "                console.log(\"Exception inside the 'handler_\" + msg_type + \"' callback:\", e, e.stack, msg);\n",
       "            }\n",
       "        }\n",
       "    };\n",
       "}\n",
       "\n",
       "// from http://stackoverflow.com/questions/1114465/getting-mouse-location-in-canvas\n",
       "mpl.findpos = function(e) {\n",
       "    //this section is from http://www.quirksmode.org/js/events_properties.html\n",
       "    var targ;\n",
       "    if (!e)\n",
       "        e = window.event;\n",
       "    if (e.target)\n",
       "        targ = e.target;\n",
       "    else if (e.srcElement)\n",
       "        targ = e.srcElement;\n",
       "    if (targ.nodeType == 3) // defeat Safari bug\n",
       "        targ = targ.parentNode;\n",
       "\n",
       "    // jQuery normalizes the pageX and pageY\n",
       "    // pageX,Y are the mouse positions relative to the document\n",
       "    // offset() returns the position of the element relative to the document\n",
       "    var x = e.pageX - $(targ).offset().left;\n",
       "    var y = e.pageY - $(targ).offset().top;\n",
       "\n",
       "    return {\"x\": x, \"y\": y};\n",
       "};\n",
       "\n",
       "/*\n",
       " * return a copy of an object with only non-object keys\n",
       " * we need this to avoid circular references\n",
       " * http://stackoverflow.com/a/24161582/3208463\n",
       " */\n",
       "function simpleKeys (original) {\n",
       "  return Object.keys(original).reduce(function (obj, key) {\n",
       "    if (typeof original[key] !== 'object')\n",
       "        obj[key] = original[key]\n",
       "    return obj;\n",
       "  }, {});\n",
       "}\n",
       "\n",
       "mpl.figure.prototype.mouse_event = function(event, name) {\n",
       "    var canvas_pos = mpl.findpos(event)\n",
       "\n",
       "    if (name === 'button_press')\n",
       "    {\n",
       "        this.canvas.focus();\n",
       "        this.canvas_div.focus();\n",
       "    }\n",
       "\n",
       "    var x = canvas_pos.x;\n",
       "    var y = canvas_pos.y;\n",
       "\n",
       "    this.send_message(name, {x: x, y: y, button: event.button,\n",
       "                             step: event.step,\n",
       "                             guiEvent: simpleKeys(event)});\n",
       "\n",
       "    /* This prevents the web browser from automatically changing to\n",
       "     * the text insertion cursor when the button is pressed.  We want\n",
       "     * to control all of the cursor setting manually through the\n",
       "     * 'cursor' event from matplotlib */\n",
       "    event.preventDefault();\n",
       "    return false;\n",
       "}\n",
       "\n",
       "mpl.figure.prototype._key_event_extra = function(event, name) {\n",
       "    // Handle any extra behaviour associated with a key event\n",
       "}\n",
       "\n",
       "mpl.figure.prototype.key_event = function(event, name) {\n",
       "\n",
       "    // Prevent repeat events\n",
       "    if (name == 'key_press')\n",
       "    {\n",
       "        if (event.which === this._key)\n",
       "            return;\n",
       "        else\n",
       "            this._key = event.which;\n",
       "    }\n",
       "    if (name == 'key_release')\n",
       "        this._key = null;\n",
       "\n",
       "    var value = '';\n",
       "    if (event.ctrlKey && event.which != 17)\n",
       "        value += \"ctrl+\";\n",
       "    if (event.altKey && event.which != 18)\n",
       "        value += \"alt+\";\n",
       "    if (event.shiftKey && event.which != 16)\n",
       "        value += \"shift+\";\n",
       "\n",
       "    value += 'k';\n",
       "    value += event.which.toString();\n",
       "\n",
       "    this._key_event_extra(event, name);\n",
       "\n",
       "    this.send_message(name, {key: value,\n",
       "                             guiEvent: simpleKeys(event)});\n",
       "    return false;\n",
       "}\n",
       "\n",
       "mpl.figure.prototype.toolbar_button_onclick = function(name) {\n",
       "    if (name == 'download') {\n",
       "        this.handle_save(this, null);\n",
       "    } else {\n",
       "        this.send_message(\"toolbar_button\", {name: name});\n",
       "    }\n",
       "};\n",
       "\n",
       "mpl.figure.prototype.toolbar_button_onmouseover = function(tooltip) {\n",
       "    this.message.textContent = tooltip;\n",
       "};\n",
       "mpl.toolbar_items = [[\"Home\", \"Reset original view\", \"fa fa-home icon-home\", \"home\"], [\"Back\", \"Back to  previous view\", \"fa fa-arrow-left icon-arrow-left\", \"back\"], [\"Forward\", \"Forward to next view\", \"fa fa-arrow-right icon-arrow-right\", \"forward\"], [\"\", \"\", \"\", \"\"], [\"Pan\", \"Pan axes with left mouse, zoom with right\", \"fa fa-arrows icon-move\", \"pan\"], [\"Zoom\", \"Zoom to rectangle\", \"fa fa-square-o icon-check-empty\", \"zoom\"], [\"\", \"\", \"\", \"\"], [\"Download\", \"Download plot\", \"fa fa-floppy-o icon-save\", \"download\"]];\n",
       "\n",
       "mpl.extensions = [\"eps\", \"jpeg\", \"pdf\", \"png\", \"ps\", \"raw\", \"svg\", \"tif\"];\n",
       "\n",
       "mpl.default_extension = \"png\";var comm_websocket_adapter = function(comm) {\n",
       "    // Create a \"websocket\"-like object which calls the given IPython comm\n",
       "    // object with the appropriate methods. Currently this is a non binary\n",
       "    // socket, so there is still some room for performance tuning.\n",
       "    var ws = {};\n",
       "\n",
       "    ws.close = function() {\n",
       "        comm.close()\n",
       "    };\n",
       "    ws.send = function(m) {\n",
       "        //console.log('sending', m);\n",
       "        comm.send(m);\n",
       "    };\n",
       "    // Register the callback with on_msg.\n",
       "    comm.on_msg(function(msg) {\n",
       "        //console.log('receiving', msg['content']['data'], msg);\n",
       "        // Pass the mpl event to the overriden (by mpl) onmessage function.\n",
       "        ws.onmessage(msg['content']['data'])\n",
       "    });\n",
       "    return ws;\n",
       "}\n",
       "\n",
       "mpl.mpl_figure_comm = function(comm, msg) {\n",
       "    // This is the function which gets called when the mpl process\n",
       "    // starts-up an IPython Comm through the \"matplotlib\" channel.\n",
       "\n",
       "    var id = msg.content.data.id;\n",
       "    // Get hold of the div created by the display call when the Comm\n",
       "    // socket was opened in Python.\n",
       "    var element = $(\"#\" + id);\n",
       "    var ws_proxy = comm_websocket_adapter(comm)\n",
       "\n",
       "    function ondownload(figure, format) {\n",
       "        window.open(figure.imageObj.src);\n",
       "    }\n",
       "\n",
       "    var fig = new mpl.figure(id, ws_proxy,\n",
       "                           ondownload,\n",
       "                           element.get(0));\n",
       "\n",
       "    // Call onopen now - mpl needs it, as it is assuming we've passed it a real\n",
       "    // web socket which is closed, not our websocket->open comm proxy.\n",
       "    ws_proxy.onopen();\n",
       "\n",
       "    fig.parent_element = element.get(0);\n",
       "    fig.cell_info = mpl.find_output_cell(\"<div id='\" + id + \"'></div>\");\n",
       "    if (!fig.cell_info) {\n",
       "        console.error(\"Failed to find cell for figure\", id, fig);\n",
       "        return;\n",
       "    }\n",
       "\n",
       "    var output_index = fig.cell_info[2]\n",
       "    var cell = fig.cell_info[0];\n",
       "\n",
       "};\n",
       "\n",
       "mpl.figure.prototype.handle_close = function(fig, msg) {\n",
       "    fig.root.unbind('remove')\n",
       "\n",
       "    // Update the output cell to use the data from the current canvas.\n",
       "    fig.push_to_output();\n",
       "    var dataURL = fig.canvas.toDataURL();\n",
       "    // Re-enable the keyboard manager in IPython - without this line, in FF,\n",
       "    // the notebook keyboard shortcuts fail.\n",
       "    IPython.keyboard_manager.enable()\n",
       "    $(fig.parent_element).html('<img src=\"' + dataURL + '\">');\n",
       "    fig.close_ws(fig, msg);\n",
       "}\n",
       "\n",
       "mpl.figure.prototype.close_ws = function(fig, msg){\n",
       "    fig.send_message('closing', msg);\n",
       "    // fig.ws.close()\n",
       "}\n",
       "\n",
       "mpl.figure.prototype.push_to_output = function(remove_interactive) {\n",
       "    // Turn the data on the canvas into data in the output cell.\n",
       "    var dataURL = this.canvas.toDataURL();\n",
       "    this.cell_info[1]['text/html'] = '<img src=\"' + dataURL + '\">';\n",
       "}\n",
       "\n",
       "mpl.figure.prototype.updated_canvas_event = function() {\n",
       "    // Tell IPython that the notebook contents must change.\n",
       "    IPython.notebook.set_dirty(true);\n",
       "    this.send_message(\"ack\", {});\n",
       "    var fig = this;\n",
       "    // Wait a second, then push the new image to the DOM so\n",
       "    // that it is saved nicely (might be nice to debounce this).\n",
       "    setTimeout(function () { fig.push_to_output() }, 1000);\n",
       "}\n",
       "\n",
       "mpl.figure.prototype._init_toolbar = function() {\n",
       "    var fig = this;\n",
       "\n",
       "    var nav_element = $('<div/>')\n",
       "    nav_element.attr('style', 'width: 100%');\n",
       "    this.root.append(nav_element);\n",
       "\n",
       "    // Define a callback function for later on.\n",
       "    function toolbar_event(event) {\n",
       "        return fig.toolbar_button_onclick(event['data']);\n",
       "    }\n",
       "    function toolbar_mouse_event(event) {\n",
       "        return fig.toolbar_button_onmouseover(event['data']);\n",
       "    }\n",
       "\n",
       "    for(var toolbar_ind in mpl.toolbar_items){\n",
       "        var name = mpl.toolbar_items[toolbar_ind][0];\n",
       "        var tooltip = mpl.toolbar_items[toolbar_ind][1];\n",
       "        var image = mpl.toolbar_items[toolbar_ind][2];\n",
       "        var method_name = mpl.toolbar_items[toolbar_ind][3];\n",
       "\n",
       "        if (!name) { continue; };\n",
       "\n",
       "        var button = $('<button class=\"btn btn-default\" href=\"#\" title=\"' + name + '\"><i class=\"fa ' + image + ' fa-lg\"></i></button>');\n",
       "        button.click(method_name, toolbar_event);\n",
       "        button.mouseover(tooltip, toolbar_mouse_event);\n",
       "        nav_element.append(button);\n",
       "    }\n",
       "\n",
       "    // Add the status bar.\n",
       "    var status_bar = $('<span class=\"mpl-message\" style=\"text-align:right; float: right;\"/>');\n",
       "    nav_element.append(status_bar);\n",
       "    this.message = status_bar[0];\n",
       "\n",
       "    // Add the close button to the window.\n",
       "    var buttongrp = $('<div class=\"btn-group inline pull-right\"></div>');\n",
       "    var button = $('<button class=\"btn btn-mini btn-primary\" href=\"#\" title=\"Stop Interaction\"><i class=\"fa fa-power-off icon-remove icon-large\"></i></button>');\n",
       "    button.click(function (evt) { fig.handle_close(fig, {}); } );\n",
       "    button.mouseover('Stop Interaction', toolbar_mouse_event);\n",
       "    buttongrp.append(button);\n",
       "    var titlebar = this.root.find($('.ui-dialog-titlebar'));\n",
       "    titlebar.prepend(buttongrp);\n",
       "}\n",
       "\n",
       "mpl.figure.prototype._root_extra_style = function(el){\n",
       "    var fig = this\n",
       "    el.on(\"remove\", function(){\n",
       "\tfig.close_ws(fig, {});\n",
       "    });\n",
       "}\n",
       "\n",
       "mpl.figure.prototype._canvas_extra_style = function(el){\n",
       "    // this is important to make the div 'focusable\n",
       "    el.attr('tabindex', 0)\n",
       "    // reach out to IPython and tell the keyboard manager to turn it's self\n",
       "    // off when our div gets focus\n",
       "\n",
       "    // location in version 3\n",
       "    if (IPython.notebook.keyboard_manager) {\n",
       "        IPython.notebook.keyboard_manager.register_events(el);\n",
       "    }\n",
       "    else {\n",
       "        // location in version 2\n",
       "        IPython.keyboard_manager.register_events(el);\n",
       "    }\n",
       "\n",
       "}\n",
       "\n",
       "mpl.figure.prototype._key_event_extra = function(event, name) {\n",
       "    var manager = IPython.notebook.keyboard_manager;\n",
       "    if (!manager)\n",
       "        manager = IPython.keyboard_manager;\n",
       "\n",
       "    // Check for shift+enter\n",
       "    if (event.shiftKey && event.which == 13) {\n",
       "        this.canvas_div.blur();\n",
       "        event.shiftKey = false;\n",
       "        // Send a \"J\" for go to next cell\n",
       "        event.which = 74;\n",
       "        event.keyCode = 74;\n",
       "        manager.command_mode();\n",
       "        manager.handle_keydown(event);\n",
       "    }\n",
       "}\n",
       "\n",
       "mpl.figure.prototype.handle_save = function(fig, msg) {\n",
       "    fig.ondownload(fig, null);\n",
       "}\n",
       "\n",
       "\n",
       "mpl.find_output_cell = function(html_output) {\n",
       "    // Return the cell and output element which can be found *uniquely* in the notebook.\n",
       "    // Note - this is a bit hacky, but it is done because the \"notebook_saving.Notebook\"\n",
       "    // IPython event is triggered only after the cells have been serialised, which for\n",
       "    // our purposes (turning an active figure into a static one), is too late.\n",
       "    var cells = IPython.notebook.get_cells();\n",
       "    var ncells = cells.length;\n",
       "    for (var i=0; i<ncells; i++) {\n",
       "        var cell = cells[i];\n",
       "        if (cell.cell_type === 'code'){\n",
       "            for (var j=0; j<cell.output_area.outputs.length; j++) {\n",
       "                var data = cell.output_area.outputs[j];\n",
       "                if (data.data) {\n",
       "                    // IPython >= 3 moved mimebundle to data attribute of output\n",
       "                    data = data.data;\n",
       "                }\n",
       "                if (data['text/html'] == html_output) {\n",
       "                    return [cell, data, j];\n",
       "                }\n",
       "            }\n",
       "        }\n",
       "    }\n",
       "}\n",
       "\n",
       "// Register the function which deals with the matplotlib target/channel.\n",
       "// The kernel may be null if the page has been refreshed.\n",
       "if (IPython.notebook.kernel != null) {\n",
       "    IPython.notebook.kernel.comm_manager.register_target('matplotlib', mpl.mpl_figure_comm);\n",
       "}\n"
      ],
      "text/plain": [
       "<IPython.core.display.Javascript object>"
      ]
     },
     "metadata": {},
     "output_type": "display_data"
    },
    {
     "data": {
      "text/html": [
       "<img src=\"data:image/png;base64,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\">"
      ],
      "text/plain": [
       "<IPython.core.display.HTML object>"
      ]
     },
     "metadata": {},
     "output_type": "display_data"
    },
    {
     "data": {
      "text/plain": [
       "[<matplotlib.lines.Line2D at 0x110aaa1d0>]"
      ]
     },
     "execution_count": 178,
     "metadata": {},
     "output_type": "execute_result"
    }
   ],
   "source": [
    "plt.subplot(2, 1, 1)\n",
    "plt.loglog(omega, mag)\n",
    "plt.subplot(2, 1, 2)\n",
    "plt.semilogx(omega, phase)"
   ]
  },
  {
   "cell_type": "code",
   "execution_count": 181,
   "metadata": {
    "collapsed": false
   },
   "outputs": [
    {
     "data": {
      "application/javascript": [
       "/* Put everything inside the global mpl namespace */\n",
       "window.mpl = {};\n",
       "\n",
       "mpl.get_websocket_type = function() {\n",
       "    if (typeof(WebSocket) !== 'undefined') {\n",
       "        return WebSocket;\n",
       "    } else if (typeof(MozWebSocket) !== 'undefined') {\n",
       "        return MozWebSocket;\n",
       "    } else {\n",
       "        alert('Your browser does not have WebSocket support.' +\n",
       "              'Please try Chrome, Safari or Firefox ≥ 6. ' +\n",
       "              'Firefox 4 and 5 are also supported but you ' +\n",
       "              'have to enable WebSockets in about:config.');\n",
       "    };\n",
       "}\n",
       "\n",
       "mpl.figure = function(figure_id, websocket, ondownload, parent_element) {\n",
       "    this.id = figure_id;\n",
       "\n",
       "    this.ws = websocket;\n",
       "\n",
       "    this.supports_binary = (this.ws.binaryType != undefined);\n",
       "\n",
       "    if (!this.supports_binary) {\n",
       "        var warnings = document.getElementById(\"mpl-warnings\");\n",
       "        if (warnings) {\n",
       "            warnings.style.display = 'block';\n",
       "            warnings.textContent = (\n",
       "                \"This browser does not support binary websocket messages. \" +\n",
       "                    \"Performance may be slow.\");\n",
       "        }\n",
       "    }\n",
       "\n",
       "    this.imageObj = new Image();\n",
       "\n",
       "    this.context = undefined;\n",
       "    this.message = undefined;\n",
       "    this.canvas = undefined;\n",
       "    this.rubberband_canvas = undefined;\n",
       "    this.rubberband_context = undefined;\n",
       "    this.format_dropdown = undefined;\n",
       "\n",
       "    this.image_mode = 'full';\n",
       "\n",
       "    this.root = $('<div/>');\n",
       "    this._root_extra_style(this.root)\n",
       "    this.root.attr('style', 'display: inline-block');\n",
       "\n",
       "    $(parent_element).append(this.root);\n",
       "\n",
       "    this._init_header(this);\n",
       "    this._init_canvas(this);\n",
       "    this._init_toolbar(this);\n",
       "\n",
       "    var fig = this;\n",
       "\n",
       "    this.waiting = false;\n",
       "\n",
       "    this.ws.onopen =  function () {\n",
       "            fig.send_message(\"supports_binary\", {value: fig.supports_binary});\n",
       "            fig.send_message(\"send_image_mode\", {});\n",
       "            fig.send_message(\"refresh\", {});\n",
       "        }\n",
       "\n",
       "    this.imageObj.onload = function() {\n",
       "            if (fig.image_mode == 'full') {\n",
       "                // Full images could contain transparency (where diff images\n",
       "                // almost always do), so we need to clear the canvas so that\n",
       "                // there is no ghosting.\n",
       "                fig.context.clearRect(0, 0, fig.canvas.width, fig.canvas.height);\n",
       "            }\n",
       "            fig.context.drawImage(fig.imageObj, 0, 0);\n",
       "        };\n",
       "\n",
       "    this.imageObj.onunload = function() {\n",
       "        this.ws.close();\n",
       "    }\n",
       "\n",
       "    this.ws.onmessage = this._make_on_message_function(this);\n",
       "\n",
       "    this.ondownload = ondownload;\n",
       "}\n",
       "\n",
       "mpl.figure.prototype._init_header = function() {\n",
       "    var titlebar = $(\n",
       "        '<div class=\"ui-dialog-titlebar ui-widget-header ui-corner-all ' +\n",
       "        'ui-helper-clearfix\"/>');\n",
       "    var titletext = $(\n",
       "        '<div class=\"ui-dialog-title\" style=\"width: 100%; ' +\n",
       "        'text-align: center; padding: 3px;\"/>');\n",
       "    titlebar.append(titletext)\n",
       "    this.root.append(titlebar);\n",
       "    this.header = titletext[0];\n",
       "}\n",
       "\n",
       "\n",
       "\n",
       "mpl.figure.prototype._canvas_extra_style = function(canvas_div) {\n",
       "\n",
       "}\n",
       "\n",
       "\n",
       "mpl.figure.prototype._root_extra_style = function(canvas_div) {\n",
       "\n",
       "}\n",
       "\n",
       "mpl.figure.prototype._init_canvas = function() {\n",
       "    var fig = this;\n",
       "\n",
       "    var canvas_div = $('<div/>');\n",
       "\n",
       "    canvas_div.attr('style', 'position: relative; clear: both; outline: 0');\n",
       "\n",
       "    function canvas_keyboard_event(event) {\n",
       "        return fig.key_event(event, event['data']);\n",
       "    }\n",
       "\n",
       "    canvas_div.keydown('key_press', canvas_keyboard_event);\n",
       "    canvas_div.keyup('key_release', canvas_keyboard_event);\n",
       "    this.canvas_div = canvas_div\n",
       "    this._canvas_extra_style(canvas_div)\n",
       "    this.root.append(canvas_div);\n",
       "\n",
       "    var canvas = $('<canvas/>');\n",
       "    canvas.addClass('mpl-canvas');\n",
       "    canvas.attr('style', \"left: 0; top: 0; z-index: 0; outline: 0\")\n",
       "\n",
       "    this.canvas = canvas[0];\n",
       "    this.context = canvas[0].getContext(\"2d\");\n",
       "\n",
       "    var rubberband = $('<canvas/>');\n",
       "    rubberband.attr('style', \"position: absolute; left: 0; top: 0; z-index: 1;\")\n",
       "\n",
       "    var pass_mouse_events = true;\n",
       "\n",
       "    canvas_div.resizable({\n",
       "        start: function(event, ui) {\n",
       "            pass_mouse_events = false;\n",
       "        },\n",
       "        resize: function(event, ui) {\n",
       "            fig.request_resize(ui.size.width, ui.size.height);\n",
       "        },\n",
       "        stop: function(event, ui) {\n",
       "            pass_mouse_events = true;\n",
       "            fig.request_resize(ui.size.width, ui.size.height);\n",
       "        },\n",
       "    });\n",
       "\n",
       "    function mouse_event_fn(event) {\n",
       "        if (pass_mouse_events)\n",
       "            return fig.mouse_event(event, event['data']);\n",
       "    }\n",
       "\n",
       "    rubberband.mousedown('button_press', mouse_event_fn);\n",
       "    rubberband.mouseup('button_release', mouse_event_fn);\n",
       "    // Throttle sequential mouse events to 1 every 20ms.\n",
       "    rubberband.mousemove('motion_notify', mouse_event_fn);\n",
       "\n",
       "    rubberband.mouseenter('figure_enter', mouse_event_fn);\n",
       "    rubberband.mouseleave('figure_leave', mouse_event_fn);\n",
       "\n",
       "    canvas_div.on(\"wheel\", function (event) {\n",
       "        event = event.originalEvent;\n",
       "        event['data'] = 'scroll'\n",
       "        if (event.deltaY < 0) {\n",
       "            event.step = 1;\n",
       "        } else {\n",
       "            event.step = -1;\n",
       "        }\n",
       "        mouse_event_fn(event);\n",
       "    });\n",
       "\n",
       "    canvas_div.append(canvas);\n",
       "    canvas_div.append(rubberband);\n",
       "\n",
       "    this.rubberband = rubberband;\n",
       "    this.rubberband_canvas = rubberband[0];\n",
       "    this.rubberband_context = rubberband[0].getContext(\"2d\");\n",
       "    this.rubberband_context.strokeStyle = \"#000000\";\n",
       "\n",
       "    this._resize_canvas = function(width, height) {\n",
       "        // Keep the size of the canvas, canvas container, and rubber band\n",
       "        // canvas in synch.\n",
       "        canvas_div.css('width', width)\n",
       "        canvas_div.css('height', height)\n",
       "\n",
       "        canvas.attr('width', width);\n",
       "        canvas.attr('height', height);\n",
       "\n",
       "        rubberband.attr('width', width);\n",
       "        rubberband.attr('height', height);\n",
       "    }\n",
       "\n",
       "    // Set the figure to an initial 600x600px, this will subsequently be updated\n",
       "    // upon first draw.\n",
       "    this._resize_canvas(600, 600);\n",
       "\n",
       "    // Disable right mouse context menu.\n",
       "    $(this.rubberband_canvas).bind(\"contextmenu\",function(e){\n",
       "        return false;\n",
       "    });\n",
       "\n",
       "    function set_focus () {\n",
       "        canvas.focus();\n",
       "        canvas_div.focus();\n",
       "    }\n",
       "\n",
       "    window.setTimeout(set_focus, 100);\n",
       "}\n",
       "\n",
       "mpl.figure.prototype._init_toolbar = function() {\n",
       "    var fig = this;\n",
       "\n",
       "    var nav_element = $('<div/>')\n",
       "    nav_element.attr('style', 'width: 100%');\n",
       "    this.root.append(nav_element);\n",
       "\n",
       "    // Define a callback function for later on.\n",
       "    function toolbar_event(event) {\n",
       "        return fig.toolbar_button_onclick(event['data']);\n",
       "    }\n",
       "    function toolbar_mouse_event(event) {\n",
       "        return fig.toolbar_button_onmouseover(event['data']);\n",
       "    }\n",
       "\n",
       "    for(var toolbar_ind in mpl.toolbar_items) {\n",
       "        var name = mpl.toolbar_items[toolbar_ind][0];\n",
       "        var tooltip = mpl.toolbar_items[toolbar_ind][1];\n",
       "        var image = mpl.toolbar_items[toolbar_ind][2];\n",
       "        var method_name = mpl.toolbar_items[toolbar_ind][3];\n",
       "\n",
       "        if (!name) {\n",
       "            // put a spacer in here.\n",
       "            continue;\n",
       "        }\n",
       "        var button = $('<button/>');\n",
       "        button.addClass('ui-button ui-widget ui-state-default ui-corner-all ' +\n",
       "                        'ui-button-icon-only');\n",
       "        button.attr('role', 'button');\n",
       "        button.attr('aria-disabled', 'false');\n",
       "        button.click(method_name, toolbar_event);\n",
       "        button.mouseover(tooltip, toolbar_mouse_event);\n",
       "\n",
       "        var icon_img = $('<span/>');\n",
       "        icon_img.addClass('ui-button-icon-primary ui-icon');\n",
       "        icon_img.addClass(image);\n",
       "        icon_img.addClass('ui-corner-all');\n",
       "\n",
       "        var tooltip_span = $('<span/>');\n",
       "        tooltip_span.addClass('ui-button-text');\n",
       "        tooltip_span.html(tooltip);\n",
       "\n",
       "        button.append(icon_img);\n",
       "        button.append(tooltip_span);\n",
       "\n",
       "        nav_element.append(button);\n",
       "    }\n",
       "\n",
       "    var fmt_picker_span = $('<span/>');\n",
       "\n",
       "    var fmt_picker = $('<select/>');\n",
       "    fmt_picker.addClass('mpl-toolbar-option ui-widget ui-widget-content');\n",
       "    fmt_picker_span.append(fmt_picker);\n",
       "    nav_element.append(fmt_picker_span);\n",
       "    this.format_dropdown = fmt_picker[0];\n",
       "\n",
       "    for (var ind in mpl.extensions) {\n",
       "        var fmt = mpl.extensions[ind];\n",
       "        var option = $(\n",
       "            '<option/>', {selected: fmt === mpl.default_extension}).html(fmt);\n",
       "        fmt_picker.append(option)\n",
       "    }\n",
       "\n",
       "    // Add hover states to the ui-buttons\n",
       "    $( \".ui-button\" ).hover(\n",
       "        function() { $(this).addClass(\"ui-state-hover\");},\n",
       "        function() { $(this).removeClass(\"ui-state-hover\");}\n",
       "    );\n",
       "\n",
       "    var status_bar = $('<span class=\"mpl-message\"/>');\n",
       "    nav_element.append(status_bar);\n",
       "    this.message = status_bar[0];\n",
       "}\n",
       "\n",
       "mpl.figure.prototype.request_resize = function(x_pixels, y_pixels) {\n",
       "    // Request matplotlib to resize the figure. Matplotlib will then trigger a resize in the client,\n",
       "    // which will in turn request a refresh of the image.\n",
       "    this.send_message('resize', {'width': x_pixels, 'height': y_pixels});\n",
       "}\n",
       "\n",
       "mpl.figure.prototype.send_message = function(type, properties) {\n",
       "    properties['type'] = type;\n",
       "    properties['figure_id'] = this.id;\n",
       "    this.ws.send(JSON.stringify(properties));\n",
       "}\n",
       "\n",
       "mpl.figure.prototype.send_draw_message = function() {\n",
       "    if (!this.waiting) {\n",
       "        this.waiting = true;\n",
       "        this.ws.send(JSON.stringify({type: \"draw\", figure_id: this.id}));\n",
       "    }\n",
       "}\n",
       "\n",
       "\n",
       "mpl.figure.prototype.handle_save = function(fig, msg) {\n",
       "    var format_dropdown = fig.format_dropdown;\n",
       "    var format = format_dropdown.options[format_dropdown.selectedIndex].value;\n",
       "    fig.ondownload(fig, format);\n",
       "}\n",
       "\n",
       "\n",
       "mpl.figure.prototype.handle_resize = function(fig, msg) {\n",
       "    var size = msg['size'];\n",
       "    if (size[0] != fig.canvas.width || size[1] != fig.canvas.height) {\n",
       "        fig._resize_canvas(size[0], size[1]);\n",
       "        fig.send_message(\"refresh\", {});\n",
       "    };\n",
       "}\n",
       "\n",
       "mpl.figure.prototype.handle_rubberband = function(fig, msg) {\n",
       "    var x0 = msg['x0'];\n",
       "    var y0 = fig.canvas.height - msg['y0'];\n",
       "    var x1 = msg['x1'];\n",
       "    var y1 = fig.canvas.height - msg['y1'];\n",
       "    x0 = Math.floor(x0) + 0.5;\n",
       "    y0 = Math.floor(y0) + 0.5;\n",
       "    x1 = Math.floor(x1) + 0.5;\n",
       "    y1 = Math.floor(y1) + 0.5;\n",
       "    var min_x = Math.min(x0, x1);\n",
       "    var min_y = Math.min(y0, y1);\n",
       "    var width = Math.abs(x1 - x0);\n",
       "    var height = Math.abs(y1 - y0);\n",
       "\n",
       "    fig.rubberband_context.clearRect(\n",
       "        0, 0, fig.canvas.width, fig.canvas.height);\n",
       "\n",
       "    fig.rubberband_context.strokeRect(min_x, min_y, width, height);\n",
       "}\n",
       "\n",
       "mpl.figure.prototype.handle_figure_label = function(fig, msg) {\n",
       "    // Updates the figure title.\n",
       "    fig.header.textContent = msg['label'];\n",
       "}\n",
       "\n",
       "mpl.figure.prototype.handle_cursor = function(fig, msg) {\n",
       "    var cursor = msg['cursor'];\n",
       "    switch(cursor)\n",
       "    {\n",
       "    case 0:\n",
       "        cursor = 'pointer';\n",
       "        break;\n",
       "    case 1:\n",
       "        cursor = 'default';\n",
       "        break;\n",
       "    case 2:\n",
       "        cursor = 'crosshair';\n",
       "        break;\n",
       "    case 3:\n",
       "        cursor = 'move';\n",
       "        break;\n",
       "    }\n",
       "    fig.rubberband_canvas.style.cursor = cursor;\n",
       "}\n",
       "\n",
       "mpl.figure.prototype.handle_message = function(fig, msg) {\n",
       "    fig.message.textContent = msg['message'];\n",
       "}\n",
       "\n",
       "mpl.figure.prototype.handle_draw = function(fig, msg) {\n",
       "    // Request the server to send over a new figure.\n",
       "    fig.send_draw_message();\n",
       "}\n",
       "\n",
       "mpl.figure.prototype.handle_image_mode = function(fig, msg) {\n",
       "    fig.image_mode = msg['mode'];\n",
       "}\n",
       "\n",
       "mpl.figure.prototype.updated_canvas_event = function() {\n",
       "    // Called whenever the canvas gets updated.\n",
       "    this.send_message(\"ack\", {});\n",
       "}\n",
       "\n",
       "// A function to construct a web socket function for onmessage handling.\n",
       "// Called in the figure constructor.\n",
       "mpl.figure.prototype._make_on_message_function = function(fig) {\n",
       "    return function socket_on_message(evt) {\n",
       "        if (evt.data instanceof Blob) {\n",
       "            /* FIXME: We get \"Resource interpreted as Image but\n",
       "             * transferred with MIME type text/plain:\" errors on\n",
       "             * Chrome.  But how to set the MIME type?  It doesn't seem\n",
       "             * to be part of the websocket stream */\n",
       "            evt.data.type = \"image/png\";\n",
       "\n",
       "            /* Free the memory for the previous frames */\n",
       "            if (fig.imageObj.src) {\n",
       "                (window.URL || window.webkitURL).revokeObjectURL(\n",
       "                    fig.imageObj.src);\n",
       "            }\n",
       "\n",
       "            fig.imageObj.src = (window.URL || window.webkitURL).createObjectURL(\n",
       "                evt.data);\n",
       "            fig.updated_canvas_event();\n",
       "            fig.waiting = false;\n",
       "            return;\n",
       "        }\n",
       "        else if (typeof evt.data === 'string' && evt.data.slice(0, 21) == \"data:image/png;base64\") {\n",
       "            fig.imageObj.src = evt.data;\n",
       "            fig.updated_canvas_event();\n",
       "            fig.waiting = false;\n",
       "            return;\n",
       "        }\n",
       "\n",
       "        var msg = JSON.parse(evt.data);\n",
       "        var msg_type = msg['type'];\n",
       "\n",
       "        // Call the  \"handle_{type}\" callback, which takes\n",
       "        // the figure and JSON message as its only arguments.\n",
       "        try {\n",
       "            var callback = fig[\"handle_\" + msg_type];\n",
       "        } catch (e) {\n",
       "            console.log(\"No handler for the '\" + msg_type + \"' message type: \", msg);\n",
       "            return;\n",
       "        }\n",
       "\n",
       "        if (callback) {\n",
       "            try {\n",
       "                // console.log(\"Handling '\" + msg_type + \"' message: \", msg);\n",
       "                callback(fig, msg);\n",
       "            } catch (e) {\n",
       "                console.log(\"Exception inside the 'handler_\" + msg_type + \"' callback:\", e, e.stack, msg);\n",
       "            }\n",
       "        }\n",
       "    };\n",
       "}\n",
       "\n",
       "// from http://stackoverflow.com/questions/1114465/getting-mouse-location-in-canvas\n",
       "mpl.findpos = function(e) {\n",
       "    //this section is from http://www.quirksmode.org/js/events_properties.html\n",
       "    var targ;\n",
       "    if (!e)\n",
       "        e = window.event;\n",
       "    if (e.target)\n",
       "        targ = e.target;\n",
       "    else if (e.srcElement)\n",
       "        targ = e.srcElement;\n",
       "    if (targ.nodeType == 3) // defeat Safari bug\n",
       "        targ = targ.parentNode;\n",
       "\n",
       "    // jQuery normalizes the pageX and pageY\n",
       "    // pageX,Y are the mouse positions relative to the document\n",
       "    // offset() returns the position of the element relative to the document\n",
       "    var x = e.pageX - $(targ).offset().left;\n",
       "    var y = e.pageY - $(targ).offset().top;\n",
       "\n",
       "    return {\"x\": x, \"y\": y};\n",
       "};\n",
       "\n",
       "/*\n",
       " * return a copy of an object with only non-object keys\n",
       " * we need this to avoid circular references\n",
       " * http://stackoverflow.com/a/24161582/3208463\n",
       " */\n",
       "function simpleKeys (original) {\n",
       "  return Object.keys(original).reduce(function (obj, key) {\n",
       "    if (typeof original[key] !== 'object')\n",
       "        obj[key] = original[key]\n",
       "    return obj;\n",
       "  }, {});\n",
       "}\n",
       "\n",
       "mpl.figure.prototype.mouse_event = function(event, name) {\n",
       "    var canvas_pos = mpl.findpos(event)\n",
       "\n",
       "    if (name === 'button_press')\n",
       "    {\n",
       "        this.canvas.focus();\n",
       "        this.canvas_div.focus();\n",
       "    }\n",
       "\n",
       "    var x = canvas_pos.x;\n",
       "    var y = canvas_pos.y;\n",
       "\n",
       "    this.send_message(name, {x: x, y: y, button: event.button,\n",
       "                             step: event.step,\n",
       "                             guiEvent: simpleKeys(event)});\n",
       "\n",
       "    /* This prevents the web browser from automatically changing to\n",
       "     * the text insertion cursor when the button is pressed.  We want\n",
       "     * to control all of the cursor setting manually through the\n",
       "     * 'cursor' event from matplotlib */\n",
       "    event.preventDefault();\n",
       "    return false;\n",
       "}\n",
       "\n",
       "mpl.figure.prototype._key_event_extra = function(event, name) {\n",
       "    // Handle any extra behaviour associated with a key event\n",
       "}\n",
       "\n",
       "mpl.figure.prototype.key_event = function(event, name) {\n",
       "\n",
       "    // Prevent repeat events\n",
       "    if (name == 'key_press')\n",
       "    {\n",
       "        if (event.which === this._key)\n",
       "            return;\n",
       "        else\n",
       "            this._key = event.which;\n",
       "    }\n",
       "    if (name == 'key_release')\n",
       "        this._key = null;\n",
       "\n",
       "    var value = '';\n",
       "    if (event.ctrlKey && event.which != 17)\n",
       "        value += \"ctrl+\";\n",
       "    if (event.altKey && event.which != 18)\n",
       "        value += \"alt+\";\n",
       "    if (event.shiftKey && event.which != 16)\n",
       "        value += \"shift+\";\n",
       "\n",
       "    value += 'k';\n",
       "    value += event.which.toString();\n",
       "\n",
       "    this._key_event_extra(event, name);\n",
       "\n",
       "    this.send_message(name, {key: value,\n",
       "                             guiEvent: simpleKeys(event)});\n",
       "    return false;\n",
       "}\n",
       "\n",
       "mpl.figure.prototype.toolbar_button_onclick = function(name) {\n",
       "    if (name == 'download') {\n",
       "        this.handle_save(this, null);\n",
       "    } else {\n",
       "        this.send_message(\"toolbar_button\", {name: name});\n",
       "    }\n",
       "};\n",
       "\n",
       "mpl.figure.prototype.toolbar_button_onmouseover = function(tooltip) {\n",
       "    this.message.textContent = tooltip;\n",
       "};\n",
       "mpl.toolbar_items = [[\"Home\", \"Reset original view\", \"fa fa-home icon-home\", \"home\"], [\"Back\", \"Back to  previous view\", \"fa fa-arrow-left icon-arrow-left\", \"back\"], [\"Forward\", \"Forward to next view\", \"fa fa-arrow-right icon-arrow-right\", \"forward\"], [\"\", \"\", \"\", \"\"], [\"Pan\", \"Pan axes with left mouse, zoom with right\", \"fa fa-arrows icon-move\", \"pan\"], [\"Zoom\", \"Zoom to rectangle\", \"fa fa-square-o icon-check-empty\", \"zoom\"], [\"\", \"\", \"\", \"\"], [\"Download\", \"Download plot\", \"fa fa-floppy-o icon-save\", \"download\"]];\n",
       "\n",
       "mpl.extensions = [\"eps\", \"jpeg\", \"pdf\", \"png\", \"ps\", \"raw\", \"svg\", \"tif\"];\n",
       "\n",
       "mpl.default_extension = \"png\";var comm_websocket_adapter = function(comm) {\n",
       "    // Create a \"websocket\"-like object which calls the given IPython comm\n",
       "    // object with the appropriate methods. Currently this is a non binary\n",
       "    // socket, so there is still some room for performance tuning.\n",
       "    var ws = {};\n",
       "\n",
       "    ws.close = function() {\n",
       "        comm.close()\n",
       "    };\n",
       "    ws.send = function(m) {\n",
       "        //console.log('sending', m);\n",
       "        comm.send(m);\n",
       "    };\n",
       "    // Register the callback with on_msg.\n",
       "    comm.on_msg(function(msg) {\n",
       "        //console.log('receiving', msg['content']['data'], msg);\n",
       "        // Pass the mpl event to the overriden (by mpl) onmessage function.\n",
       "        ws.onmessage(msg['content']['data'])\n",
       "    });\n",
       "    return ws;\n",
       "}\n",
       "\n",
       "mpl.mpl_figure_comm = function(comm, msg) {\n",
       "    // This is the function which gets called when the mpl process\n",
       "    // starts-up an IPython Comm through the \"matplotlib\" channel.\n",
       "\n",
       "    var id = msg.content.data.id;\n",
       "    // Get hold of the div created by the display call when the Comm\n",
       "    // socket was opened in Python.\n",
       "    var element = $(\"#\" + id);\n",
       "    var ws_proxy = comm_websocket_adapter(comm)\n",
       "\n",
       "    function ondownload(figure, format) {\n",
       "        window.open(figure.imageObj.src);\n",
       "    }\n",
       "\n",
       "    var fig = new mpl.figure(id, ws_proxy,\n",
       "                           ondownload,\n",
       "                           element.get(0));\n",
       "\n",
       "    // Call onopen now - mpl needs it, as it is assuming we've passed it a real\n",
       "    // web socket which is closed, not our websocket->open comm proxy.\n",
       "    ws_proxy.onopen();\n",
       "\n",
       "    fig.parent_element = element.get(0);\n",
       "    fig.cell_info = mpl.find_output_cell(\"<div id='\" + id + \"'></div>\");\n",
       "    if (!fig.cell_info) {\n",
       "        console.error(\"Failed to find cell for figure\", id, fig);\n",
       "        return;\n",
       "    }\n",
       "\n",
       "    var output_index = fig.cell_info[2]\n",
       "    var cell = fig.cell_info[0];\n",
       "\n",
       "};\n",
       "\n",
       "mpl.figure.prototype.handle_close = function(fig, msg) {\n",
       "    fig.root.unbind('remove')\n",
       "\n",
       "    // Update the output cell to use the data from the current canvas.\n",
       "    fig.push_to_output();\n",
       "    var dataURL = fig.canvas.toDataURL();\n",
       "    // Re-enable the keyboard manager in IPython - without this line, in FF,\n",
       "    // the notebook keyboard shortcuts fail.\n",
       "    IPython.keyboard_manager.enable()\n",
       "    $(fig.parent_element).html('<img src=\"' + dataURL + '\">');\n",
       "    fig.close_ws(fig, msg);\n",
       "}\n",
       "\n",
       "mpl.figure.prototype.close_ws = function(fig, msg){\n",
       "    fig.send_message('closing', msg);\n",
       "    // fig.ws.close()\n",
       "}\n",
       "\n",
       "mpl.figure.prototype.push_to_output = function(remove_interactive) {\n",
       "    // Turn the data on the canvas into data in the output cell.\n",
       "    var dataURL = this.canvas.toDataURL();\n",
       "    this.cell_info[1]['text/html'] = '<img src=\"' + dataURL + '\">';\n",
       "}\n",
       "\n",
       "mpl.figure.prototype.updated_canvas_event = function() {\n",
       "    // Tell IPython that the notebook contents must change.\n",
       "    IPython.notebook.set_dirty(true);\n",
       "    this.send_message(\"ack\", {});\n",
       "    var fig = this;\n",
       "    // Wait a second, then push the new image to the DOM so\n",
       "    // that it is saved nicely (might be nice to debounce this).\n",
       "    setTimeout(function () { fig.push_to_output() }, 1000);\n",
       "}\n",
       "\n",
       "mpl.figure.prototype._init_toolbar = function() {\n",
       "    var fig = this;\n",
       "\n",
       "    var nav_element = $('<div/>')\n",
       "    nav_element.attr('style', 'width: 100%');\n",
       "    this.root.append(nav_element);\n",
       "\n",
       "    // Define a callback function for later on.\n",
       "    function toolbar_event(event) {\n",
       "        return fig.toolbar_button_onclick(event['data']);\n",
       "    }\n",
       "    function toolbar_mouse_event(event) {\n",
       "        return fig.toolbar_button_onmouseover(event['data']);\n",
       "    }\n",
       "\n",
       "    for(var toolbar_ind in mpl.toolbar_items){\n",
       "        var name = mpl.toolbar_items[toolbar_ind][0];\n",
       "        var tooltip = mpl.toolbar_items[toolbar_ind][1];\n",
       "        var image = mpl.toolbar_items[toolbar_ind][2];\n",
       "        var method_name = mpl.toolbar_items[toolbar_ind][3];\n",
       "\n",
       "        if (!name) { continue; };\n",
       "\n",
       "        var button = $('<button class=\"btn btn-default\" href=\"#\" title=\"' + name + '\"><i class=\"fa ' + image + ' fa-lg\"></i></button>');\n",
       "        button.click(method_name, toolbar_event);\n",
       "        button.mouseover(tooltip, toolbar_mouse_event);\n",
       "        nav_element.append(button);\n",
       "    }\n",
       "\n",
       "    // Add the status bar.\n",
       "    var status_bar = $('<span class=\"mpl-message\" style=\"text-align:right; float: right;\"/>');\n",
       "    nav_element.append(status_bar);\n",
       "    this.message = status_bar[0];\n",
       "\n",
       "    // Add the close button to the window.\n",
       "    var buttongrp = $('<div class=\"btn-group inline pull-right\"></div>');\n",
       "    var button = $('<button class=\"btn btn-mini btn-primary\" href=\"#\" title=\"Stop Interaction\"><i class=\"fa fa-power-off icon-remove icon-large\"></i></button>');\n",
       "    button.click(function (evt) { fig.handle_close(fig, {}); } );\n",
       "    button.mouseover('Stop Interaction', toolbar_mouse_event);\n",
       "    buttongrp.append(button);\n",
       "    var titlebar = this.root.find($('.ui-dialog-titlebar'));\n",
       "    titlebar.prepend(buttongrp);\n",
       "}\n",
       "\n",
       "mpl.figure.prototype._root_extra_style = function(el){\n",
       "    var fig = this\n",
       "    el.on(\"remove\", function(){\n",
       "\tfig.close_ws(fig, {});\n",
       "    });\n",
       "}\n",
       "\n",
       "mpl.figure.prototype._canvas_extra_style = function(el){\n",
       "    // this is important to make the div 'focusable\n",
       "    el.attr('tabindex', 0)\n",
       "    // reach out to IPython and tell the keyboard manager to turn it's self\n",
       "    // off when our div gets focus\n",
       "\n",
       "    // location in version 3\n",
       "    if (IPython.notebook.keyboard_manager) {\n",
       "        IPython.notebook.keyboard_manager.register_events(el);\n",
       "    }\n",
       "    else {\n",
       "        // location in version 2\n",
       "        IPython.keyboard_manager.register_events(el);\n",
       "    }\n",
       "\n",
       "}\n",
       "\n",
       "mpl.figure.prototype._key_event_extra = function(event, name) {\n",
       "    var manager = IPython.notebook.keyboard_manager;\n",
       "    if (!manager)\n",
       "        manager = IPython.keyboard_manager;\n",
       "\n",
       "    // Check for shift+enter\n",
       "    if (event.shiftKey && event.which == 13) {\n",
       "        this.canvas_div.blur();\n",
       "        event.shiftKey = false;\n",
       "        // Send a \"J\" for go to next cell\n",
       "        event.which = 74;\n",
       "        event.keyCode = 74;\n",
       "        manager.command_mode();\n",
       "        manager.handle_keydown(event);\n",
       "    }\n",
       "}\n",
       "\n",
       "mpl.figure.prototype.handle_save = function(fig, msg) {\n",
       "    fig.ondownload(fig, null);\n",
       "}\n",
       "\n",
       "\n",
       "mpl.find_output_cell = function(html_output) {\n",
       "    // Return the cell and output element which can be found *uniquely* in the notebook.\n",
       "    // Note - this is a bit hacky, but it is done because the \"notebook_saving.Notebook\"\n",
       "    // IPython event is triggered only after the cells have been serialised, which for\n",
       "    // our purposes (turning an active figure into a static one), is too late.\n",
       "    var cells = IPython.notebook.get_cells();\n",
       "    var ncells = cells.length;\n",
       "    for (var i=0; i<ncells; i++) {\n",
       "        var cell = cells[i];\n",
       "        if (cell.cell_type === 'code'){\n",
       "            for (var j=0; j<cell.output_area.outputs.length; j++) {\n",
       "                var data = cell.output_area.outputs[j];\n",
       "                if (data.data) {\n",
       "                    // IPython >= 3 moved mimebundle to data attribute of output\n",
       "                    data = data.data;\n",
       "                }\n",
       "                if (data['text/html'] == html_output) {\n",
       "                    return [cell, data, j];\n",
       "                }\n",
       "            }\n",
       "        }\n",
       "    }\n",
       "}\n",
       "\n",
       "// Register the function which deals with the matplotlib target/channel.\n",
       "// The kernel may be null if the page has been refreshed.\n",
       "if (IPython.notebook.kernel != null) {\n",
       "    IPython.notebook.kernel.comm_manager.register_target('matplotlib', mpl.mpl_figure_comm);\n",
       "}\n"
      ],
      "text/plain": [
       "<IPython.core.display.Javascript object>"
      ]
     },
     "metadata": {},
     "output_type": "display_data"
    },
    {
     "data": {
      "text/html": [
       "<img src=\"data:image/png;base64,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\">"
      ],
      "text/plain": [
       "<IPython.core.display.HTML object>"
      ]
     },
     "metadata": {},
     "output_type": "display_data"
    },
    {
     "data": {
      "image/png": "[encoded data removed]",
      "text/latex": [
       "$$\\left ( 0.0, \\quad 1.0, \\quad -0.6, \\quad 0.6\\right )$$"
      ],
      "text/plain": [
       "(0.0, 1.0, -0.6, 0.6)"
      ]
     },
     "execution_count": 181,
     "metadata": {},
     "output_type": "execute_result"
    }
   ],
   "source": [
    "plt.figure()\n",
    "plt.plot(G(s).real, G(s).imag)\n",
    "plt.plot(G(s).real, -G(s).imag)\n",
    "plt.axis('equal')"
   ]
  },
  {
   "cell_type": "code",
   "execution_count": null,
   "metadata": {
    "collapsed": true
   },
   "outputs": [],
   "source": []
  }
 ],
 "metadata": {
  "kernelspec": {
   "display_name": "Python [default]",
   "language": "python",
   "name": "python3"
  },
  "language_info": {
   "codemirror_mode": {
    "name": "ipython",
    "version": 3
   },
   "file_extension": ".py",
   "mimetype": "text/x-python",
   "name": "python",
   "nbconvert_exporter": "python",
   "pygments_lexer": "ipython3",
   "version": "3.5.2"
  }
 },
 "nbformat": 4,
 "nbformat_minor": 0
}
