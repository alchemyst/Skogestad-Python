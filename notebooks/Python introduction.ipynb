{
 "cells": [
  {
   "cell_type": "code",
   "execution_count": 9,
   "metadata": {},
   "outputs": [
    {
     "data": {
      "text/plain": [
       "28"
      ]
     },
     "execution_count": 9,
     "metadata": {},
     "output_type": "execute_result"
    }
   ],
   "source": [
    "2121\n",
    "1 + 1*2 + 5**2"
   ]
  },
  {
   "cell_type": "code",
   "execution_count": 16,
   "metadata": {
    "collapsed": true,
    "jupyter": {
     "outputs_hidden": true
    }
   },
   "outputs": [],
   "source": [
    "a = 2\n",
    "b = 2\n",
    "c = a"
   ]
  },
  {
   "cell_type": "code",
   "execution_count": 17,
   "metadata": {},
   "outputs": [
    {
     "data": {
      "text/plain": [
       "2"
      ]
     },
     "execution_count": 17,
     "metadata": {},
     "output_type": "execute_result"
    }
   ],
   "source": [
    "a"
   ]
  },
  {
   "cell_type": "code",
   "execution_count": 18,
   "metadata": {},
   "outputs": [
    {
     "data": {
      "text/plain": [
       "2"
      ]
     },
     "execution_count": 18,
     "metadata": {},
     "output_type": "execute_result"
    }
   ],
   "source": [
    "b"
   ]
  },
  {
   "cell_type": "code",
   "execution_count": 19,
   "metadata": {},
   "outputs": [
    {
     "data": {
      "text/plain": [
       "2"
      ]
     },
     "execution_count": 19,
     "metadata": {},
     "output_type": "execute_result"
    }
   ],
   "source": [
    "c"
   ]
  },
  {
   "cell_type": "code",
   "execution_count": 20,
   "metadata": {
    "collapsed": true,
    "jupyter": {
     "outputs_hidden": true
    }
   },
   "outputs": [],
   "source": [
    "a = 3"
   ]
  },
  {
   "cell_type": "code",
   "execution_count": 21,
   "metadata": {},
   "outputs": [
    {
     "data": {
      "text/plain": [
       "2"
      ]
     },
     "execution_count": 21,
     "metadata": {},
     "output_type": "execute_result"
    }
   ],
   "source": [
    "c"
   ]
  },
  {
   "cell_type": "code",
   "execution_count": 22,
   "metadata": {
    "collapsed": true,
    "jupyter": {
     "outputs_hidden": true
    }
   },
   "outputs": [],
   "source": [
    "a = [1, 2, 3]"
   ]
  },
  {
   "cell_type": "code",
   "execution_count": 23,
   "metadata": {},
   "outputs": [
    {
     "data": {
      "text/plain": [
       "int"
      ]
     },
     "execution_count": 23,
     "metadata": {},
     "output_type": "execute_result"
    }
   ],
   "source": [
    "type(c)"
   ]
  },
  {
   "cell_type": "code",
   "execution_count": 24,
   "metadata": {
    "collapsed": true,
    "jupyter": {
     "outputs_hidden": true
    }
   },
   "outputs": [],
   "source": [
    "b = a"
   ]
  },
  {
   "cell_type": "code",
   "execution_count": 25,
   "metadata": {
    "collapsed": true,
    "jupyter": {
     "outputs_hidden": true
    }
   },
   "outputs": [],
   "source": [
    "a[0] = 5"
   ]
  },
  {
   "cell_type": "code",
   "execution_count": 26,
   "metadata": {},
   "outputs": [
    {
     "data": {
      "text/plain": [
       "[5, 2, 3]"
      ]
     },
     "execution_count": 26,
     "metadata": {},
     "output_type": "execute_result"
    }
   ],
   "source": [
    "a"
   ]
  },
  {
   "cell_type": "code",
   "execution_count": 27,
   "metadata": {},
   "outputs": [
    {
     "data": {
      "text/plain": [
       "[5, 2, 3]"
      ]
     },
     "execution_count": 27,
     "metadata": {},
     "output_type": "execute_result"
    }
   ],
   "source": [
    "b"
   ]
  },
  {
   "cell_type": "code",
   "execution_count": 32,
   "metadata": {},
   "outputs": [
    {
     "data": {
      "text/plain": [
       "2100000"
      ]
     },
     "execution_count": 32,
     "metadata": {},
     "output_type": "execute_result"
    }
   ],
   "source": [
    "100000 + 2000000"
   ]
  },
  {
   "cell_type": "code",
   "execution_count": 33,
   "metadata": {},
   "outputs": [
    {
     "data": {
      "text/plain": [
       "2100000"
      ]
     },
     "execution_count": 33,
     "metadata": {},
     "output_type": "execute_result"
    }
   ],
   "source": [
    "_"
   ]
  },
  {
   "cell_type": "code",
   "execution_count": 30,
   "metadata": {},
   "outputs": [
    {
     "data": {
      "text/plain": [
       "24270143818756646910938690328635932139549939061012471930088572583936"
      ]
     },
     "execution_count": 30,
     "metadata": {},
     "output_type": "execute_result"
    }
   ],
   "source": [
    "34**44"
   ]
  },
  {
   "cell_type": "code",
   "execution_count": 46,
   "metadata": {
    "collapsed": true,
    "jupyter": {
     "outputs_hidden": true
    }
   },
   "outputs": [],
   "source": [
    "a = 100\n",
    "b = 100"
   ]
  },
  {
   "cell_type": "code",
   "execution_count": 47,
   "metadata": {},
   "outputs": [
    {
     "data": {
      "text/plain": [
       "True"
      ]
     },
     "execution_count": 47,
     "metadata": {},
     "output_type": "execute_result"
    }
   ],
   "source": [
    "a is b"
   ]
  },
  {
   "cell_type": "code",
   "execution_count": 53,
   "metadata": {
    "collapsed": true,
    "jupyter": {
     "outputs_hidden": true
    }
   },
   "outputs": [],
   "source": [
    "a = [1, \"aaa\", 3]"
   ]
  },
  {
   "cell_type": "code",
   "execution_count": 54,
   "metadata": {},
   "outputs": [
    {
     "data": {
      "text/plain": [
       "[1, 'aaa', 3, 1, 'aaa', 3]"
      ]
     },
     "execution_count": 54,
     "metadata": {},
     "output_type": "execute_result"
    }
   ],
   "source": [
    "a + a"
   ]
  },
  {
   "cell_type": "code",
   "execution_count": 56,
   "metadata": {
    "collapsed": true,
    "jupyter": {
     "outputs_hidden": true
    }
   },
   "outputs": [],
   "source": [
    "a = [[1, 2, 3],\n",
    "     [10, 20, 30]]"
   ]
  },
  {
   "cell_type": "code",
   "execution_count": 62,
   "metadata": {},
   "outputs": [],
   "source": [
    "b = a[0]"
   ]
  },
  {
   "cell_type": "code",
   "execution_count": 63,
   "metadata": {},
   "outputs": [
    {
     "data": {
      "text/plain": [
       "1"
      ]
     },
     "execution_count": 63,
     "metadata": {},
     "output_type": "execute_result"
    }
   ],
   "source": [
    "\n",
    "b[0]"
   ]
  },
  {
   "cell_type": "code",
   "execution_count": 64,
   "metadata": {
    "collapsed": true,
    "jupyter": {
     "outputs_hidden": true
    }
   },
   "outputs": [],
   "source": [
    "import numpy"
   ]
  },
  {
   "cell_type": "code",
   "execution_count": 66,
   "metadata": {
    "collapsed": true,
    "jupyter": {
     "outputs_hidden": true
    }
   },
   "outputs": [],
   "source": [
    "numpy.gradient?"
   ]
  },
  {
   "cell_type": "code",
   "execution_count": 71,
   "metadata": {},
   "outputs": [],
   "source": [
    "a = numpy.array([1, 2, 3])"
   ]
  },
  {
   "cell_type": "code",
   "execution_count": 72,
   "metadata": {},
   "outputs": [
    {
     "data": {
      "text/plain": [
       "array([1, 2, 3])"
      ]
     },
     "execution_count": 72,
     "metadata": {},
     "output_type": "execute_result"
    }
   ],
   "source": [
    "a"
   ]
  },
  {
   "cell_type": "code",
   "execution_count": 73,
   "metadata": {},
   "outputs": [
    {
     "data": {
      "text/plain": [
       "(3,)"
      ]
     },
     "execution_count": 73,
     "metadata": {},
     "output_type": "execute_result"
    }
   ],
   "source": [
    "a.shape"
   ]
  },
  {
   "cell_type": "code",
   "execution_count": 75,
   "metadata": {},
   "outputs": [],
   "source": [
    "e = a[0]"
   ]
  },
  {
   "cell_type": "code",
   "execution_count": 76,
   "metadata": {},
   "outputs": [
    {
     "data": {
      "text/plain": [
       "numpy.int64"
      ]
     },
     "execution_count": 76,
     "metadata": {},
     "output_type": "execute_result"
    }
   ],
   "source": [
    "type(e)"
   ]
  },
  {
   "cell_type": "code",
   "execution_count": 77,
   "metadata": {},
   "outputs": [
    {
     "data": {
      "text/plain": [
       "(3,)"
      ]
     },
     "execution_count": 77,
     "metadata": {},
     "output_type": "execute_result"
    }
   ],
   "source": [
    "a.shape"
   ]
  },
  {
   "cell_type": "code",
   "execution_count": 78,
   "metadata": {},
   "outputs": [
    {
     "data": {
      "text/plain": [
       "()"
      ]
     },
     "execution_count": 78,
     "metadata": {},
     "output_type": "execute_result"
    }
   ],
   "source": [
    "e.shape"
   ]
  },
  {
   "cell_type": "code",
   "execution_count": 79,
   "metadata": {
    "collapsed": true,
    "jupyter": {
     "outputs_hidden": true
    }
   },
   "outputs": [],
   "source": [
    "a = numpy.array([[1, 2, 3], [10, 20, 30]])"
   ]
  },
  {
   "cell_type": "code",
   "execution_count": 80,
   "metadata": {},
   "outputs": [
    {
     "data": {
      "text/plain": [
       "array([[ 1,  2,  3],\n",
       "       [10, 20, 30]])"
      ]
     },
     "execution_count": 80,
     "metadata": {},
     "output_type": "execute_result"
    }
   ],
   "source": [
    "a"
   ]
  },
  {
   "cell_type": "code",
   "execution_count": 81,
   "metadata": {},
   "outputs": [
    {
     "data": {
      "text/plain": [
       "(2, 3)"
      ]
     },
     "execution_count": 81,
     "metadata": {},
     "output_type": "execute_result"
    }
   ],
   "source": [
    "a.shape"
   ]
  },
  {
   "cell_type": "code",
   "execution_count": 86,
   "metadata": {},
   "outputs": [
    {
     "data": {
      "text/plain": [
       "array([1, 2, 3])"
      ]
     },
     "execution_count": 86,
     "metadata": {},
     "output_type": "execute_result"
    }
   ],
   "source": [
    "b = a[0]\n",
    "b"
   ]
  },
  {
   "cell_type": "code",
   "execution_count": 85,
   "metadata": {},
   "outputs": [
    {
     "data": {
      "text/plain": [
       "1"
      ]
     },
     "execution_count": 85,
     "metadata": {},
     "output_type": "execute_result"
    }
   ],
   "source": [
    "b[0]"
   ]
  },
  {
   "cell_type": "code",
   "execution_count": 88,
   "metadata": {},
   "outputs": [
    {
     "name": "stdout",
     "output_type": "stream",
     "text": [
      "The slowest run took 31.38 times longer than the fastest. This could mean that an intermediate result is being cached.\n",
      "1000000 loops, best of 3: 277 ns per loop\n"
     ]
    }
   ],
   "source": [
    "%%timeit"
   ]
  },
  {
   "cell_type": "code",
   "execution_count": 90,
   "metadata": {},
   "outputs": [
    {
     "name": "stdout",
     "output_type": "stream",
     "text": [
      "The slowest run took 32.69 times longer than the fastest. This could mean that an intermediate result is being cached.\n",
      "10000000 loops, best of 3: 148 ns per loop\n"
     ]
    }
   ],
   "source": [
    "%%timeit\n",
    "a[0, 0]"
   ]
  },
  {
   "cell_type": "code",
   "execution_count": 92,
   "metadata": {},
   "outputs": [
    {
     "data": {
      "text/plain": [
       "array([[ 1,  2,  3],\n",
       "       [10, 20, 30]])"
      ]
     },
     "execution_count": 92,
     "metadata": {},
     "output_type": "execute_result"
    }
   ],
   "source": [
    "a"
   ]
  },
  {
   "cell_type": "code",
   "execution_count": 97,
   "metadata": {},
   "outputs": [
    {
     "data": {
      "text/plain": [
       "array([10, 20])"
      ]
     },
     "execution_count": 97,
     "metadata": {},
     "output_type": "execute_result"
    }
   ],
   "source": [
    "a[1, 0:2]"
   ]
  },
  {
   "cell_type": "code",
   "execution_count": 98,
   "metadata": {},
   "outputs": [
    {
     "ename": "SyntaxError",
     "evalue": "invalid syntax (<ipython-input-98-e66af9ff3e2d>, line 1)",
     "output_type": "error",
     "traceback": [
      "\u001b[0;36m  File \u001b[0;32m\"<ipython-input-98-e66af9ff3e2d>\"\u001b[0;36m, line \u001b[0;32m1\u001b[0m\n\u001b[0;31m    0:2\u001b[0m\n\u001b[0m     ^\u001b[0m\n\u001b[0;31mSyntaxError\u001b[0m\u001b[0;31m:\u001b[0m invalid syntax\n"
     ]
    }
   ],
   "source": [
    "0:2"
   ]
  },
  {
   "cell_type": "code",
   "execution_count": 99,
   "metadata": {
    "collapsed": true,
    "jupyter": {
     "outputs_hidden": true
    }
   },
   "outputs": [],
   "source": [
    "l = [1, 2, 3]"
   ]
  },
  {
   "cell_type": "code",
   "execution_count": 101,
   "metadata": {},
   "outputs": [
    {
     "data": {
      "text/plain": [
       "[2]"
      ]
     },
     "execution_count": 101,
     "metadata": {},
     "output_type": "execute_result"
    }
   ],
   "source": [
    "l[1:2]"
   ]
  },
  {
   "cell_type": "code",
   "execution_count": 106,
   "metadata": {},
   "outputs": [
    {
     "data": {
      "text/plain": [
       "array([[ 2, 20]])"
      ]
     },
     "execution_count": 106,
     "metadata": {},
     "output_type": "execute_result"
    }
   ],
   "source": [
    "a[:, 1:2].T"
   ]
  },
  {
   "cell_type": "code",
   "execution_count": 107,
   "metadata": {},
   "outputs": [
    {
     "data": {
      "text/plain": [
       "array([10, 20, 30])"
      ]
     },
     "execution_count": 107,
     "metadata": {},
     "output_type": "execute_result"
    }
   ],
   "source": [
    "a[1, :].T"
   ]
  },
  {
   "cell_type": "code",
   "execution_count": 108,
   "metadata": {},
   "outputs": [
    {
     "data": {
      "text/plain": [
       "array([[ 1,  2,  3],\n",
       "       [10, 20, 30]])"
      ]
     },
     "execution_count": 108,
     "metadata": {},
     "output_type": "execute_result"
    }
   ],
   "source": [
    "a"
   ]
  },
  {
   "cell_type": "code",
   "execution_count": 112,
   "metadata": {
    "collapsed": true,
    "jupyter": {
     "outputs_hidden": true
    }
   },
   "outputs": [],
   "source": [
    "A = numpy.matrix(a)"
   ]
  },
  {
   "cell_type": "code",
   "execution_count": 113,
   "metadata": {},
   "outputs": [
    {
     "data": {
      "text/plain": [
       "matrix([[ 1,  2,  3],\n",
       "        [10, 20, 30]])"
      ]
     },
     "execution_count": 113,
     "metadata": {},
     "output_type": "execute_result"
    }
   ],
   "source": [
    "A"
   ]
  },
  {
   "cell_type": "code",
   "execution_count": 123,
   "metadata": {},
   "outputs": [
    {
     "data": {
      "text/plain": [
       "array([[  14,  140],\n",
       "       [ 140, 1400]])"
      ]
     },
     "execution_count": 123,
     "metadata": {},
     "output_type": "execute_result"
    }
   ],
   "source": [
    "a.dot(a.T)"
   ]
  },
  {
   "cell_type": "markdown",
   "metadata": {},
   "source": [
    "I can type text here\n",
    "\n",
    "* bullet\n",
    "* bullet\n",
    "\n",
    "# heading\n",
    "\n",
    "$Ax = \\beta$"
   ]
  },
  {
   "cell_type": "code",
   "execution_count": 124,
   "metadata": {
    "collapsed": true,
    "jupyter": {
     "outputs_hidden": true
    }
   },
   "outputs": [],
   "source": [
    "A = numpy.array([[1, 2], [4, 2]])"
   ]
  },
  {
   "cell_type": "code",
   "execution_count": 125,
   "metadata": {
    "collapsed": true,
    "jupyter": {
     "outputs_hidden": true
    }
   },
   "outputs": [],
   "source": [
    "beta = numpy.array([[2], [2]])"
   ]
  },
  {
   "cell_type": "code",
   "execution_count": 132,
   "metadata": {},
   "outputs": [
    {
     "data": {
      "text/plain": [
       "array([[ 0.],\n",
       "       [ 1.]])"
      ]
     },
     "execution_count": 132,
     "metadata": {},
     "output_type": "execute_result"
    }
   ],
   "source": [
    "numpy.linalg.inv(A).dot(beta)"
   ]
  },
  {
   "cell_type": "code",
   "execution_count": 131,
   "metadata": {},
   "outputs": [
    {
     "data": {
      "text/plain": [
       "array([[ 0.],\n",
       "       [ 1.]])"
      ]
     },
     "execution_count": 131,
     "metadata": {},
     "output_type": "execute_result"
    }
   ],
   "source": [
    "numpy.linalg.solve(A, beta)"
   ]
  },
  {
   "cell_type": "code",
   "execution_count": 133,
   "metadata": {
    "collapsed": true,
    "jupyter": {
     "outputs_hidden": true
    }
   },
   "outputs": [],
   "source": [
    "A = numpy.matrix(A)"
   ]
  },
  {
   "cell_type": "code",
   "execution_count": 134,
   "metadata": {
    "collapsed": true,
    "jupyter": {
     "outputs_hidden": true
    }
   },
   "outputs": [],
   "source": [
    "beta = numpy.matrix(beta)"
   ]
  },
  {
   "cell_type": "code",
   "execution_count": 136,
   "metadata": {},
   "outputs": [
    {
     "data": {
      "text/plain": [
       "matrix([[ 0.],\n",
       "        [ 1.]])"
      ]
     },
     "execution_count": 136,
     "metadata": {},
     "output_type": "execute_result"
    }
   ],
   "source": [
    "A.I*beta"
   ]
  },
  {
   "cell_type": "code",
   "execution_count": 137,
   "metadata": {
    "collapsed": true,
    "jupyter": {
     "outputs_hidden": true
    }
   },
   "outputs": [],
   "source": [
    "import matplotlib.pyplot as plt"
   ]
  },
  {
   "cell_type": "code",
   "execution_count": 138,
   "metadata": {
    "collapsed": true,
    "jupyter": {
     "outputs_hidden": true
    }
   },
   "outputs": [],
   "source": [
    "%matplotlib notebook"
   ]
  },
  {
   "cell_type": "code",
   "execution_count": 139,
   "metadata": {},
   "outputs": [
    {
     "data": {
      "application/javascript": [
       "/* Put everything inside the global mpl namespace */\n",
       "window.mpl = {};\n",
       "\n",
       "mpl.get_websocket_type = function() {\n",
       "    if (typeof(WebSocket) !== 'undefined') {\n",
       "        return WebSocket;\n",
       "    } else if (typeof(MozWebSocket) !== 'undefined') {\n",
       "        return MozWebSocket;\n",
       "    } else {\n",
       "        alert('Your browser does not have WebSocket support.' +\n",
       "              'Please try Chrome, Safari or Firefox ≥ 6. ' +\n",
       "              'Firefox 4 and 5 are also supported but you ' +\n",
       "              'have to enable WebSockets in about:config.');\n",
       "    };\n",
       "}\n",
       "\n",
       "mpl.figure = function(figure_id, websocket, ondownload, parent_element) {\n",
       "    this.id = figure_id;\n",
       "\n",
       "    this.ws = websocket;\n",
       "\n",
       "    this.supports_binary = (this.ws.binaryType != undefined);\n",
       "\n",
       "    if (!this.supports_binary) {\n",
       "        var warnings = document.getElementById(\"mpl-warnings\");\n",
       "        if (warnings) {\n",
       "            warnings.style.display = 'block';\n",
       "            warnings.textContent = (\n",
       "                \"This browser does not support binary websocket messages. \" +\n",
       "                    \"Performance may be slow.\");\n",
       "        }\n",
       "    }\n",
       "\n",
       "    this.imageObj = new Image();\n",
       "\n",
       "    this.context = undefined;\n",
       "    this.message = undefined;\n",
       "    this.canvas = undefined;\n",
       "    this.rubberband_canvas = undefined;\n",
       "    this.rubberband_context = undefined;\n",
       "    this.format_dropdown = undefined;\n",
       "\n",
       "    this.image_mode = 'full';\n",
       "\n",
       "    this.root = $('<div/>');\n",
       "    this._root_extra_style(this.root)\n",
       "    this.root.attr('style', 'display: inline-block');\n",
       "\n",
       "    $(parent_element).append(this.root);\n",
       "\n",
       "    this._init_header(this);\n",
       "    this._init_canvas(this);\n",
       "    this._init_toolbar(this);\n",
       "\n",
       "    var fig = this;\n",
       "\n",
       "    this.waiting = false;\n",
       "\n",
       "    this.ws.onopen =  function () {\n",
       "            fig.send_message(\"supports_binary\", {value: fig.supports_binary});\n",
       "            fig.send_message(\"send_image_mode\", {});\n",
       "            fig.send_message(\"refresh\", {});\n",
       "        }\n",
       "\n",
       "    this.imageObj.onload = function() {\n",
       "            if (fig.image_mode == 'full') {\n",
       "                // Full images could contain transparency (where diff images\n",
       "                // almost always do), so we need to clear the canvas so that\n",
       "                // there is no ghosting.\n",
       "                fig.context.clearRect(0, 0, fig.canvas.width, fig.canvas.height);\n",
       "            }\n",
       "            fig.context.drawImage(fig.imageObj, 0, 0);\n",
       "        };\n",
       "\n",
       "    this.imageObj.onunload = function() {\n",
       "        this.ws.close();\n",
       "    }\n",
       "\n",
       "    this.ws.onmessage = this._make_on_message_function(this);\n",
       "\n",
       "    this.ondownload = ondownload;\n",
       "}\n",
       "\n",
       "mpl.figure.prototype._init_header = function() {\n",
       "    var titlebar = $(\n",
       "        '<div class=\"ui-dialog-titlebar ui-widget-header ui-corner-all ' +\n",
       "        'ui-helper-clearfix\"/>');\n",
       "    var titletext = $(\n",
       "        '<div class=\"ui-dialog-title\" style=\"width: 100%; ' +\n",
       "        'text-align: center; padding: 3px;\"/>');\n",
       "    titlebar.append(titletext)\n",
       "    this.root.append(titlebar);\n",
       "    this.header = titletext[0];\n",
       "}\n",
       "\n",
       "\n",
       "\n",
       "mpl.figure.prototype._canvas_extra_style = function(canvas_div) {\n",
       "\n",
       "}\n",
       "\n",
       "\n",
       "mpl.figure.prototype._root_extra_style = function(canvas_div) {\n",
       "\n",
       "}\n",
       "\n",
       "mpl.figure.prototype._init_canvas = function() {\n",
       "    var fig = this;\n",
       "\n",
       "    var canvas_div = $('<div/>');\n",
       "\n",
       "    canvas_div.attr('style', 'position: relative; clear: both; outline: 0');\n",
       "\n",
       "    function canvas_keyboard_event(event) {\n",
       "        return fig.key_event(event, event['data']);\n",
       "    }\n",
       "\n",
       "    canvas_div.keydown('key_press', canvas_keyboard_event);\n",
       "    canvas_div.keyup('key_release', canvas_keyboard_event);\n",
       "    this.canvas_div = canvas_div\n",
       "    this._canvas_extra_style(canvas_div)\n",
       "    this.root.append(canvas_div);\n",
       "\n",
       "    var canvas = $('<canvas/>');\n",
       "    canvas.addClass('mpl-canvas');\n",
       "    canvas.attr('style', \"left: 0; top: 0; z-index: 0; outline: 0\")\n",
       "\n",
       "    this.canvas = canvas[0];\n",
       "    this.context = canvas[0].getContext(\"2d\");\n",
       "\n",
       "    var rubberband = $('<canvas/>');\n",
       "    rubberband.attr('style', \"position: absolute; left: 0; top: 0; z-index: 1;\")\n",
       "\n",
       "    var pass_mouse_events = true;\n",
       "\n",
       "    canvas_div.resizable({\n",
       "        start: function(event, ui) {\n",
       "            pass_mouse_events = false;\n",
       "        },\n",
       "        resize: function(event, ui) {\n",
       "            fig.request_resize(ui.size.width, ui.size.height);\n",
       "        },\n",
       "        stop: function(event, ui) {\n",
       "            pass_mouse_events = true;\n",
       "            fig.request_resize(ui.size.width, ui.size.height);\n",
       "        },\n",
       "    });\n",
       "\n",
       "    function mouse_event_fn(event) {\n",
       "        if (pass_mouse_events)\n",
       "            return fig.mouse_event(event, event['data']);\n",
       "    }\n",
       "\n",
       "    rubberband.mousedown('button_press', mouse_event_fn);\n",
       "    rubberband.mouseup('button_release', mouse_event_fn);\n",
       "    // Throttle sequential mouse events to 1 every 20ms.\n",
       "    rubberband.mousemove('motion_notify', mouse_event_fn);\n",
       "\n",
       "    rubberband.mouseenter('figure_enter', mouse_event_fn);\n",
       "    rubberband.mouseleave('figure_leave', mouse_event_fn);\n",
       "\n",
       "    canvas_div.on(\"wheel\", function (event) {\n",
       "        event = event.originalEvent;\n",
       "        event['data'] = 'scroll'\n",
       "        if (event.deltaY < 0) {\n",
       "            event.step = 1;\n",
       "        } else {\n",
       "            event.step = -1;\n",
       "        }\n",
       "        mouse_event_fn(event);\n",
       "    });\n",
       "\n",
       "    canvas_div.append(canvas);\n",
       "    canvas_div.append(rubberband);\n",
       "\n",
       "    this.rubberband = rubberband;\n",
       "    this.rubberband_canvas = rubberband[0];\n",
       "    this.rubberband_context = rubberband[0].getContext(\"2d\");\n",
       "    this.rubberband_context.strokeStyle = \"#000000\";\n",
       "\n",
       "    this._resize_canvas = function(width, height) {\n",
       "        // Keep the size of the canvas, canvas container, and rubber band\n",
       "        // canvas in synch.\n",
       "        canvas_div.css('width', width)\n",
       "        canvas_div.css('height', height)\n",
       "\n",
       "        canvas.attr('width', width);\n",
       "        canvas.attr('height', height);\n",
       "\n",
       "        rubberband.attr('width', width);\n",
       "        rubberband.attr('height', height);\n",
       "    }\n",
       "\n",
       "    // Set the figure to an initial 600x600px, this will subsequently be updated\n",
       "    // upon first draw.\n",
       "    this._resize_canvas(600, 600);\n",
       "\n",
       "    // Disable right mouse context menu.\n",
       "    $(this.rubberband_canvas).bind(\"contextmenu\",function(e){\n",
       "        return false;\n",
       "    });\n",
       "\n",
       "    function set_focus () {\n",
       "        canvas.focus();\n",
       "        canvas_div.focus();\n",
       "    }\n",
       "\n",
       "    window.setTimeout(set_focus, 100);\n",
       "}\n",
       "\n",
       "mpl.figure.prototype._init_toolbar = function() {\n",
       "    var fig = this;\n",
       "\n",
       "    var nav_element = $('<div/>')\n",
       "    nav_element.attr('style', 'width: 100%');\n",
       "    this.root.append(nav_element);\n",
       "\n",
       "    // Define a callback function for later on.\n",
       "    function toolbar_event(event) {\n",
       "        return fig.toolbar_button_onclick(event['data']);\n",
       "    }\n",
       "    function toolbar_mouse_event(event) {\n",
       "        return fig.toolbar_button_onmouseover(event['data']);\n",
       "    }\n",
       "\n",
       "    for(var toolbar_ind in mpl.toolbar_items) {\n",
       "        var name = mpl.toolbar_items[toolbar_ind][0];\n",
       "        var tooltip = mpl.toolbar_items[toolbar_ind][1];\n",
       "        var image = mpl.toolbar_items[toolbar_ind][2];\n",
       "        var method_name = mpl.toolbar_items[toolbar_ind][3];\n",
       "\n",
       "        if (!name) {\n",
       "            // put a spacer in here.\n",
       "            continue;\n",
       "        }\n",
       "        var button = $('<button/>');\n",
       "        button.addClass('ui-button ui-widget ui-state-default ui-corner-all ' +\n",
       "                        'ui-button-icon-only');\n",
       "        button.attr('role', 'button');\n",
       "        button.attr('aria-disabled', 'false');\n",
       "        button.click(method_name, toolbar_event);\n",
       "        button.mouseover(tooltip, toolbar_mouse_event);\n",
       "\n",
       "        var icon_img = $('<span/>');\n",
       "        icon_img.addClass('ui-button-icon-primary ui-icon');\n",
       "        icon_img.addClass(image);\n",
       "        icon_img.addClass('ui-corner-all');\n",
       "\n",
       "        var tooltip_span = $('<span/>');\n",
       "        tooltip_span.addClass('ui-button-text');\n",
       "        tooltip_span.html(tooltip);\n",
       "\n",
       "        button.append(icon_img);\n",
       "        button.append(tooltip_span);\n",
       "\n",
       "        nav_element.append(button);\n",
       "    }\n",
       "\n",
       "    var fmt_picker_span = $('<span/>');\n",
       "\n",
       "    var fmt_picker = $('<select/>');\n",
       "    fmt_picker.addClass('mpl-toolbar-option ui-widget ui-widget-content');\n",
       "    fmt_picker_span.append(fmt_picker);\n",
       "    nav_element.append(fmt_picker_span);\n",
       "    this.format_dropdown = fmt_picker[0];\n",
       "\n",
       "    for (var ind in mpl.extensions) {\n",
       "        var fmt = mpl.extensions[ind];\n",
       "        var option = $(\n",
       "            '<option/>', {selected: fmt === mpl.default_extension}).html(fmt);\n",
       "        fmt_picker.append(option)\n",
       "    }\n",
       "\n",
       "    // Add hover states to the ui-buttons\n",
       "    $( \".ui-button\" ).hover(\n",
       "        function() { $(this).addClass(\"ui-state-hover\");},\n",
       "        function() { $(this).removeClass(\"ui-state-hover\");}\n",
       "    );\n",
       "\n",
       "    var status_bar = $('<span class=\"mpl-message\"/>');\n",
       "    nav_element.append(status_bar);\n",
       "    this.message = status_bar[0];\n",
       "}\n",
       "\n",
       "mpl.figure.prototype.request_resize = function(x_pixels, y_pixels) {\n",
       "    // Request matplotlib to resize the figure. Matplotlib will then trigger a resize in the client,\n",
       "    // which will in turn request a refresh of the image.\n",
       "    this.send_message('resize', {'width': x_pixels, 'height': y_pixels});\n",
       "}\n",
       "\n",
       "mpl.figure.prototype.send_message = function(type, properties) {\n",
       "    properties['type'] = type;\n",
       "    properties['figure_id'] = this.id;\n",
       "    this.ws.send(JSON.stringify(properties));\n",
       "}\n",
       "\n",
       "mpl.figure.prototype.send_draw_message = function() {\n",
       "    if (!this.waiting) {\n",
       "        this.waiting = true;\n",
       "        this.ws.send(JSON.stringify({type: \"draw\", figure_id: this.id}));\n",
       "    }\n",
       "}\n",
       "\n",
       "\n",
       "mpl.figure.prototype.handle_save = function(fig, msg) {\n",
       "    var format_dropdown = fig.format_dropdown;\n",
       "    var format = format_dropdown.options[format_dropdown.selectedIndex].value;\n",
       "    fig.ondownload(fig, format);\n",
       "}\n",
       "\n",
       "\n",
       "mpl.figure.prototype.handle_resize = function(fig, msg) {\n",
       "    var size = msg['size'];\n",
       "    if (size[0] != fig.canvas.width || size[1] != fig.canvas.height) {\n",
       "        fig._resize_canvas(size[0], size[1]);\n",
       "        fig.send_message(\"refresh\", {});\n",
       "    };\n",
       "}\n",
       "\n",
       "mpl.figure.prototype.handle_rubberband = function(fig, msg) {\n",
       "    var x0 = msg['x0'];\n",
       "    var y0 = fig.canvas.height - msg['y0'];\n",
       "    var x1 = msg['x1'];\n",
       "    var y1 = fig.canvas.height - msg['y1'];\n",
       "    x0 = Math.floor(x0) + 0.5;\n",
       "    y0 = Math.floor(y0) + 0.5;\n",
       "    x1 = Math.floor(x1) + 0.5;\n",
       "    y1 = Math.floor(y1) + 0.5;\n",
       "    var min_x = Math.min(x0, x1);\n",
       "    var min_y = Math.min(y0, y1);\n",
       "    var width = Math.abs(x1 - x0);\n",
       "    var height = Math.abs(y1 - y0);\n",
       "\n",
       "    fig.rubberband_context.clearRect(\n",
       "        0, 0, fig.canvas.width, fig.canvas.height);\n",
       "\n",
       "    fig.rubberband_context.strokeRect(min_x, min_y, width, height);\n",
       "}\n",
       "\n",
       "mpl.figure.prototype.handle_figure_label = function(fig, msg) {\n",
       "    // Updates the figure title.\n",
       "    fig.header.textContent = msg['label'];\n",
       "}\n",
       "\n",
       "mpl.figure.prototype.handle_cursor = function(fig, msg) {\n",
       "    var cursor = msg['cursor'];\n",
       "    switch(cursor)\n",
       "    {\n",
       "    case 0:\n",
       "        cursor = 'pointer';\n",
       "        break;\n",
       "    case 1:\n",
       "        cursor = 'default';\n",
       "        break;\n",
       "    case 2:\n",
       "        cursor = 'crosshair';\n",
       "        break;\n",
       "    case 3:\n",
       "        cursor = 'move';\n",
       "        break;\n",
       "    }\n",
       "    fig.rubberband_canvas.style.cursor = cursor;\n",
       "}\n",
       "\n",
       "mpl.figure.prototype.handle_message = function(fig, msg) {\n",
       "    fig.message.textContent = msg['message'];\n",
       "}\n",
       "\n",
       "mpl.figure.prototype.handle_draw = function(fig, msg) {\n",
       "    // Request the server to send over a new figure.\n",
       "    fig.send_draw_message();\n",
       "}\n",
       "\n",
       "mpl.figure.prototype.handle_image_mode = function(fig, msg) {\n",
       "    fig.image_mode = msg['mode'];\n",
       "}\n",
       "\n",
       "mpl.figure.prototype.updated_canvas_event = function() {\n",
       "    // Called whenever the canvas gets updated.\n",
       "    this.send_message(\"ack\", {});\n",
       "}\n",
       "\n",
       "// A function to construct a web socket function for onmessage handling.\n",
       "// Called in the figure constructor.\n",
       "mpl.figure.prototype._make_on_message_function = function(fig) {\n",
       "    return function socket_on_message(evt) {\n",
       "        if (evt.data instanceof Blob) {\n",
       "            /* FIXME: We get \"Resource interpreted as Image but\n",
       "             * transferred with MIME type text/plain:\" errors on\n",
       "             * Chrome.  But how to set the MIME type?  It doesn't seem\n",
       "             * to be part of the websocket stream */\n",
       "            evt.data.type = \"image/png\";\n",
       "\n",
       "            /* Free the memory for the previous frames */\n",
       "            if (fig.imageObj.src) {\n",
       "                (window.URL || window.webkitURL).revokeObjectURL(\n",
       "                    fig.imageObj.src);\n",
       "            }\n",
       "\n",
       "            fig.imageObj.src = (window.URL || window.webkitURL).createObjectURL(\n",
       "                evt.data);\n",
       "            fig.updated_canvas_event();\n",
       "            fig.waiting = false;\n",
       "            return;\n",
       "        }\n",
       "        else if (typeof evt.data === 'string' && evt.data.slice(0, 21) == \"data:image/png;base64\") {\n",
       "            fig.imageObj.src = evt.data;\n",
       "            fig.updated_canvas_event();\n",
       "            fig.waiting = false;\n",
       "            return;\n",
       "        }\n",
       "\n",
       "        var msg = JSON.parse(evt.data);\n",
       "        var msg_type = msg['type'];\n",
       "\n",
       "        // Call the  \"handle_{type}\" callback, which takes\n",
       "        // the figure and JSON message as its only arguments.\n",
       "        try {\n",
       "            var callback = fig[\"handle_\" + msg_type];\n",
       "        } catch (e) {\n",
       "            console.log(\"No handler for the '\" + msg_type + \"' message type: \", msg);\n",
       "            return;\n",
       "        }\n",
       "\n",
       "        if (callback) {\n",
       "            try {\n",
       "                // console.log(\"Handling '\" + msg_type + \"' message: \", msg);\n",
       "                callback(fig, msg);\n",
       "            } catch (e) {\n",
       "                console.log(\"Exception inside the 'handler_\" + msg_type + \"' callback:\", e, e.stack, msg);\n",
       "            }\n",
       "        }\n",
       "    };\n",
       "}\n",
       "\n",
       "// from http://stackoverflow.com/questions/1114465/getting-mouse-location-in-canvas\n",
       "mpl.findpos = function(e) {\n",
       "    //this section is from http://www.quirksmode.org/js/events_properties.html\n",
       "    var targ;\n",
       "    if (!e)\n",
       "        e = window.event;\n",
       "    if (e.target)\n",
       "        targ = e.target;\n",
       "    else if (e.srcElement)\n",
       "        targ = e.srcElement;\n",
       "    if (targ.nodeType == 3) // defeat Safari bug\n",
       "        targ = targ.parentNode;\n",
       "\n",
       "    // jQuery normalizes the pageX and pageY\n",
       "    // pageX,Y are the mouse positions relative to the document\n",
       "    // offset() returns the position of the element relative to the document\n",
       "    var x = e.pageX - $(targ).offset().left;\n",
       "    var y = e.pageY - $(targ).offset().top;\n",
       "\n",
       "    return {\"x\": x, \"y\": y};\n",
       "};\n",
       "\n",
       "/*\n",
       " * return a copy of an object with only non-object keys\n",
       " * we need this to avoid circular references\n",
       " * http://stackoverflow.com/a/24161582/3208463\n",
       " */\n",
       "function simpleKeys (original) {\n",
       "  return Object.keys(original).reduce(function (obj, key) {\n",
       "    if (typeof original[key] !== 'object')\n",
       "        obj[key] = original[key]\n",
       "    return obj;\n",
       "  }, {});\n",
       "}\n",
       "\n",
       "mpl.figure.prototype.mouse_event = function(event, name) {\n",
       "    var canvas_pos = mpl.findpos(event)\n",
       "\n",
       "    if (name === 'button_press')\n",
       "    {\n",
       "        this.canvas.focus();\n",
       "        this.canvas_div.focus();\n",
       "    }\n",
       "\n",
       "    var x = canvas_pos.x;\n",
       "    var y = canvas_pos.y;\n",
       "\n",
       "    this.send_message(name, {x: x, y: y, button: event.button,\n",
       "                             step: event.step,\n",
       "                             guiEvent: simpleKeys(event)});\n",
       "\n",
       "    /* This prevents the web browser from automatically changing to\n",
       "     * the text insertion cursor when the button is pressed.  We want\n",
       "     * to control all of the cursor setting manually through the\n",
       "     * 'cursor' event from matplotlib */\n",
       "    event.preventDefault();\n",
       "    return false;\n",
       "}\n",
       "\n",
       "mpl.figure.prototype._key_event_extra = function(event, name) {\n",
       "    // Handle any extra behaviour associated with a key event\n",
       "}\n",
       "\n",
       "mpl.figure.prototype.key_event = function(event, name) {\n",
       "\n",
       "    // Prevent repeat events\n",
       "    if (name == 'key_press')\n",
       "    {\n",
       "        if (event.which === this._key)\n",
       "            return;\n",
       "        else\n",
       "            this._key = event.which;\n",
       "    }\n",
       "    if (name == 'key_release')\n",
       "        this._key = null;\n",
       "\n",
       "    var value = '';\n",
       "    if (event.ctrlKey && event.which != 17)\n",
       "        value += \"ctrl+\";\n",
       "    if (event.altKey && event.which != 18)\n",
       "        value += \"alt+\";\n",
       "    if (event.shiftKey && event.which != 16)\n",
       "        value += \"shift+\";\n",
       "\n",
       "    value += 'k';\n",
       "    value += event.which.toString();\n",
       "\n",
       "    this._key_event_extra(event, name);\n",
       "\n",
       "    this.send_message(name, {key: value,\n",
       "                             guiEvent: simpleKeys(event)});\n",
       "    return false;\n",
       "}\n",
       "\n",
       "mpl.figure.prototype.toolbar_button_onclick = function(name) {\n",
       "    if (name == 'download') {\n",
       "        this.handle_save(this, null);\n",
       "    } else {\n",
       "        this.send_message(\"toolbar_button\", {name: name});\n",
       "    }\n",
       "};\n",
       "\n",
       "mpl.figure.prototype.toolbar_button_onmouseover = function(tooltip) {\n",
       "    this.message.textContent = tooltip;\n",
       "};\n",
       "mpl.toolbar_items = [[\"Home\", \"Reset original view\", \"fa fa-home icon-home\", \"home\"], [\"Back\", \"Back to  previous view\", \"fa fa-arrow-left icon-arrow-left\", \"back\"], [\"Forward\", \"Forward to next view\", \"fa fa-arrow-right icon-arrow-right\", \"forward\"], [\"\", \"\", \"\", \"\"], [\"Pan\", \"Pan axes with left mouse, zoom with right\", \"fa fa-arrows icon-move\", \"pan\"], [\"Zoom\", \"Zoom to rectangle\", \"fa fa-square-o icon-check-empty\", \"zoom\"], [\"\", \"\", \"\", \"\"], [\"Download\", \"Download plot\", \"fa fa-floppy-o icon-save\", \"download\"]];\n",
       "\n",
       "mpl.extensions = [\"eps\", \"jpeg\", \"pdf\", \"png\", \"ps\", \"raw\", \"svg\", \"tif\"];\n",
       "\n",
       "mpl.default_extension = \"png\";var comm_websocket_adapter = function(comm) {\n",
       "    // Create a \"websocket\"-like object which calls the given IPython comm\n",
       "    // object with the appropriate methods. Currently this is a non binary\n",
       "    // socket, so there is still some room for performance tuning.\n",
       "    var ws = {};\n",
       "\n",
       "    ws.close = function() {\n",
       "        comm.close()\n",
       "    };\n",
       "    ws.send = function(m) {\n",
       "        //console.log('sending', m);\n",
       "        comm.send(m);\n",
       "    };\n",
       "    // Register the callback with on_msg.\n",
       "    comm.on_msg(function(msg) {\n",
       "        //console.log('receiving', msg['content']['data'], msg);\n",
       "        // Pass the mpl event to the overriden (by mpl) onmessage function.\n",
       "        ws.onmessage(msg['content']['data'])\n",
       "    });\n",
       "    return ws;\n",
       "}\n",
       "\n",
       "mpl.mpl_figure_comm = function(comm, msg) {\n",
       "    // This is the function which gets called when the mpl process\n",
       "    // starts-up an IPython Comm through the \"matplotlib\" channel.\n",
       "\n",
       "    var id = msg.content.data.id;\n",
       "    // Get hold of the div created by the display call when the Comm\n",
       "    // socket was opened in Python.\n",
       "    var element = $(\"#\" + id);\n",
       "    var ws_proxy = comm_websocket_adapter(comm)\n",
       "\n",
       "    function ondownload(figure, format) {\n",
       "        window.open(figure.imageObj.src);\n",
       "    }\n",
       "\n",
       "    var fig = new mpl.figure(id, ws_proxy,\n",
       "                           ondownload,\n",
       "                           element.get(0));\n",
       "\n",
       "    // Call onopen now - mpl needs it, as it is assuming we've passed it a real\n",
       "    // web socket which is closed, not our websocket->open comm proxy.\n",
       "    ws_proxy.onopen();\n",
       "\n",
       "    fig.parent_element = element.get(0);\n",
       "    fig.cell_info = mpl.find_output_cell(\"<div id='\" + id + \"'></div>\");\n",
       "    if (!fig.cell_info) {\n",
       "        console.error(\"Failed to find cell for figure\", id, fig);\n",
       "        return;\n",
       "    }\n",
       "\n",
       "    var output_index = fig.cell_info[2]\n",
       "    var cell = fig.cell_info[0];\n",
       "\n",
       "};\n",
       "\n",
       "mpl.figure.prototype.handle_close = function(fig, msg) {\n",
       "    fig.root.unbind('remove')\n",
       "\n",
       "    // Update the output cell to use the data from the current canvas.\n",
       "    fig.push_to_output();\n",
       "    var dataURL = fig.canvas.toDataURL();\n",
       "    // Re-enable the keyboard manager in IPython - without this line, in FF,\n",
       "    // the notebook keyboard shortcuts fail.\n",
       "    IPython.keyboard_manager.enable()\n",
       "    $(fig.parent_element).html('<img src=\"' + dataURL + '\">');\n",
       "    fig.close_ws(fig, msg);\n",
       "}\n",
       "\n",
       "mpl.figure.prototype.close_ws = function(fig, msg){\n",
       "    fig.send_message('closing', msg);\n",
       "    // fig.ws.close()\n",
       "}\n",
       "\n",
       "mpl.figure.prototype.push_to_output = function(remove_interactive) {\n",
       "    // Turn the data on the canvas into data in the output cell.\n",
       "    var dataURL = this.canvas.toDataURL();\n",
       "    this.cell_info[1]['text/html'] = '<img src=\"' + dataURL + '\">';\n",
       "}\n",
       "\n",
       "mpl.figure.prototype.updated_canvas_event = function() {\n",
       "    // Tell IPython that the notebook contents must change.\n",
       "    IPython.notebook.set_dirty(true);\n",
       "    this.send_message(\"ack\", {});\n",
       "    var fig = this;\n",
       "    // Wait a second, then push the new image to the DOM so\n",
       "    // that it is saved nicely (might be nice to debounce this).\n",
       "    setTimeout(function () { fig.push_to_output() }, 1000);\n",
       "}\n",
       "\n",
       "mpl.figure.prototype._init_toolbar = function() {\n",
       "    var fig = this;\n",
       "\n",
       "    var nav_element = $('<div/>')\n",
       "    nav_element.attr('style', 'width: 100%');\n",
       "    this.root.append(nav_element);\n",
       "\n",
       "    // Define a callback function for later on.\n",
       "    function toolbar_event(event) {\n",
       "        return fig.toolbar_button_onclick(event['data']);\n",
       "    }\n",
       "    function toolbar_mouse_event(event) {\n",
       "        return fig.toolbar_button_onmouseover(event['data']);\n",
       "    }\n",
       "\n",
       "    for(var toolbar_ind in mpl.toolbar_items){\n",
       "        var name = mpl.toolbar_items[toolbar_ind][0];\n",
       "        var tooltip = mpl.toolbar_items[toolbar_ind][1];\n",
       "        var image = mpl.toolbar_items[toolbar_ind][2];\n",
       "        var method_name = mpl.toolbar_items[toolbar_ind][3];\n",
       "\n",
       "        if (!name) { continue; };\n",
       "\n",
       "        var button = $('<button class=\"btn btn-default\" href=\"#\" title=\"' + name + '\"><i class=\"fa ' + image + ' fa-lg\"></i></button>');\n",
       "        button.click(method_name, toolbar_event);\n",
       "        button.mouseover(tooltip, toolbar_mouse_event);\n",
       "        nav_element.append(button);\n",
       "    }\n",
       "\n",
       "    // Add the status bar.\n",
       "    var status_bar = $('<span class=\"mpl-message\" style=\"text-align:right; float: right;\"/>');\n",
       "    nav_element.append(status_bar);\n",
       "    this.message = status_bar[0];\n",
       "\n",
       "    // Add the close button to the window.\n",
       "    var buttongrp = $('<div class=\"btn-group inline pull-right\"></div>');\n",
       "    var button = $('<button class=\"btn btn-mini btn-primary\" href=\"#\" title=\"Stop Interaction\"><i class=\"fa fa-power-off icon-remove icon-large\"></i></button>');\n",
       "    button.click(function (evt) { fig.handle_close(fig, {}); } );\n",
       "    button.mouseover('Stop Interaction', toolbar_mouse_event);\n",
       "    buttongrp.append(button);\n",
       "    var titlebar = this.root.find($('.ui-dialog-titlebar'));\n",
       "    titlebar.prepend(buttongrp);\n",
       "}\n",
       "\n",
       "mpl.figure.prototype._root_extra_style = function(el){\n",
       "    var fig = this\n",
       "    el.on(\"remove\", function(){\n",
       "\tfig.close_ws(fig, {});\n",
       "    });\n",
       "}\n",
       "\n",
       "mpl.figure.prototype._canvas_extra_style = function(el){\n",
       "    // this is important to make the div 'focusable\n",
       "    el.attr('tabindex', 0)\n",
       "    // reach out to IPython and tell the keyboard manager to turn it's self\n",
       "    // off when our div gets focus\n",
       "\n",
       "    // location in version 3\n",
       "    if (IPython.notebook.keyboard_manager) {\n",
       "        IPython.notebook.keyboard_manager.register_events(el);\n",
       "    }\n",
       "    else {\n",
       "        // location in version 2\n",
       "        IPython.keyboard_manager.register_events(el);\n",
       "    }\n",
       "\n",
       "}\n",
       "\n",
       "mpl.figure.prototype._key_event_extra = function(event, name) {\n",
       "    var manager = IPython.notebook.keyboard_manager;\n",
       "    if (!manager)\n",
       "        manager = IPython.keyboard_manager;\n",
       "\n",
       "    // Check for shift+enter\n",
       "    if (event.shiftKey && event.which == 13) {\n",
       "        this.canvas_div.blur();\n",
       "        event.shiftKey = false;\n",
       "        // Send a \"J\" for go to next cell\n",
       "        event.which = 74;\n",
       "        event.keyCode = 74;\n",
       "        manager.command_mode();\n",
       "        manager.handle_keydown(event);\n",
       "    }\n",
       "}\n",
       "\n",
       "mpl.figure.prototype.handle_save = function(fig, msg) {\n",
       "    fig.ondownload(fig, null);\n",
       "}\n",
       "\n",
       "\n",
       "mpl.find_output_cell = function(html_output) {\n",
       "    // Return the cell and output element which can be found *uniquely* in the notebook.\n",
       "    // Note - this is a bit hacky, but it is done because the \"notebook_saving.Notebook\"\n",
       "    // IPython event is triggered only after the cells have been serialised, which for\n",
       "    // our purposes (turning an active figure into a static one), is too late.\n",
       "    var cells = IPython.notebook.get_cells();\n",
       "    var ncells = cells.length;\n",
       "    for (var i=0; i<ncells; i++) {\n",
       "        var cell = cells[i];\n",
       "        if (cell.cell_type === 'code'){\n",
       "            for (var j=0; j<cell.output_area.outputs.length; j++) {\n",
       "                var data = cell.output_area.outputs[j];\n",
       "                if (data.data) {\n",
       "                    // IPython >= 3 moved mimebundle to data attribute of output\n",
       "                    data = data.data;\n",
       "                }\n",
       "                if (data['text/html'] == html_output) {\n",
       "                    return [cell, data, j];\n",
       "                }\n",
       "            }\n",
       "        }\n",
       "    }\n",
       "}\n",
       "\n",
       "// Register the function which deals with the matplotlib target/channel.\n",
       "// The kernel may be null if the page has been refreshed.\n",
       "if (IPython.notebook.kernel != null) {\n",
       "    IPython.notebook.kernel.comm_manager.register_target('matplotlib', mpl.mpl_figure_comm);\n",
       "}\n"
      ],
      "text/plain": [
       "<IPython.core.display.Javascript object>"
      ]
     },
     "metadata": {},
     "output_type": "display_data"
    },
    {
     "data": {
      "text/html": [
       "<img src=\"data:image/png;base64,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\">"
      ],
      "text/plain": [
       "<IPython.core.display.HTML object>"
      ]
     },
     "metadata": {},
     "output_type": "display_data"
    },
    {
     "data": {
      "text/plain": [
       "[<matplotlib.lines.Line2D at 0x10b38bba8>]"
      ]
     },
     "execution_count": 139,
     "metadata": {},
     "output_type": "execute_result"
    }
   ],
   "source": [
    "plt.plot([1, 2, 3], [1, 2, 1])"
   ]
  },
  {
   "cell_type": "code",
   "execution_count": 140,
   "metadata": {
    "collapsed": true,
    "jupyter": {
     "outputs_hidden": true
    }
   },
   "outputs": [],
   "source": [
    "x = numpy.linspace(0, numpy.pi*2)"
   ]
  },
  {
   "cell_type": "code",
   "execution_count": 141,
   "metadata": {
    "collapsed": true,
    "jupyter": {
     "outputs_hidden": true
    }
   },
   "outputs": [],
   "source": [
    "y = numpy.sin(x)"
   ]
  },
  {
   "cell_type": "code",
   "execution_count": 142,
   "metadata": {},
   "outputs": [
    {
     "data": {
      "text/plain": [
       "[<matplotlib.lines.Line2D at 0x10b15b320>]"
      ]
     },
     "execution_count": 142,
     "metadata": {},
     "output_type": "execute_result"
    }
   ],
   "source": [
    "\n",
    "plt.plot(x, y)"
   ]
  },
  {
   "cell_type": "code",
   "execution_count": 144,
   "metadata": {},
   "outputs": [
    {
     "data": {
      "application/javascript": [
       "/* Put everything inside the global mpl namespace */\n",
       "window.mpl = {};\n",
       "\n",
       "mpl.get_websocket_type = function() {\n",
       "    if (typeof(WebSocket) !== 'undefined') {\n",
       "        return WebSocket;\n",
       "    } else if (typeof(MozWebSocket) !== 'undefined') {\n",
       "        return MozWebSocket;\n",
       "    } else {\n",
       "        alert('Your browser does not have WebSocket support.' +\n",
       "              'Please try Chrome, Safari or Firefox ≥ 6. ' +\n",
       "              'Firefox 4 and 5 are also supported but you ' +\n",
       "              'have to enable WebSockets in about:config.');\n",
       "    };\n",
       "}\n",
       "\n",
       "mpl.figure = function(figure_id, websocket, ondownload, parent_element) {\n",
       "    this.id = figure_id;\n",
       "\n",
       "    this.ws = websocket;\n",
       "\n",
       "    this.supports_binary = (this.ws.binaryType != undefined);\n",
       "\n",
       "    if (!this.supports_binary) {\n",
       "        var warnings = document.getElementById(\"mpl-warnings\");\n",
       "        if (warnings) {\n",
       "            warnings.style.display = 'block';\n",
       "            warnings.textContent = (\n",
       "                \"This browser does not support binary websocket messages. \" +\n",
       "                    \"Performance may be slow.\");\n",
       "        }\n",
       "    }\n",
       "\n",
       "    this.imageObj = new Image();\n",
       "\n",
       "    this.context = undefined;\n",
       "    this.message = undefined;\n",
       "    this.canvas = undefined;\n",
       "    this.rubberband_canvas = undefined;\n",
       "    this.rubberband_context = undefined;\n",
       "    this.format_dropdown = undefined;\n",
       "\n",
       "    this.image_mode = 'full';\n",
       "\n",
       "    this.root = $('<div/>');\n",
       "    this._root_extra_style(this.root)\n",
       "    this.root.attr('style', 'display: inline-block');\n",
       "\n",
       "    $(parent_element).append(this.root);\n",
       "\n",
       "    this._init_header(this);\n",
       "    this._init_canvas(this);\n",
       "    this._init_toolbar(this);\n",
       "\n",
       "    var fig = this;\n",
       "\n",
       "    this.waiting = false;\n",
       "\n",
       "    this.ws.onopen =  function () {\n",
       "            fig.send_message(\"supports_binary\", {value: fig.supports_binary});\n",
       "            fig.send_message(\"send_image_mode\", {});\n",
       "            fig.send_message(\"refresh\", {});\n",
       "        }\n",
       "\n",
       "    this.imageObj.onload = function() {\n",
       "            if (fig.image_mode == 'full') {\n",
       "                // Full images could contain transparency (where diff images\n",
       "                // almost always do), so we need to clear the canvas so that\n",
       "                // there is no ghosting.\n",
       "                fig.context.clearRect(0, 0, fig.canvas.width, fig.canvas.height);\n",
       "            }\n",
       "            fig.context.drawImage(fig.imageObj, 0, 0);\n",
       "        };\n",
       "\n",
       "    this.imageObj.onunload = function() {\n",
       "        this.ws.close();\n",
       "    }\n",
       "\n",
       "    this.ws.onmessage = this._make_on_message_function(this);\n",
       "\n",
       "    this.ondownload = ondownload;\n",
       "}\n",
       "\n",
       "mpl.figure.prototype._init_header = function() {\n",
       "    var titlebar = $(\n",
       "        '<div class=\"ui-dialog-titlebar ui-widget-header ui-corner-all ' +\n",
       "        'ui-helper-clearfix\"/>');\n",
       "    var titletext = $(\n",
       "        '<div class=\"ui-dialog-title\" style=\"width: 100%; ' +\n",
       "        'text-align: center; padding: 3px;\"/>');\n",
       "    titlebar.append(titletext)\n",
       "    this.root.append(titlebar);\n",
       "    this.header = titletext[0];\n",
       "}\n",
       "\n",
       "\n",
       "\n",
       "mpl.figure.prototype._canvas_extra_style = function(canvas_div) {\n",
       "\n",
       "}\n",
       "\n",
       "\n",
       "mpl.figure.prototype._root_extra_style = function(canvas_div) {\n",
       "\n",
       "}\n",
       "\n",
       "mpl.figure.prototype._init_canvas = function() {\n",
       "    var fig = this;\n",
       "\n",
       "    var canvas_div = $('<div/>');\n",
       "\n",
       "    canvas_div.attr('style', 'position: relative; clear: both; outline: 0');\n",
       "\n",
       "    function canvas_keyboard_event(event) {\n",
       "        return fig.key_event(event, event['data']);\n",
       "    }\n",
       "\n",
       "    canvas_div.keydown('key_press', canvas_keyboard_event);\n",
       "    canvas_div.keyup('key_release', canvas_keyboard_event);\n",
       "    this.canvas_div = canvas_div\n",
       "    this._canvas_extra_style(canvas_div)\n",
       "    this.root.append(canvas_div);\n",
       "\n",
       "    var canvas = $('<canvas/>');\n",
       "    canvas.addClass('mpl-canvas');\n",
       "    canvas.attr('style', \"left: 0; top: 0; z-index: 0; outline: 0\")\n",
       "\n",
       "    this.canvas = canvas[0];\n",
       "    this.context = canvas[0].getContext(\"2d\");\n",
       "\n",
       "    var rubberband = $('<canvas/>');\n",
       "    rubberband.attr('style', \"position: absolute; left: 0; top: 0; z-index: 1;\")\n",
       "\n",
       "    var pass_mouse_events = true;\n",
       "\n",
       "    canvas_div.resizable({\n",
       "        start: function(event, ui) {\n",
       "            pass_mouse_events = false;\n",
       "        },\n",
       "        resize: function(event, ui) {\n",
       "            fig.request_resize(ui.size.width, ui.size.height);\n",
       "        },\n",
       "        stop: function(event, ui) {\n",
       "            pass_mouse_events = true;\n",
       "            fig.request_resize(ui.size.width, ui.size.height);\n",
       "        },\n",
       "    });\n",
       "\n",
       "    function mouse_event_fn(event) {\n",
       "        if (pass_mouse_events)\n",
       "            return fig.mouse_event(event, event['data']);\n",
       "    }\n",
       "\n",
       "    rubberband.mousedown('button_press', mouse_event_fn);\n",
       "    rubberband.mouseup('button_release', mouse_event_fn);\n",
       "    // Throttle sequential mouse events to 1 every 20ms.\n",
       "    rubberband.mousemove('motion_notify', mouse_event_fn);\n",
       "\n",
       "    rubberband.mouseenter('figure_enter', mouse_event_fn);\n",
       "    rubberband.mouseleave('figure_leave', mouse_event_fn);\n",
       "\n",
       "    canvas_div.on(\"wheel\", function (event) {\n",
       "        event = event.originalEvent;\n",
       "        event['data'] = 'scroll'\n",
       "        if (event.deltaY < 0) {\n",
       "            event.step = 1;\n",
       "        } else {\n",
       "            event.step = -1;\n",
       "        }\n",
       "        mouse_event_fn(event);\n",
       "    });\n",
       "\n",
       "    canvas_div.append(canvas);\n",
       "    canvas_div.append(rubberband);\n",
       "\n",
       "    this.rubberband = rubberband;\n",
       "    this.rubberband_canvas = rubberband[0];\n",
       "    this.rubberband_context = rubberband[0].getContext(\"2d\");\n",
       "    this.rubberband_context.strokeStyle = \"#000000\";\n",
       "\n",
       "    this._resize_canvas = function(width, height) {\n",
       "        // Keep the size of the canvas, canvas container, and rubber band\n",
       "        // canvas in synch.\n",
       "        canvas_div.css('width', width)\n",
       "        canvas_div.css('height', height)\n",
       "\n",
       "        canvas.attr('width', width);\n",
       "        canvas.attr('height', height);\n",
       "\n",
       "        rubberband.attr('width', width);\n",
       "        rubberband.attr('height', height);\n",
       "    }\n",
       "\n",
       "    // Set the figure to an initial 600x600px, this will subsequently be updated\n",
       "    // upon first draw.\n",
       "    this._resize_canvas(600, 600);\n",
       "\n",
       "    // Disable right mouse context menu.\n",
       "    $(this.rubberband_canvas).bind(\"contextmenu\",function(e){\n",
       "        return false;\n",
       "    });\n",
       "\n",
       "    function set_focus () {\n",
       "        canvas.focus();\n",
       "        canvas_div.focus();\n",
       "    }\n",
       "\n",
       "    window.setTimeout(set_focus, 100);\n",
       "}\n",
       "\n",
       "mpl.figure.prototype._init_toolbar = function() {\n",
       "    var fig = this;\n",
       "\n",
       "    var nav_element = $('<div/>')\n",
       "    nav_element.attr('style', 'width: 100%');\n",
       "    this.root.append(nav_element);\n",
       "\n",
       "    // Define a callback function for later on.\n",
       "    function toolbar_event(event) {\n",
       "        return fig.toolbar_button_onclick(event['data']);\n",
       "    }\n",
       "    function toolbar_mouse_event(event) {\n",
       "        return fig.toolbar_button_onmouseover(event['data']);\n",
       "    }\n",
       "\n",
       "    for(var toolbar_ind in mpl.toolbar_items) {\n",
       "        var name = mpl.toolbar_items[toolbar_ind][0];\n",
       "        var tooltip = mpl.toolbar_items[toolbar_ind][1];\n",
       "        var image = mpl.toolbar_items[toolbar_ind][2];\n",
       "        var method_name = mpl.toolbar_items[toolbar_ind][3];\n",
       "\n",
       "        if (!name) {\n",
       "            // put a spacer in here.\n",
       "            continue;\n",
       "        }\n",
       "        var button = $('<button/>');\n",
       "        button.addClass('ui-button ui-widget ui-state-default ui-corner-all ' +\n",
       "                        'ui-button-icon-only');\n",
       "        button.attr('role', 'button');\n",
       "        button.attr('aria-disabled', 'false');\n",
       "        button.click(method_name, toolbar_event);\n",
       "        button.mouseover(tooltip, toolbar_mouse_event);\n",
       "\n",
       "        var icon_img = $('<span/>');\n",
       "        icon_img.addClass('ui-button-icon-primary ui-icon');\n",
       "        icon_img.addClass(image);\n",
       "        icon_img.addClass('ui-corner-all');\n",
       "\n",
       "        var tooltip_span = $('<span/>');\n",
       "        tooltip_span.addClass('ui-button-text');\n",
       "        tooltip_span.html(tooltip);\n",
       "\n",
       "        button.append(icon_img);\n",
       "        button.append(tooltip_span);\n",
       "\n",
       "        nav_element.append(button);\n",
       "    }\n",
       "\n",
       "    var fmt_picker_span = $('<span/>');\n",
       "\n",
       "    var fmt_picker = $('<select/>');\n",
       "    fmt_picker.addClass('mpl-toolbar-option ui-widget ui-widget-content');\n",
       "    fmt_picker_span.append(fmt_picker);\n",
       "    nav_element.append(fmt_picker_span);\n",
       "    this.format_dropdown = fmt_picker[0];\n",
       "\n",
       "    for (var ind in mpl.extensions) {\n",
       "        var fmt = mpl.extensions[ind];\n",
       "        var option = $(\n",
       "            '<option/>', {selected: fmt === mpl.default_extension}).html(fmt);\n",
       "        fmt_picker.append(option)\n",
       "    }\n",
       "\n",
       "    // Add hover states to the ui-buttons\n",
       "    $( \".ui-button\" ).hover(\n",
       "        function() { $(this).addClass(\"ui-state-hover\");},\n",
       "        function() { $(this).removeClass(\"ui-state-hover\");}\n",
       "    );\n",
       "\n",
       "    var status_bar = $('<span class=\"mpl-message\"/>');\n",
       "    nav_element.append(status_bar);\n",
       "    this.message = status_bar[0];\n",
       "}\n",
       "\n",
       "mpl.figure.prototype.request_resize = function(x_pixels, y_pixels) {\n",
       "    // Request matplotlib to resize the figure. Matplotlib will then trigger a resize in the client,\n",
       "    // which will in turn request a refresh of the image.\n",
       "    this.send_message('resize', {'width': x_pixels, 'height': y_pixels});\n",
       "}\n",
       "\n",
       "mpl.figure.prototype.send_message = function(type, properties) {\n",
       "    properties['type'] = type;\n",
       "    properties['figure_id'] = this.id;\n",
       "    this.ws.send(JSON.stringify(properties));\n",
       "}\n",
       "\n",
       "mpl.figure.prototype.send_draw_message = function() {\n",
       "    if (!this.waiting) {\n",
       "        this.waiting = true;\n",
       "        this.ws.send(JSON.stringify({type: \"draw\", figure_id: this.id}));\n",
       "    }\n",
       "}\n",
       "\n",
       "\n",
       "mpl.figure.prototype.handle_save = function(fig, msg) {\n",
       "    var format_dropdown = fig.format_dropdown;\n",
       "    var format = format_dropdown.options[format_dropdown.selectedIndex].value;\n",
       "    fig.ondownload(fig, format);\n",
       "}\n",
       "\n",
       "\n",
       "mpl.figure.prototype.handle_resize = function(fig, msg) {\n",
       "    var size = msg['size'];\n",
       "    if (size[0] != fig.canvas.width || size[1] != fig.canvas.height) {\n",
       "        fig._resize_canvas(size[0], size[1]);\n",
       "        fig.send_message(\"refresh\", {});\n",
       "    };\n",
       "}\n",
       "\n",
       "mpl.figure.prototype.handle_rubberband = function(fig, msg) {\n",
       "    var x0 = msg['x0'];\n",
       "    var y0 = fig.canvas.height - msg['y0'];\n",
       "    var x1 = msg['x1'];\n",
       "    var y1 = fig.canvas.height - msg['y1'];\n",
       "    x0 = Math.floor(x0) + 0.5;\n",
       "    y0 = Math.floor(y0) + 0.5;\n",
       "    x1 = Math.floor(x1) + 0.5;\n",
       "    y1 = Math.floor(y1) + 0.5;\n",
       "    var min_x = Math.min(x0, x1);\n",
       "    var min_y = Math.min(y0, y1);\n",
       "    var width = Math.abs(x1 - x0);\n",
       "    var height = Math.abs(y1 - y0);\n",
       "\n",
       "    fig.rubberband_context.clearRect(\n",
       "        0, 0, fig.canvas.width, fig.canvas.height);\n",
       "\n",
       "    fig.rubberband_context.strokeRect(min_x, min_y, width, height);\n",
       "}\n",
       "\n",
       "mpl.figure.prototype.handle_figure_label = function(fig, msg) {\n",
       "    // Updates the figure title.\n",
       "    fig.header.textContent = msg['label'];\n",
       "}\n",
       "\n",
       "mpl.figure.prototype.handle_cursor = function(fig, msg) {\n",
       "    var cursor = msg['cursor'];\n",
       "    switch(cursor)\n",
       "    {\n",
       "    case 0:\n",
       "        cursor = 'pointer';\n",
       "        break;\n",
       "    case 1:\n",
       "        cursor = 'default';\n",
       "        break;\n",
       "    case 2:\n",
       "        cursor = 'crosshair';\n",
       "        break;\n",
       "    case 3:\n",
       "        cursor = 'move';\n",
       "        break;\n",
       "    }\n",
       "    fig.rubberband_canvas.style.cursor = cursor;\n",
       "}\n",
       "\n",
       "mpl.figure.prototype.handle_message = function(fig, msg) {\n",
       "    fig.message.textContent = msg['message'];\n",
       "}\n",
       "\n",
       "mpl.figure.prototype.handle_draw = function(fig, msg) {\n",
       "    // Request the server to send over a new figure.\n",
       "    fig.send_draw_message();\n",
       "}\n",
       "\n",
       "mpl.figure.prototype.handle_image_mode = function(fig, msg) {\n",
       "    fig.image_mode = msg['mode'];\n",
       "}\n",
       "\n",
       "mpl.figure.prototype.updated_canvas_event = function() {\n",
       "    // Called whenever the canvas gets updated.\n",
       "    this.send_message(\"ack\", {});\n",
       "}\n",
       "\n",
       "// A function to construct a web socket function for onmessage handling.\n",
       "// Called in the figure constructor.\n",
       "mpl.figure.prototype._make_on_message_function = function(fig) {\n",
       "    return function socket_on_message(evt) {\n",
       "        if (evt.data instanceof Blob) {\n",
       "            /* FIXME: We get \"Resource interpreted as Image but\n",
       "             * transferred with MIME type text/plain:\" errors on\n",
       "             * Chrome.  But how to set the MIME type?  It doesn't seem\n",
       "             * to be part of the websocket stream */\n",
       "            evt.data.type = \"image/png\";\n",
       "\n",
       "            /* Free the memory for the previous frames */\n",
       "            if (fig.imageObj.src) {\n",
       "                (window.URL || window.webkitURL).revokeObjectURL(\n",
       "                    fig.imageObj.src);\n",
       "            }\n",
       "\n",
       "            fig.imageObj.src = (window.URL || window.webkitURL).createObjectURL(\n",
       "                evt.data);\n",
       "            fig.updated_canvas_event();\n",
       "            fig.waiting = false;\n",
       "            return;\n",
       "        }\n",
       "        else if (typeof evt.data === 'string' && evt.data.slice(0, 21) == \"data:image/png;base64\") {\n",
       "            fig.imageObj.src = evt.data;\n",
       "            fig.updated_canvas_event();\n",
       "            fig.waiting = false;\n",
       "            return;\n",
       "        }\n",
       "\n",
       "        var msg = JSON.parse(evt.data);\n",
       "        var msg_type = msg['type'];\n",
       "\n",
       "        // Call the  \"handle_{type}\" callback, which takes\n",
       "        // the figure and JSON message as its only arguments.\n",
       "        try {\n",
       "            var callback = fig[\"handle_\" + msg_type];\n",
       "        } catch (e) {\n",
       "            console.log(\"No handler for the '\" + msg_type + \"' message type: \", msg);\n",
       "            return;\n",
       "        }\n",
       "\n",
       "        if (callback) {\n",
       "            try {\n",
       "                // console.log(\"Handling '\" + msg_type + \"' message: \", msg);\n",
       "                callback(fig, msg);\n",
       "            } catch (e) {\n",
       "                console.log(\"Exception inside the 'handler_\" + msg_type + \"' callback:\", e, e.stack, msg);\n",
       "            }\n",
       "        }\n",
       "    };\n",
       "}\n",
       "\n",
       "// from http://stackoverflow.com/questions/1114465/getting-mouse-location-in-canvas\n",
       "mpl.findpos = function(e) {\n",
       "    //this section is from http://www.quirksmode.org/js/events_properties.html\n",
       "    var targ;\n",
       "    if (!e)\n",
       "        e = window.event;\n",
       "    if (e.target)\n",
       "        targ = e.target;\n",
       "    else if (e.srcElement)\n",
       "        targ = e.srcElement;\n",
       "    if (targ.nodeType == 3) // defeat Safari bug\n",
       "        targ = targ.parentNode;\n",
       "\n",
       "    // jQuery normalizes the pageX and pageY\n",
       "    // pageX,Y are the mouse positions relative to the document\n",
       "    // offset() returns the position of the element relative to the document\n",
       "    var x = e.pageX - $(targ).offset().left;\n",
       "    var y = e.pageY - $(targ).offset().top;\n",
       "\n",
       "    return {\"x\": x, \"y\": y};\n",
       "};\n",
       "\n",
       "/*\n",
       " * return a copy of an object with only non-object keys\n",
       " * we need this to avoid circular references\n",
       " * http://stackoverflow.com/a/24161582/3208463\n",
       " */\n",
       "function simpleKeys (original) {\n",
       "  return Object.keys(original).reduce(function (obj, key) {\n",
       "    if (typeof original[key] !== 'object')\n",
       "        obj[key] = original[key]\n",
       "    return obj;\n",
       "  }, {});\n",
       "}\n",
       "\n",
       "mpl.figure.prototype.mouse_event = function(event, name) {\n",
       "    var canvas_pos = mpl.findpos(event)\n",
       "\n",
       "    if (name === 'button_press')\n",
       "    {\n",
       "        this.canvas.focus();\n",
       "        this.canvas_div.focus();\n",
       "    }\n",
       "\n",
       "    var x = canvas_pos.x;\n",
       "    var y = canvas_pos.y;\n",
       "\n",
       "    this.send_message(name, {x: x, y: y, button: event.button,\n",
       "                             step: event.step,\n",
       "                             guiEvent: simpleKeys(event)});\n",
       "\n",
       "    /* This prevents the web browser from automatically changing to\n",
       "     * the text insertion cursor when the button is pressed.  We want\n",
       "     * to control all of the cursor setting manually through the\n",
       "     * 'cursor' event from matplotlib */\n",
       "    event.preventDefault();\n",
       "    return false;\n",
       "}\n",
       "\n",
       "mpl.figure.prototype._key_event_extra = function(event, name) {\n",
       "    // Handle any extra behaviour associated with a key event\n",
       "}\n",
       "\n",
       "mpl.figure.prototype.key_event = function(event, name) {\n",
       "\n",
       "    // Prevent repeat events\n",
       "    if (name == 'key_press')\n",
       "    {\n",
       "        if (event.which === this._key)\n",
       "            return;\n",
       "        else\n",
       "            this._key = event.which;\n",
       "    }\n",
       "    if (name == 'key_release')\n",
       "        this._key = null;\n",
       "\n",
       "    var value = '';\n",
       "    if (event.ctrlKey && event.which != 17)\n",
       "        value += \"ctrl+\";\n",
       "    if (event.altKey && event.which != 18)\n",
       "        value += \"alt+\";\n",
       "    if (event.shiftKey && event.which != 16)\n",
       "        value += \"shift+\";\n",
       "\n",
       "    value += 'k';\n",
       "    value += event.which.toString();\n",
       "\n",
       "    this._key_event_extra(event, name);\n",
       "\n",
       "    this.send_message(name, {key: value,\n",
       "                             guiEvent: simpleKeys(event)});\n",
       "    return false;\n",
       "}\n",
       "\n",
       "mpl.figure.prototype.toolbar_button_onclick = function(name) {\n",
       "    if (name == 'download') {\n",
       "        this.handle_save(this, null);\n",
       "    } else {\n",
       "        this.send_message(\"toolbar_button\", {name: name});\n",
       "    }\n",
       "};\n",
       "\n",
       "mpl.figure.prototype.toolbar_button_onmouseover = function(tooltip) {\n",
       "    this.message.textContent = tooltip;\n",
       "};\n",
       "mpl.toolbar_items = [[\"Home\", \"Reset original view\", \"fa fa-home icon-home\", \"home\"], [\"Back\", \"Back to  previous view\", \"fa fa-arrow-left icon-arrow-left\", \"back\"], [\"Forward\", \"Forward to next view\", \"fa fa-arrow-right icon-arrow-right\", \"forward\"], [\"\", \"\", \"\", \"\"], [\"Pan\", \"Pan axes with left mouse, zoom with right\", \"fa fa-arrows icon-move\", \"pan\"], [\"Zoom\", \"Zoom to rectangle\", \"fa fa-square-o icon-check-empty\", \"zoom\"], [\"\", \"\", \"\", \"\"], [\"Download\", \"Download plot\", \"fa fa-floppy-o icon-save\", \"download\"]];\n",
       "\n",
       "mpl.extensions = [\"eps\", \"jpeg\", \"pdf\", \"png\", \"ps\", \"raw\", \"svg\", \"tif\"];\n",
       "\n",
       "mpl.default_extension = \"png\";var comm_websocket_adapter = function(comm) {\n",
       "    // Create a \"websocket\"-like object which calls the given IPython comm\n",
       "    // object with the appropriate methods. Currently this is a non binary\n",
       "    // socket, so there is still some room for performance tuning.\n",
       "    var ws = {};\n",
       "\n",
       "    ws.close = function() {\n",
       "        comm.close()\n",
       "    };\n",
       "    ws.send = function(m) {\n",
       "        //console.log('sending', m);\n",
       "        comm.send(m);\n",
       "    };\n",
       "    // Register the callback with on_msg.\n",
       "    comm.on_msg(function(msg) {\n",
       "        //console.log('receiving', msg['content']['data'], msg);\n",
       "        // Pass the mpl event to the overriden (by mpl) onmessage function.\n",
       "        ws.onmessage(msg['content']['data'])\n",
       "    });\n",
       "    return ws;\n",
       "}\n",
       "\n",
       "mpl.mpl_figure_comm = function(comm, msg) {\n",
       "    // This is the function which gets called when the mpl process\n",
       "    // starts-up an IPython Comm through the \"matplotlib\" channel.\n",
       "\n",
       "    var id = msg.content.data.id;\n",
       "    // Get hold of the div created by the display call when the Comm\n",
       "    // socket was opened in Python.\n",
       "    var element = $(\"#\" + id);\n",
       "    var ws_proxy = comm_websocket_adapter(comm)\n",
       "\n",
       "    function ondownload(figure, format) {\n",
       "        window.open(figure.imageObj.src);\n",
       "    }\n",
       "\n",
       "    var fig = new mpl.figure(id, ws_proxy,\n",
       "                           ondownload,\n",
       "                           element.get(0));\n",
       "\n",
       "    // Call onopen now - mpl needs it, as it is assuming we've passed it a real\n",
       "    // web socket which is closed, not our websocket->open comm proxy.\n",
       "    ws_proxy.onopen();\n",
       "\n",
       "    fig.parent_element = element.get(0);\n",
       "    fig.cell_info = mpl.find_output_cell(\"<div id='\" + id + \"'></div>\");\n",
       "    if (!fig.cell_info) {\n",
       "        console.error(\"Failed to find cell for figure\", id, fig);\n",
       "        return;\n",
       "    }\n",
       "\n",
       "    var output_index = fig.cell_info[2]\n",
       "    var cell = fig.cell_info[0];\n",
       "\n",
       "};\n",
       "\n",
       "mpl.figure.prototype.handle_close = function(fig, msg) {\n",
       "    fig.root.unbind('remove')\n",
       "\n",
       "    // Update the output cell to use the data from the current canvas.\n",
       "    fig.push_to_output();\n",
       "    var dataURL = fig.canvas.toDataURL();\n",
       "    // Re-enable the keyboard manager in IPython - without this line, in FF,\n",
       "    // the notebook keyboard shortcuts fail.\n",
       "    IPython.keyboard_manager.enable()\n",
       "    $(fig.parent_element).html('<img src=\"' + dataURL + '\">');\n",
       "    fig.close_ws(fig, msg);\n",
       "}\n",
       "\n",
       "mpl.figure.prototype.close_ws = function(fig, msg){\n",
       "    fig.send_message('closing', msg);\n",
       "    // fig.ws.close()\n",
       "}\n",
       "\n",
       "mpl.figure.prototype.push_to_output = function(remove_interactive) {\n",
       "    // Turn the data on the canvas into data in the output cell.\n",
       "    var dataURL = this.canvas.toDataURL();\n",
       "    this.cell_info[1]['text/html'] = '<img src=\"' + dataURL + '\">';\n",
       "}\n",
       "\n",
       "mpl.figure.prototype.updated_canvas_event = function() {\n",
       "    // Tell IPython that the notebook contents must change.\n",
       "    IPython.notebook.set_dirty(true);\n",
       "    this.send_message(\"ack\", {});\n",
       "    var fig = this;\n",
       "    // Wait a second, then push the new image to the DOM so\n",
       "    // that it is saved nicely (might be nice to debounce this).\n",
       "    setTimeout(function () { fig.push_to_output() }, 1000);\n",
       "}\n",
       "\n",
       "mpl.figure.prototype._init_toolbar = function() {\n",
       "    var fig = this;\n",
       "\n",
       "    var nav_element = $('<div/>')\n",
       "    nav_element.attr('style', 'width: 100%');\n",
       "    this.root.append(nav_element);\n",
       "\n",
       "    // Define a callback function for later on.\n",
       "    function toolbar_event(event) {\n",
       "        return fig.toolbar_button_onclick(event['data']);\n",
       "    }\n",
       "    function toolbar_mouse_event(event) {\n",
       "        return fig.toolbar_button_onmouseover(event['data']);\n",
       "    }\n",
       "\n",
       "    for(var toolbar_ind in mpl.toolbar_items){\n",
       "        var name = mpl.toolbar_items[toolbar_ind][0];\n",
       "        var tooltip = mpl.toolbar_items[toolbar_ind][1];\n",
       "        var image = mpl.toolbar_items[toolbar_ind][2];\n",
       "        var method_name = mpl.toolbar_items[toolbar_ind][3];\n",
       "\n",
       "        if (!name) { continue; };\n",
       "\n",
       "        var button = $('<button class=\"btn btn-default\" href=\"#\" title=\"' + name + '\"><i class=\"fa ' + image + ' fa-lg\"></i></button>');\n",
       "        button.click(method_name, toolbar_event);\n",
       "        button.mouseover(tooltip, toolbar_mouse_event);\n",
       "        nav_element.append(button);\n",
       "    }\n",
       "\n",
       "    // Add the status bar.\n",
       "    var status_bar = $('<span class=\"mpl-message\" style=\"text-align:right; float: right;\"/>');\n",
       "    nav_element.append(status_bar);\n",
       "    this.message = status_bar[0];\n",
       "\n",
       "    // Add the close button to the window.\n",
       "    var buttongrp = $('<div class=\"btn-group inline pull-right\"></div>');\n",
       "    var button = $('<button class=\"btn btn-mini btn-primary\" href=\"#\" title=\"Stop Interaction\"><i class=\"fa fa-power-off icon-remove icon-large\"></i></button>');\n",
       "    button.click(function (evt) { fig.handle_close(fig, {}); } );\n",
       "    button.mouseover('Stop Interaction', toolbar_mouse_event);\n",
       "    buttongrp.append(button);\n",
       "    var titlebar = this.root.find($('.ui-dialog-titlebar'));\n",
       "    titlebar.prepend(buttongrp);\n",
       "}\n",
       "\n",
       "mpl.figure.prototype._root_extra_style = function(el){\n",
       "    var fig = this\n",
       "    el.on(\"remove\", function(){\n",
       "\tfig.close_ws(fig, {});\n",
       "    });\n",
       "}\n",
       "\n",
       "mpl.figure.prototype._canvas_extra_style = function(el){\n",
       "    // this is important to make the div 'focusable\n",
       "    el.attr('tabindex', 0)\n",
       "    // reach out to IPython and tell the keyboard manager to turn it's self\n",
       "    // off when our div gets focus\n",
       "\n",
       "    // location in version 3\n",
       "    if (IPython.notebook.keyboard_manager) {\n",
       "        IPython.notebook.keyboard_manager.register_events(el);\n",
       "    }\n",
       "    else {\n",
       "        // location in version 2\n",
       "        IPython.keyboard_manager.register_events(el);\n",
       "    }\n",
       "\n",
       "}\n",
       "\n",
       "mpl.figure.prototype._key_event_extra = function(event, name) {\n",
       "    var manager = IPython.notebook.keyboard_manager;\n",
       "    if (!manager)\n",
       "        manager = IPython.keyboard_manager;\n",
       "\n",
       "    // Check for shift+enter\n",
       "    if (event.shiftKey && event.which == 13) {\n",
       "        this.canvas_div.blur();\n",
       "        event.shiftKey = false;\n",
       "        // Send a \"J\" for go to next cell\n",
       "        event.which = 74;\n",
       "        event.keyCode = 74;\n",
       "        manager.command_mode();\n",
       "        manager.handle_keydown(event);\n",
       "    }\n",
       "}\n",
       "\n",
       "mpl.figure.prototype.handle_save = function(fig, msg) {\n",
       "    fig.ondownload(fig, null);\n",
       "}\n",
       "\n",
       "\n",
       "mpl.find_output_cell = function(html_output) {\n",
       "    // Return the cell and output element which can be found *uniquely* in the notebook.\n",
       "    // Note - this is a bit hacky, but it is done because the \"notebook_saving.Notebook\"\n",
       "    // IPython event is triggered only after the cells have been serialised, which for\n",
       "    // our purposes (turning an active figure into a static one), is too late.\n",
       "    var cells = IPython.notebook.get_cells();\n",
       "    var ncells = cells.length;\n",
       "    for (var i=0; i<ncells; i++) {\n",
       "        var cell = cells[i];\n",
       "        if (cell.cell_type === 'code'){\n",
       "            for (var j=0; j<cell.output_area.outputs.length; j++) {\n",
       "                var data = cell.output_area.outputs[j];\n",
       "                if (data.data) {\n",
       "                    // IPython >= 3 moved mimebundle to data attribute of output\n",
       "                    data = data.data;\n",
       "                }\n",
       "                if (data['text/html'] == html_output) {\n",
       "                    return [cell, data, j];\n",
       "                }\n",
       "            }\n",
       "        }\n",
       "    }\n",
       "}\n",
       "\n",
       "// Register the function which deals with the matplotlib target/channel.\n",
       "// The kernel may be null if the page has been refreshed.\n",
       "if (IPython.notebook.kernel != null) {\n",
       "    IPython.notebook.kernel.comm_manager.register_target('matplotlib', mpl.mpl_figure_comm);\n",
       "}\n"
      ],
      "text/plain": [
       "<IPython.core.display.Javascript object>"
      ]
     },
     "metadata": {},
     "output_type": "display_data"
    },
    {
     "data": {
      "text/html": [
       "<img src=\"data:image/png;base64,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\">"
      ],
      "text/plain": [
       "<IPython.core.display.HTML object>"
      ]
     },
     "metadata": {},
     "output_type": "display_data"
    },
    {
     "data": {
      "text/plain": [
       "[<matplotlib.lines.Line2D at 0x10ba88cf8>]"
      ]
     },
     "execution_count": 144,
     "metadata": {},
     "output_type": "execute_result"
    }
   ],
   "source": [
    "plt.figure()\n",
    "plt.plot(x, y)"
   ]
  },
  {
   "cell_type": "code",
   "execution_count": 147,
   "metadata": {
    "collapsed": true,
    "jupyter": {
     "outputs_hidden": true
    }
   },
   "outputs": [],
   "source": [
    "a = [100, 1, 3]"
   ]
  },
  {
   "cell_type": "code",
   "execution_count": 153,
   "metadata": {},
   "outputs": [
    {
     "name": "stdout",
     "output_type": "stream",
     "text": [
      "100\n",
      "1\n",
      "3\n"
     ]
    }
   ],
   "source": [
    "for i in range(0, len(a)):\n",
    "    print(a[i])"
   ]
  },
  {
   "cell_type": "code",
   "execution_count": 159,
   "metadata": {},
   "outputs": [
    {
     "name": "stdout",
     "output_type": "stream",
     "text": [
      "100\n",
      "another\n",
      "1\n",
      "another\n",
      "3\n",
      "another\n",
      "done\n"
     ]
    }
   ],
   "source": [
    "for e in a:\n",
    "    print(e)\n",
    "    print(\"another\")\n",
    "print(\"done\")"
   ]
  },
  {
   "cell_type": "code",
   "execution_count": 160,
   "metadata": {
    "collapsed": true,
    "jupyter": {
     "outputs_hidden": true
    }
   },
   "outputs": [],
   "source": [
    "a = 20\n",
    "while a > 10:\n",
    "    a -= 1\n",
    "    "
   ]
  },
  {
   "cell_type": "code",
   "execution_count": 168,
   "metadata": {},
   "outputs": [
    {
     "name": "stdout",
     "output_type": "stream",
     "text": [
      "Yup\n"
     ]
    }
   ],
   "source": [
    "if a > 10 and a < 3:\n",
    "    print(\"Nope\")\n",
    "else:\n",
    "    print(\"Yup\")"
   ]
  },
  {
   "cell_type": "code",
   "execution_count": 170,
   "metadata": {
    "collapsed": true,
    "jupyter": {
     "outputs_hidden": true
    }
   },
   "outputs": [],
   "source": [
    "a = 5"
   ]
  },
  {
   "cell_type": "code",
   "execution_count": 172,
   "metadata": {},
   "outputs": [
    {
     "data": {
      "text/plain": [
       "True"
      ]
     },
     "execution_count": 172,
     "metadata": {},
     "output_type": "execute_result"
    }
   ],
   "source": [
    "1 < a < 10 < 50 < 100 #=> 1<a and a < 10"
   ]
  },
  {
   "cell_type": "code",
   "execution_count": 186,
   "metadata": {
    "collapsed": true,
    "jupyter": {
     "outputs_hidden": true
    }
   },
   "outputs": [],
   "source": [
    "b = 5"
   ]
  },
  {
   "cell_type": "code",
   "execution_count": 187,
   "metadata": {
    "collapsed": true,
    "jupyter": {
     "outputs_hidden": true
    }
   },
   "outputs": [],
   "source": [
    "def f(a):\n",
    "    return a + b"
   ]
  },
  {
   "cell_type": "code",
   "execution_count": 188,
   "metadata": {},
   "outputs": [
    {
     "data": {
      "text/plain": [
       "7"
      ]
     },
     "execution_count": 188,
     "metadata": {},
     "output_type": "execute_result"
    }
   ],
   "source": [
    "f(2)"
   ]
  },
  {
   "cell_type": "code",
   "execution_count": 190,
   "metadata": {
    "collapsed": true,
    "jupyter": {
     "outputs_hidden": true
    }
   },
   "outputs": [],
   "source": [
    "b = 2"
   ]
  },
  {
   "cell_type": "code",
   "execution_count": 191,
   "metadata": {},
   "outputs": [
    {
     "data": {
      "text/plain": [
       "4"
      ]
     },
     "execution_count": 191,
     "metadata": {},
     "output_type": "execute_result"
    }
   ],
   "source": [
    "f(2)"
   ]
  },
  {
   "cell_type": "code",
   "execution_count": 192,
   "metadata": {
    "collapsed": true,
    "jupyter": {
     "outputs_hidden": true
    }
   },
   "outputs": [],
   "source": [
    "def functionprinter(g):\n",
    "    print(g(1))"
   ]
  },
  {
   "cell_type": "code",
   "execution_count": 194,
   "metadata": {},
   "outputs": [
    {
     "name": "stdout",
     "output_type": "stream",
     "text": [
      "3\n"
     ]
    }
   ],
   "source": [
    "functionprinter(f)"
   ]
  },
  {
   "cell_type": "code",
   "execution_count": 196,
   "metadata": {},
   "outputs": [
    {
     "data": {
      "text/plain": [
       "3"
      ]
     },
     "execution_count": 196,
     "metadata": {},
     "output_type": "execute_result"
    }
   ],
   "source": [
    "len([1, 2, 3])"
   ]
  },
  {
   "cell_type": "code",
   "execution_count": 197,
   "metadata": {
    "collapsed": true,
    "jupyter": {
     "outputs_hidden": true
    }
   },
   "outputs": [],
   "source": [
    "a = len"
   ]
  },
  {
   "cell_type": "code",
   "execution_count": 198,
   "metadata": {},
   "outputs": [
    {
     "data": {
      "text/plain": [
       "3"
      ]
     },
     "execution_count": 198,
     "metadata": {},
     "output_type": "execute_result"
    }
   ],
   "source": [
    "a([1, 2, 3])"
   ]
  },
  {
   "cell_type": "code",
   "execution_count": 204,
   "metadata": {
    "collapsed": true,
    "jupyter": {
     "outputs_hidden": true
    }
   },
   "outputs": [],
   "source": [
    "functions = [numpy.sin, f, numpy.cos, 2]"
   ]
  },
  {
   "cell_type": "code",
   "execution_count": 226,
   "metadata": {},
   "outputs": [
    {
     "name": "stdout",
     "output_type": "stream",
     "text": [
      "0.841470984808\n"
     ]
    },
    {
     "ename": "TypeError",
     "evalue": "'int' object is not callable",
     "output_type": "error",
     "traceback": [
      "\u001b[0;31m---------------------------------------------------------------------------\u001b[0m",
      "\u001b[0;31mTypeError\u001b[0m                                 Traceback (most recent call last)",
      "\u001b[0;32m<ipython-input-226-08426fa1b189>\u001b[0m in \u001b[0;36m<module>\u001b[0;34m()\u001b[0m\n\u001b[1;32m      1\u001b[0m \u001b[0;32mfor\u001b[0m \u001b[0mfunction\u001b[0m \u001b[0;32min\u001b[0m \u001b[0mfunctions\u001b[0m\u001b[0;34m:\u001b[0m\u001b[0;34m\u001b[0m\u001b[0m\n\u001b[0;32m----> 2\u001b[0;31m     \u001b[0mprint\u001b[0m\u001b[0;34m(\u001b[0m\u001b[0mfunction\u001b[0m\u001b[0;34m(\u001b[0m\u001b[0;36m1\u001b[0m\u001b[0;34m)\u001b[0m\u001b[0;34m)\u001b[0m\u001b[0;34m\u001b[0m\u001b[0m\n\u001b[0m",
      "\u001b[0;31mTypeError\u001b[0m: 'int' object is not callable"
     ]
    }
   ],
   "source": [
    "for function in functions:\n",
    "    print(function(1))"
   ]
  },
  {
   "cell_type": "code",
   "execution_count": 227,
   "metadata": {
    "collapsed": true,
    "jupyter": {
     "outputs_hidden": true
    }
   },
   "outputs": [],
   "source": [
    "things = []"
   ]
  },
  {
   "cell_type": "code",
   "execution_count": 228,
   "metadata": {
    "collapsed": true,
    "jupyter": {
     "outputs_hidden": true
    }
   },
   "outputs": [],
   "source": [
    "mylist = range(20)"
   ]
  },
  {
   "cell_type": "code",
   "execution_count": 229,
   "metadata": {
    "collapsed": true,
    "jupyter": {
     "outputs_hidden": true
    }
   },
   "outputs": [],
   "source": [
    "for i in mylist:\n",
    "    if i > 10:\n",
    "        things.append(i**2)"
   ]
  },
  {
   "cell_type": "code",
   "execution_count": 230,
   "metadata": {},
   "outputs": [
    {
     "data": {
      "text/plain": [
       "[121, 144, 169, 196, 225, 256, 289, 324, 361]"
      ]
     },
     "execution_count": 230,
     "metadata": {},
     "output_type": "execute_result"
    }
   ],
   "source": [
    "things"
   ]
  },
  {
   "cell_type": "code",
   "execution_count": 231,
   "metadata": {},
   "outputs": [
    {
     "data": {
      "text/plain": [
       "[121, 144, 169, 196, 225, 256, 289, 324, 361]"
      ]
     },
     "execution_count": 231,
     "metadata": {},
     "output_type": "execute_result"
    }
   ],
   "source": [
    "[i**2 for i in mylist if i > 10 ]"
   ]
  },
  {
   "cell_type": "code",
   "execution_count": 233,
   "metadata": {},
   "outputs": [
    {
     "data": {
      "text/plain": [
       "[121, 144, 169, 196, 225, 256, 289, 324, 361]"
      ]
     },
     "execution_count": 233,
     "metadata": {},
     "output_type": "execute_result"
    }
   ],
   "source": [
    "things"
   ]
  },
  {
   "cell_type": "code",
   "execution_count": 236,
   "metadata": {
    "collapsed": true,
    "jupyter": {
     "outputs_hidden": true
    }
   },
   "outputs": [],
   "source": [
    "def f(a):\n",
    "    return a + 1"
   ]
  },
  {
   "cell_type": "code",
   "execution_count": 237,
   "metadata": {},
   "outputs": [
    {
     "data": {
      "text/plain": [
       "[122, 145, 170, 197, 226, 257, 290, 325, 362]"
      ]
     },
     "execution_count": 237,
     "metadata": {},
     "output_type": "execute_result"
    }
   ],
   "source": [
    "[f(i) for i in things]"
   ]
  },
  {
   "cell_type": "code",
   "execution_count": null,
   "metadata": {},
   "outputs": [],
   "source": []
  }
 ],
 "metadata": {
  "anaconda-cloud": {},
  "kernelspec": {
   "display_name": "Python 3",
   "language": "python",
   "name": "python3"
  },
  "language_info": {
   "codemirror_mode": {
    "name": "ipython",
    "version": 3
   },
   "file_extension": ".py",
   "mimetype": "text/x-python",
   "name": "python",
   "nbconvert_exporter": "python",
   "pygments_lexer": "ipython3",
   "version": "3.7.4"
  }
 },
 "nbformat": 4,
 "nbformat_minor": 4
}
