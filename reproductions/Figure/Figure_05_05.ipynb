{
  "cells": [
    {
      "cell_type": "code",
      "metadata": {},
      "source": [
        "# -*- coding: utf-8 -*-\n",
        "\"\"\"\n",
        "Created on Mon Jun 03 19:36:05 2013\n",
        "\n",
        "@author: Irshad\n",
        "\"\"\"\n",
        "\n",
        "\"This code plots figure 5.5\"\n",
        "\n",
        "import numpy as np\n",
        "import matplotlib.pyplot as plt\n",
        "%matplotlib inline\n",
        "import robustcontrol.doc_func as df\n",
        "\n",
        "w = np.linspace(0.001, 6, 1000)\n",
        "s = 1j * w\n",
        "\n",
        "\n",
        "def L1(s):\n",
        "    return 2/(s * (s + 1))\n",
        "\n",
        "\n",
        "def L2(s):\n",
        "    return L1(s) * ((5 - s)/(s + 5))\n",
        "\n",
        "\n",
        "def S1(s):\n",
        "    return 1/(L1(s) + 1)\n",
        "\n",
        "\n",
        "def S2(s):\n",
        "    return 1/(L2(s) + 1)\n",
        "\n",
        "freqrespS1 = np.abs(list(map(S1, s)))\n",
        "freqrespS2 = np.abs(list(map(S2, s)))\n",
        "\n",
        "func_list = [[freqrespS1, '-'],\n",
        "             [freqrespS2, '-'],\n",
        "             [np.ones(len(w)), 'r-.']]\n",
        "\n",
        "\n",
        "df.setup_bode_plot('|S1| and |S2| Value over Frequency', w, func_list, ('S1', 'S2', 'Gain Value of 1'), plt.semilogy)\n",
        "\n"
      ],
      "outputs": [],
      "execution_count": null
    }
  ],
  "metadata": {
    "anaconda-cloud": {},
    "kernelspec": {
      "display_name": "Python 3",
      "language": "python",
      "name": "python3"
    },
    "language_info": {
      "codemirror_mode": {
        "name": "ipython",
        "version": 3
      },
      "file_extension": ".py",
      "mimetype": "text/x-python",
      "name": "python",
      "nbconvert_exporter": "python",
      "pygments_lexer": "ipython3",
      "version": "3.6.1"
    }
  },
  "nbformat": 4,
  "nbformat_minor": 1
}