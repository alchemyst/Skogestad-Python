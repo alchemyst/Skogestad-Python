{
  "cells": [
    {
      "cell_type": "code",
      "metadata": {},
      "source": [
        "import matplotlib.pyplot as plt\n",
        "%matplotlib inline\n",
        "\n",
        "from robustcontrol.utils import tf\n",
        "from robustcontrol.utilsplot import  bode\n",
        "\n",
        "s = tf([1,0], 1)\n",
        "G = 30*(s + 1)/((s + 10)*(s + 0.01)**2)\n",
        "\n",
        "plt.figure('Figure 2.3')\n",
        "bode(G, -3, 3)\n",
        "plt.title('Figure 2.3: Bode plot of transfer function ' + r'$L_1 = \\frac{30(s + 1)}{(s + 10)(s + 0.01)^2}$' \n",
        "          + '\\n', fontsize = 13, y = -1)\n",
        "plt.show()\n"
      ],
      "outputs": [],
      "execution_count": null
    }
  ],
  "metadata": {
    "anaconda-cloud": {},
    "kernelspec": {
      "display_name": "Python 3",
      "language": "python",
      "name": "python3"
    },
    "language_info": {
      "codemirror_mode": {
        "name": "ipython",
        "version": 3
      },
      "file_extension": ".py",
      "mimetype": "text/x-python",
      "name": "python",
      "nbconvert_exporter": "python",
      "pygments_lexer": "ipython3",
      "version": "3.6.1"
    }
  },
  "nbformat": 4,
  "nbformat_minor": 1
}