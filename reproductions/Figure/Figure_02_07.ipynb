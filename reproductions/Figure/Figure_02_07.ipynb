{
  "cells": [
    {
      "cell_type": "code",
      "metadata": {},
      "source": [
        "import matplotlib.pyplot as plt\n",
        "%matplotlib inline\n",
        "\n",
        "from robustcontrol.utils import tf\n",
        "from robustcontrol.utilsplot import  bode\n",
        "\n",
        "# Trasfer function of L(s)\n",
        "s = tf([1, 0], 1)\n",
        "L = 3*(-2*s + 1)/((10*s + 1)*(5*s + 1))\n",
        "\n",
        "plt.figure('Figure 2.7')\n",
        "plt.title('Bode plots of L(s) with Kc = 1')\n",
        "bode(L, -2, 1)\n",
        "plt.show()\n"
      ],
      "outputs": [],
      "execution_count": null
    }
  ],
  "metadata": {
    "anaconda-cloud": {},
    "kernelspec": {
      "display_name": "Python 3",
      "language": "python",
      "name": "python3"
    },
    "language_info": {
      "codemirror_mode": {
        "name": "ipython",
        "version": 3
      },
      "file_extension": ".py",
      "mimetype": "text/x-python",
      "name": "python",
      "nbconvert_exporter": "python",
      "pygments_lexer": "ipython3",
      "version": "3.6.1"
    }
  },
  "nbformat": 4,
  "nbformat_minor": 1
}