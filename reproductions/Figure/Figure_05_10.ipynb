{
  "cells": [
    {
      "cell_type": "code",
      "metadata": {},
      "source": [
        "import numpy as np\n",
        "import matplotlib.pyplot as plt\n",
        "%matplotlib inline\n",
        "\n",
        "from robustcontrol.utils import tf, feedback\n",
        "\n",
        "s = tf([1, 0])\n",
        "G = 4/((s - 1)*(0.02*s + 1)**2)\n",
        "Kc = 1.25\n",
        "tau = 1.25\n",
        "K = Kc * (tau*s + 1)/(tau * s)\n",
        "T = feedback(G * K, 1)\n",
        "tspan = np.linspace(0, 1.5, 100)\n",
        "\n",
        "plt.figure('Figure 5.10')\n",
        "plt.title('Rise time tr according to RHP-pole defintion')\n",
        "[t, y] = T.step(0, tspan)\n",
        "plt.plot(t, y)\n",
        "\n",
        "# exclude leading zero to eliminate div by zero\n",
        "# calc rise time\n",
        "tr = np.min(t[1:-1]/y[1:-1])\n",
        "\n",
        "plt.plot(t*tr, t, color='black', linestyle='--', linewidth=0.75)\n",
        "plt.plot([tr, tr], [0, 1], color='black', linestyle='--', linewidth=0.75)\n",
        "plt.axhline(1, color='black', linestyle='--', linewidth=0.75)\n",
        "plt.text(tr + 0.005, 0, '$t_{r}$', fontsize=10)\n",
        "plt.text(0, 1.2, 'Slope = $1/t_{r}$', fontsize=10)\n",
        "plt.text(1.4, 1.01, '$r$', fontsize=10)\n",
        "plt.xlabel('Time, t')\n",
        "plt.ylabel('y(t)')\n",
        "plt.show()\n",
        "\n",
        "print('tr = %1.2f' % tr)\n"
      ],
      "outputs": [],
      "execution_count": null
    }
  ],
  "metadata": {
    "anaconda-cloud": {},
    "kernelspec": {
      "display_name": "Python 3",
      "language": "python",
      "name": "python3"
    },
    "language_info": {
      "codemirror_mode": {
        "name": "ipython",
        "version": 3
      },
      "file_extension": ".py",
      "mimetype": "text/x-python",
      "name": "python",
      "nbconvert_exporter": "python",
      "pygments_lexer": "ipython3",
      "version": "3.6.1"
    }
  },
  "nbformat": 4,
  "nbformat_minor": 1
}