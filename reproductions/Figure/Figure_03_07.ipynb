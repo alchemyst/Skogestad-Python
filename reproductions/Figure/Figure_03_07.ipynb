{
  "cells": [
    {
      "cell_type": "code",
      "metadata": {},
      "source": [
        "import matplotlib.pyplot as plt\n",
        "%matplotlib inline\n",
        "\n",
        "from robustcontrol.utilsplot import  mimo_bode, condtn_nm_plot\n",
        "from robustcontrol.utils import tf, mimotf\n",
        "\n",
        "s= tf([1, 0])\n",
        "\n",
        "s1 = 1 / (75 * s + 1)\n",
        "G1 = mimotf([[s1 * 87.8, s1 * -86.4], \n",
        "             [s1 * 108.2, s1 * -109.6]])\n",
        "\n",
        "s2 = 1/(s**2 + 10**2)\n",
        "G2 = mimotf([[s2 * (s - 1e2), s2 * (10 * (s + 1))], \n",
        "             [s2 * (-10 * (s + 1)), s2 * (s - 1e2)]])\n",
        "\n",
        "processes = [[G1, '(a) Distillation process', -4, 1],\n",
        "             [G2, '(b) Spinning satellite', -2, 2]]\n",
        "\n",
        "plt.figure('Figure 3.7')\n",
        "for i, [G, title, minw, maxw] in enumerate(processes):\n",
        "    plt.subplot(2, 2, i + 1)\n",
        "    plt.title(title)\n",
        "    mimo_bode(G, minw, maxw)\n",
        "    \n",
        "    #this is an additional plot to the textbook\n",
        "    plt.subplot(2, 2, 3 + i)\n",
        "    condtn_nm_plot(G, minw, maxw)\n",
        "\n",
        "plt.show()\n"
      ],
      "outputs": [],
      "execution_count": null
    }
  ],
  "metadata": {
    "anaconda-cloud": {},
    "kernelspec": {
      "display_name": "Python 3",
      "language": "python",
      "name": "python3"
    },
    "language_info": {
      "codemirror_mode": {
        "name": "ipython",
        "version": 3
      },
      "file_extension": ".py",
      "mimetype": "text/x-python",
      "name": "python",
      "nbconvert_exporter": "python",
      "pygments_lexer": "ipython3",
      "version": "3.6.1"
    }
  },
  "nbformat": 4,
  "nbformat_minor": 1
}