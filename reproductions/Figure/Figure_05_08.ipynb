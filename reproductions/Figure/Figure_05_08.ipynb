{
  "cells": [
    {
      "cell_type": "code",
      "metadata": {},
      "source": [
        "import matplotlib.pyplot as plt\n",
        "%matplotlib inline\n",
        "from robustcontrol import utilsplot\n",
        "import numpy as np\n",
        "\n",
        "from robustcontrol.utils import tf, feedback\n",
        "\n",
        "s = tf([1, 0])\n",
        "\n",
        "#Figure 5.8\n",
        "G = (-s + 1)/(s + 1)\n",
        "Kcs = [0.1, 0.5, 0.9]\n",
        "K = -1*s/((1 + 0.02*s)*(1 + 0.05*s))\n",
        "\n",
        "plt.figure('Figure 5.8')\n",
        "utilsplot.freq_step_response_plot(G, K, Kcs, 0.2, 'S')\n",
        "\n",
        "# Plot negative step response\n",
        "t = np.linspace(0, 0.2, 1000)\n",
        "u1 = np.ones(500)\n",
        "u2 = np.zeros(500)\n",
        "u = np.hstack((u1, u2))\n",
        "\n",
        "plt.figure('Figure 5.8(b)')\n",
        "plt.title('(b) Response to step in reference')\n",
        "for Kc in Kcs:\n",
        "    K2 = Kc * K\n",
        "    T = feedback(G * K2, 1)\n",
        "    tout, y, _ = T.lsim(u, t)    \n",
        "    plt.plot(tout, y)\n",
        "\n",
        "plt.plot(tout, u, color='black', linestyle='--', linewidth=0.25)\n",
        "plt.legend([\"Kc = %1.1f\" % Kc for Kc in Kcs])\n",
        "plt.ylabel('y(t)')\n",
        "plt.xlabel('Time [s]')\n",
        "plt.show()\n"
      ],
      "outputs": [],
      "execution_count": null
    }
  ],
  "metadata": {
    "anaconda-cloud": {},
    "kernelspec": {
      "display_name": "Python 3",
      "language": "python",
      "name": "python3"
    },
    "language_info": {
      "codemirror_mode": {
        "name": "ipython",
        "version": 3
      },
      "file_extension": ".py",
      "mimetype": "text/x-python",
      "name": "python",
      "nbconvert_exporter": "python",
      "pygments_lexer": "ipython3",
      "version": "3.6.1"
    }
  },
  "nbformat": 4,
  "nbformat_minor": 1
}