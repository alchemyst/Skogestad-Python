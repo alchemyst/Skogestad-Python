{
  "cells": [
    {
      "cell_type": "code",
      "metadata": {},
      "source": [
        "import numpy as np\n",
        "import matplotlib.pyplot as plt\n",
        "%matplotlib inline\n",
        "from math import pi\n",
        "from robustcontrol.utils import tf\n",
        "\n",
        "def LI(rk, tmax, w):\n",
        "    L = np.zeros(np.size(w))\n",
        "    for i in range(np.size(w)):\n",
        "        if w[i-1] < pi/tmax:\n",
        "            L[i-1] = np.sqrt(rk**2 + 2*(1+rk)*(1-np.cos(tmax*w[i-1])))\n",
        "        else:\n",
        "            L[i-1] = 2 + rk\n",
        "    return L\n",
        "\n",
        "rk = 0.2\n",
        "tmax = 1\n",
        "\n",
        "WI = tf([(1 + rk*0.5)*tmax, rk], [tmax*0.5, 1])\n",
        "WI_improved = WI*tf([(tmax/2.363)**2, 2*0.838*(tmax/2.363), 1], [(tmax/2.363)**2, 2*0.685*(tmax/2.363), 1])\n",
        "\n",
        "w = np.logspace(-2, 2, 500)\n",
        "s = 1j*w\n",
        "\n",
        "plt.loglog(w, LI(rk, tmax, w), 'r', label='$l_I$')\n",
        "plt.loglog(w, np.abs(WI(s)), 'b--', label='$\\omega_I$')\n",
        "plt.loglog(w, np.abs(WI_improved(s)), color = 'lime', label='$improved$ $\\omega_I$')\n",
        "plt.legend()\n",
        "plt.title(r'Figure 7.9')\n",
        "plt.xlabel(r'Frequency [rad/s]', fontsize=12)\n",
        "plt.ylabel(r'Magnitude', fontsize=12)\n",
        "plt.show()\n"
      ],
      "outputs": [],
      "execution_count": null
    }
  ],
  "metadata": {
    "anaconda-cloud": {},
    "kernelspec": {
      "display_name": "Python 3",
      "language": "python",
      "name": "python3"
    },
    "language_info": {
      "codemirror_mode": {
        "name": "ipython",
        "version": 3
      },
      "file_extension": ".py",
      "mimetype": "text/x-python",
      "name": "python",
      "nbconvert_exporter": "python",
      "pygments_lexer": "ipython3",
      "version": "3.6.1"
    }
  },
  "nbformat": 4,
  "nbformat_minor": 1
}