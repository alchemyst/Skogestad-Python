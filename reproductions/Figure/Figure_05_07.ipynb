{
  "cells": [
    {
      "cell_type": "code",
      "metadata": {},
      "source": [
        "import matplotlib.pyplot as plt\n",
        "%matplotlib inline\n",
        "from robustcontrol import utilsplot\n",
        "\n",
        "from robustcontrol.utils import tf\n",
        "\n",
        "s = tf([1, 0])\n",
        "\n",
        "#Figure 5.7\n",
        "G = (-s + 1)/(s + 1)\n",
        "Kc = [0.2, 0.5, 0.8]\n",
        "K = ((s + 1)/s) * (1/(0.05*s + 1))\n",
        "\n",
        "plt.figure('Figure 5.7')\n",
        "utilsplot.freq_step_response_plot(G, K, Kc, 5, 'S')\n",
        "plt.show()\n"
      ],
      "outputs": [],
      "execution_count": null
    }
  ],
  "metadata": {
    "anaconda-cloud": {},
    "kernelspec": {
      "display_name": "Python 3",
      "language": "python",
      "name": "python3"
    },
    "language_info": {
      "codemirror_mode": {
        "name": "ipython",
        "version": 3
      },
      "file_extension": ".py",
      "mimetype": "text/x-python",
      "name": "python",
      "nbconvert_exporter": "python",
      "pygments_lexer": "ipython3",
      "version": "3.6.1"
    }
  },
  "nbformat": 4,
  "nbformat_minor": 1
}