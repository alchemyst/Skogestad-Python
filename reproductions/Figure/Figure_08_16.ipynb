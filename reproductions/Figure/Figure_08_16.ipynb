{
  "cells": [
    {
      "cell_type": "code",
      "metadata": {},
      "source": [
        "# -*- coding: utf-8 -*-\n",
        "\"\"\"\n",
        "Created on Tue Jun 04 00:41:19 2013\n",
        "\n",
        "@author: Irshad\n",
        "\"\"\"\n",
        "\n",
        "#Figure 8.16\n",
        "import numpy as np\n",
        "import matplotlib.pyplot as plt\n",
        "%matplotlib inline\n",
        "import robustcontrol.doc_func as df\n",
        "\n",
        "w = np.logspace(-3, 2, 1000)\n",
        "s = 1j*w\n",
        "\n",
        "Wi = (s + 0.2)/(0.5*s + 1)\n",
        "Wp = (s/2 + 0.05)/s\n",
        "\n",
        "func_list = [[np.abs(Wi), '-'],\n",
        "             [np.abs(Wp), '-'],\n",
        "             [np.ones(len(w)), 'r-.']]\n",
        "\n",
        "df.setup_bode_plot('Weight Values over Frequency', w, func_list, legend=('Wi', 'Wp', 'Gain Value of 1'))\n"
      ],
      "outputs": [],
      "execution_count": null
    }
  ],
  "metadata": {
    "anaconda-cloud": {},
    "kernelspec": {
      "display_name": "Python 3",
      "language": "python",
      "name": "python3"
    },
    "language_info": {
      "codemirror_mode": {
        "name": "ipython",
        "version": 3
      },
      "file_extension": ".py",
      "mimetype": "text/x-python",
      "name": "python",
      "nbconvert_exporter": "python",
      "pygments_lexer": "ipython3",
      "version": "3.6.1"
    }
  },
  "nbformat": 4,
  "nbformat_minor": 1
}