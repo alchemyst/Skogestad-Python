{
  "cells": [
    {
      "cell_type": "code",
      "metadata": {},
      "source": [
        "# -*- coding: utf-8 -*-\n",
        "\"\"\"\n",
        "Created on Mon Jun 03 18:50:50 2013\n",
        "\n",
        "@author: Irshad\n",
        "\"\"\"\n",
        "from __future__ import division\n",
        "#Figure 5.22\n",
        "import numpy as np\n",
        "import matplotlib.pyplot as plt\n",
        "%matplotlib inline\n",
        "import robustcontrol.doc_func as df\n",
        "\n",
        "th = 1000\n",
        "kd = 2.5 * 10**6\n",
        "w = np.logspace(-4, 5, 1000)\n",
        "s = 1j*w\n",
        "\n",
        "\n",
        "def G(s):\n",
        "    return kd/(1 + th * s)\n",
        "\n",
        "\n",
        "def Gd(s):\n",
        "    return (-2 * kd)/(1 + th * s)\n",
        "\n",
        "freqrespG = [G(si) for si in s]\n",
        "freqrespGd = [Gd(si) for si in s]\n",
        "\n",
        "func_list = [[np.abs(freqrespG), '-'],\n",
        "             [np.abs(freqrespGd), '-'],\n",
        "             [np.ones(len(w)), 'r-.']]\n",
        "\n",
        "plt.vlines(2500, 10**(-2), 1, color='m', linestyle='dashed')\n",
        "df.setup_bode_plot('|G| and |Gd| Value over Frequency', w, func_list, legend=('G', 'Gd', 'Gain Value of 1', 'wd'))\n"
      ],
      "outputs": [],
      "execution_count": null
    }
  ],
  "metadata": {
    "anaconda-cloud": {},
    "kernelspec": {
      "display_name": "Python 3",
      "language": "python",
      "name": "python3"
    },
    "language_info": {
      "codemirror_mode": {
        "name": "ipython",
        "version": 3
      },
      "file_extension": ".py",
      "mimetype": "text/x-python",
      "name": "python",
      "nbconvert_exporter": "python",
      "pygments_lexer": "ipython3",
      "version": "3.6.1"
    }
  },
  "nbformat": 4,
  "nbformat_minor": 1
}