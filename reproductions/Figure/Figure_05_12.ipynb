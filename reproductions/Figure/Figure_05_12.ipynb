{
  "cells": [
    {
      "cell_type": "code",
      "metadata": {},
      "source": [
        "from robustcontrol import utilsplot\n",
        "import matplotlib.pyplot as plt\n",
        "%matplotlib inline\n",
        "\n",
        "from robustcontrol.utils import tf\n",
        "\n",
        "s = tf([1, 0])\n",
        "\n",
        "# Figure 5.12\n",
        "G = 4/((s - 1)*(0.02*s + 1)**2)\n",
        "Kc = [0.5, 1.25, 2.0]\n",
        "tau = 1.25\n",
        "K = (tau*s + 1)/(tau*s)\n",
        "\n",
        "plt.figure('Figure 5.12')\n",
        "utilsplot.freq_step_response_plot(G, K, Kc, 4, 'T')\n",
        "plt.show()\n"
      ],
      "outputs": [],
      "execution_count": null
    }
  ],
  "metadata": {
    "anaconda-cloud": {},
    "kernelspec": {
      "display_name": "Python 3",
      "language": "python",
      "name": "python3"
    },
    "language_info": {
      "codemirror_mode": {
        "name": "ipython",
        "version": 3
      },
      "file_extension": ".py",
      "mimetype": "text/x-python",
      "name": "python",
      "nbconvert_exporter": "python",
      "pygments_lexer": "ipython3",
      "version": "3.6.1"
    }
  },
  "nbformat": 4,
  "nbformat_minor": 1
}