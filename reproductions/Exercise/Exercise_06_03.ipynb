{
 "cells": [
  {
   "cell_type": "code",
   "execution_count": 1,
   "metadata": {},
   "outputs": [],
   "source": [
    "import utils\n",
    "import numpy as np\n",
    "import sympy\n",
    "sympy.init_printing()"
   ]
  },
  {
   "cell_type": "code",
   "execution_count": 23,
   "metadata": {},
   "outputs": [],
   "source": [
    "s, k, θ, ω = sympy.symbols('s, k, θ, ω')\n",
    "\n",
    "expθs = 1 - θ*s\n",
    "G = sympy.Matrix([[1, 1], [expθs, 1]])\n",
    "\n",
    "I = sympy.eye(2,2)\n",
    "K = k/s*I\n",
    "\n",
    "S = (I + G*K).inv()"
   ]
  },
  {
   "cell_type": "code",
   "execution_count": 12,
   "metadata": {},
   "outputs": [
    {
     "data": {
      "image/png": "[encoded data removed]",
      "text/latex": [
       "$\\displaystyle k^{2} θ + 2 k + s$"
      ],
      "text/plain": [
       " 2            \n",
       "k ⋅θ + 2⋅k + s"
      ]
     },
     "execution_count": 12,
     "metadata": {},
     "output_type": "execute_result"
    }
   ],
   "source": [
    "# lowest common denominator\n",
    "den = (sympy.denom(S[0]).simplify()*s)\n",
    "den"
   ]
  },
  {
   "cell_type": "code",
   "execution_count": 13,
   "metadata": {},
   "outputs": [
    {
     "data": {
      "text/latex": [
       "$\\displaystyle \\left[\\begin{matrix}\\frac{1}{k θ + 2} & - \\frac{1}{k θ + 2}\\\\- \\frac{1}{k θ + 2} & \\frac{1}{k θ + 2}\\end{matrix}\\right]$"
      ],
      "text/plain": [
       "⎡   1       -1   ⎤\n",
       "⎢───────  ───────⎥\n",
       "⎢k⋅θ + 2  k⋅θ + 2⎥\n",
       "⎢                ⎥\n",
       "⎢  -1        1   ⎥\n",
       "⎢───────  ───────⎥\n",
       "⎣k⋅θ + 2  k⋅θ + 2⎦"
      ]
     },
     "execution_count": 13,
     "metadata": {},
     "output_type": "execute_result"
    }
   ],
   "source": [
    "Snew = sympy.zeros(2,2)\n",
    "for i in range(len(S)):\n",
    "    Snew[i] = (((S[i].expand()*den).simplify()).subs(s, 0)/den.subs(s, 0)).simplify()\n",
    "Snew"
   ]
  },
  {
   "cell_type": "markdown",
   "metadata": {},
   "source": [
    "Thus at low frequencies, where s is about 0, the elements of S all the magnitudes are  1/(2 + $\\theta$k)\n",
    "\n",
    "To maintain 10 % offset let 1/(2 + $\\theta$k) < 1/10:"
   ]
  },
  {
   "cell_type": "code",
   "execution_count": 29,
   "metadata": {},
   "outputs": [
    {
     "data": {
      "image/png": "[encoded data removed]",
      "text/latex": [
       "$\\displaystyle \\frac{8.0}{θ}$"
      ],
      "text/plain": [
       "8.0\n",
       "───\n",
       " θ "
      ]
     },
     "execution_count": 29,
     "metadata": {},
     "output_type": "execute_result"
    }
   ],
   "source": [
    "k_offset = sympy.solve(Snew[0] - 1/10, k)[0]\n",
    "k_offset"
   ]
  },
  {
   "cell_type": "code",
   "execution_count": null,
   "metadata": {},
   "outputs": [],
   "source": []
  }
 ],
 "metadata": {
  "kernelspec": {
   "display_name": "Python 3",
   "language": "python",
   "name": "python3"
  },
  "language_info": {
   "codemirror_mode": {
    "name": "ipython",
    "version": 3
   },
   "file_extension": ".py",
   "mimetype": "text/x-python",
   "name": "python",
   "nbconvert_exporter": "python",
   "pygments_lexer": "ipython3",
   "version": "3.7.6"
  }
 },
 "nbformat": 4,
 "nbformat_minor": 4
}
