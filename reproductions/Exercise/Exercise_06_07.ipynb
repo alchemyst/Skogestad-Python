{
 "cells": [
  {
   "cell_type": "code",
   "execution_count": 1,
   "metadata": {},
   "outputs": [],
   "source": [
    "import sympy\n",
    "import numpy as np\n",
    "import utils"
   ]
  },
  {
   "cell_type": "code",
   "execution_count": 119,
   "metadata": {},
   "outputs": [],
   "source": [
    "α, s, a, b, yz1, yz2 = sympy.symbols('α, s. a , b, y_z_1, y_z_2')"
   ]
  },
  {
   "cell_type": "code",
   "execution_count": 110,
   "metadata": {},
   "outputs": [
    {
     "data": {
      "text/latex": [
       "$\\displaystyle \\left[\\begin{matrix}\\frac{s. - α}{s. + 1} & \\frac{1}{s. + 1}\\\\\\frac{\\left(α + 2\\right)^{2}}{s. + 1} & \\frac{s. - α}{s. + 1}\\end{matrix}\\right]$"
      ],
      "text/plain": [
       "Matrix([\n",
       "[  (s. - α)/(s. + 1),        1/(s. + 1)],\n",
       "[(α + 2)**2/(s. + 1), (s. - α)/(s. + 1)]])"
      ]
     },
     "execution_count": 110,
     "metadata": {},
     "output_type": "execute_result"
    }
   ],
   "source": [
    "G = 1/(s + 1)*sympy.Matrix([[s - α, 1], [(α + 2)**2, s - α]])\n",
    "G"
   ]
  },
  {
   "cell_type": "markdown",
   "metadata": {},
   "source": [
    "a) Find the zeros and its output direction\n"
   ]
  },
  {
   "cell_type": "code",
   "execution_count": 111,
   "metadata": {},
   "outputs": [
    {
     "data": {
      "text/latex": [
       "$\\displaystyle \\left[\\begin{matrix}a\\\\b\\end{matrix}\\right]$"
      ],
      "text/plain": [
       "Matrix([\n",
       "[a],\n",
       "[b]])"
      ]
     },
     "execution_count": 111,
     "metadata": {},
     "output_type": "execute_result"
    }
   ],
   "source": [
    "u = sympy.Matrix([[a], [b]])\n",
    "u"
   ]
  },
  {
   "cell_type": "code",
   "execution_count": 112,
   "metadata": {},
   "outputs": [
    {
     "data": {
      "text/plain": [
       "(-2, 2*α + 2)"
      ]
     },
     "execution_count": 112,
     "metadata": {},
     "output_type": "execute_result"
    }
   ],
   "source": [
    "zeros = sympy.solve(G*u, [s, a])[0][0], sympy.solve(G*u, [s, a])[1][0]\n",
    "zeros"
   ]
  },
  {
   "cell_type": "code",
   "execution_count": 134,
   "metadata": {},
   "outputs": [],
   "source": [
    "#directions"
   ]
  },
  {
   "cell_type": "code",
   "execution_count": 121,
   "metadata": {},
   "outputs": [
    {
     "data": {
      "text/latex": [
       "$\\displaystyle \\left[\\begin{matrix}y_{z 1} & y_{z 2}\\end{matrix}\\right]$"
      ],
      "text/plain": [
       "Matrix([[y_z_1, y_z_2]])"
      ]
     },
     "execution_count": 121,
     "metadata": {},
     "output_type": "execute_result"
    }
   ],
   "source": [
    "yzH = sympy.Matrix([[yz1], [yz2]]).T\n",
    "yzH"
   ]
  },
  {
   "cell_type": "code",
   "execution_count": 131,
   "metadata": {},
   "outputs": [],
   "source": [
    "Gz1 = G.subs(s, zeros[0])\n",
    "Gz2 = G.subs(s, zeros[1])\n",
    "yzHGz1 = yzH*Gz1\n",
    "yzHGz2 = yzH*Gz2"
   ]
  },
  {
   "cell_type": "code",
   "execution_count": 133,
   "metadata": {},
   "outputs": [
    {
     "data": {
      "text/plain": [
       "({y_z_1: y_z_2*(α + 2)}, {y_z_1: -y_z_2*(α + 2)})"
      ]
     },
     "execution_count": 133,
     "metadata": {},
     "output_type": "execute_result"
    }
   ],
   "source": [
    "zdir1 = sympy.solve(yzHGz1, [yz1, yz2])\n",
    "zdir2 = sympy.solve(yzHGz2, [yz1, yz2])\n",
    "zdir1, zdir2"
   ]
  },
  {
   "cell_type": "markdown",
   "metadata": {},
   "source": [
    "For z1 = -2 and z2 = 2-$\\alpha$ + 2: if yz2 = 1, yz1 = -$\\alpha$ + 2\n",
    "\n",
    "Thus $$ y_z = [-\\alpha + 2 , 1 ]^T$$\n"
   ]
  },
  {
   "cell_type": "markdown",
   "metadata": {},
   "source": [
    "b) Which values of $\\alpha$ yield a RHP-zero, and which of these values is best/worst in terms of achievable performance?\n",
    "\n",
    "We have a RHP-zero for $\\alpha$ > 2. \n",
    "<!-- - Best for $\\alpha$ = 0 with zero at s = $\\infty$; \n",
    "- If control at steady-state is required then worst for $\\alpha$ = 1 zero at s = 0. -->"
   ]
  },
  {
   "cell_type": "markdown",
   "metadata": {},
   "source": [
    "c) Suppose  $\\alpha$ = 0.1. Which output is the most difficult to control? Illustrate your conclusion using Theorem 6.4.\n",
    "\n",
    "Output 1 is most difficult to control since the zero is in that direction. We get strong interaction woth $\\beta$ = 3.8 if we want to control y2 perfectly as seen below:"
   ]
  },
  {
   "cell_type": "code",
   "execution_count": 140,
   "metadata": {},
   "outputs": [
    {
     "name": "stdout",
     "output_type": "stream",
     "text": [
      "β1 =  -3.8\n",
      "β2 =  -1.0526315789473684\n"
     ]
    }
   ],
   "source": [
    "α = 0.1\n",
    "\n",
    "zdir1 = - α + 2\n",
    "zdir2 = 1\n",
    "\n",
    "β1 = -2*zdir1/zdir2\n",
    "β2 = -2*zdir2/zdir1\n",
    "\n",
    "print ('β1 = ', β1)\n",
    "print ('β2 = ', β2)"
   ]
  },
  {
   "cell_type": "code",
   "execution_count": 141,
   "metadata": {},
   "outputs": [
    {
     "data": {
      "text/plain": [
       "(1.9, 1)"
      ]
     },
     "execution_count": 141,
     "metadata": {},
     "output_type": "execute_result"
    }
   ],
   "source": [
    "zdir1, zdir2"
   ]
  }
 ],
 "metadata": {
  "kernelspec": {
   "display_name": "Python 3",
   "language": "python",
   "name": "python3"
  },
  "language_info": {
   "codemirror_mode": {
    "name": "ipython",
    "version": 3
   },
   "file_extension": ".py",
   "mimetype": "text/x-python",
   "name": "python",
   "nbconvert_exporter": "python",
   "pygments_lexer": "ipython3",
   "version": "3.7.6"
  }
 },
 "nbformat": 4,
 "nbformat_minor": 4
}
