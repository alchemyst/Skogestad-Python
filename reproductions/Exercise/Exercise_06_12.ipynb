{
 "cells": [
  {
   "cell_type": "code",
   "execution_count": 21,
   "metadata": {},
   "outputs": [],
   "source": [
    "import numpy as np\n",
    "import sympy \n",
    "from robustcontrol.utils import RGA"
   ]
  },
  {
   "cell_type": "code",
   "execution_count": 39,
   "metadata": {},
   "outputs": [],
   "source": [
    "s = sympy.symbols('s')"
   ]
  },
  {
   "cell_type": "code",
   "execution_count": 40,
   "metadata": {},
   "outputs": [],
   "source": [
    "exps = 1 - s\n",
    "G1 = sympy.Matrix([[100, 95], [100, 100]])\n",
    "G2 = sympy.Matrix([[100*exps, 95*exps], [100, 100]])\n",
    "G3 = sympy.Matrix([[100, 95*exps], [100, 100]])"
   ]
  },
  {
   "cell_type": "code",
   "execution_count": 69,
   "metadata": {},
   "outputs": [
    {
     "data": {
      "text/latex": [
       "$\\displaystyle \\left[\\begin{matrix}20 & -19\\\\-19 & 20\\end{matrix}\\right]$"
      ],
      "text/plain": [
       "Matrix([\n",
       "[ 20, -19],\n",
       "[-19,  20]])"
      ]
     },
     "execution_count": 69,
     "metadata": {},
     "output_type": "execute_result"
    }
   ],
   "source": [
    "Λ1 = sympy.matrix_multiply_elementwise(G1, (G1.inv()).T)\n",
    "Λ1"
   ]
  },
  {
   "cell_type": "code",
   "execution_count": 73,
   "metadata": {},
   "outputs": [
    {
     "data": {
      "text/plain": [
       "(20, -19)"
      ]
     },
     "execution_count": 73,
     "metadata": {},
     "output_type": "execute_result"
    }
   ],
   "source": [
    "Λ2 = sympy.matrix_multiply_elementwise(G2, (G2.inv()).T)\n",
    "Λ2[0].simplify(), Λ2[1].simplify()"
   ]
  },
  {
   "cell_type": "code",
   "execution_count": 81,
   "metadata": {},
   "outputs": [
    {
     "data": {
      "text/plain": [
       "(20/(19*s + 1), 19*(s - 1)/(19*s + 1))"
      ]
     },
     "execution_count": 81,
     "metadata": {},
     "output_type": "execute_result"
    }
   ],
   "source": [
    "Λ3 = sympy.matrix_multiply_elementwise(G3, (G3.inv()).T)\n",
    "Λ3[0].simplify(), Λ3[1].simplify()\n"
   ]
  },
  {
   "cell_type": "markdown",
   "metadata": {},
   "source": [
    "- G1 and G2 have identical large RGA values which imply that they are difficult to control. \n",
    "- G2 also has a delay in output 1 and thus is even more difficult to control than G1\n",
    "- Using approximation for the time delay in G3, when s = 1,  Λ3 = I which is well conditioned. \n",
    "\n",
    "Thus G3 is best, followed by G1, then lastly G2"
   ]
  },
  {
   "cell_type": "code",
   "execution_count": null,
   "metadata": {},
   "outputs": [],
   "source": []
  }
 ],
 "metadata": {
  "kernelspec": {
   "display_name": "Python 3",
   "language": "python",
   "name": "python3"
  },
  "language_info": {
   "codemirror_mode": {
    "name": "ipython",
    "version": 3
   },
   "file_extension": ".py",
   "mimetype": "text/x-python",
   "name": "python",
   "nbconvert_exporter": "python",
   "pygments_lexer": "ipython3",
   "version": "3.7.6"
  }
 },
 "nbformat": 4,
 "nbformat_minor": 4
}
