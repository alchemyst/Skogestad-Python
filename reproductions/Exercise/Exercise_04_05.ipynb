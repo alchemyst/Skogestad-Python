{
  "cells": [
    {
      "cell_type": "code",
      "metadata": {},
      "source": [
        "import numpy as np\n",
        "from robustcontrol.utils import tf, zeros\n",
        "from scipy import signal\n",
        "import sympy as sp\n",
        "\n",
        "s = tf([1,0],[1])\n",
        "\n",
        "G_tf = (1 - s)/(1 + s)\n",
        "\n",
        "G_ss = signal.tf2ss(G_tf.numerator,G_tf.denominator)\n",
        "A,B,C,D = G_ss\n",
        "\n",
        "def checkdimensions(x):\n",
        "    if x.ndim == 1:\n",
        "        x = np.array([x])\n",
        "    return x\n",
        "\n",
        "A = checkdimensions(A)\n",
        "B = checkdimensions(B)\n",
        "C = checkdimensions(C)\n",
        "D = checkdimensions(D)\n",
        "    \n",
        "AB = np.concatenate((A,B),axis=1)\n",
        "CD = np.concatenate((C,D), axis=1)\n",
        "M  = np.concatenate((AB,CD),axis=0)\n",
        "\n",
        "rowA, colA = np.shape(A)\n",
        "rowB, colB = np.shape(B)\n",
        "rowC, colC = np.shape(C)\n",
        "rowD, colD = np.shape(D)\n",
        "\n",
        "I = np.eye(rowA,colA)\n",
        "top = np.concatenate((I,np.zeros((rowB,colB))),axis=1)\n",
        "bottom = np.concatenate((np.zeros((rowC,colC)),np.zeros((rowD,colD))),axis=1)\n",
        "Ig = sp.Matrix(np.concatenate((top,bottom),axis=0))\n",
        "\n",
        "z = sp.Symbol('z')\n",
        "zIg = z * Ig\n",
        "f = zIg - M\n",
        "zf = f.det()\n",
        "zero = sp.solve(zf, z)\n",
        "print(\"Zero calculated by manual method = \",zero)\n",
        "\n",
        "# or using utils function which I only discovered after doing all this\n",
        "zeros = zeros(None,A,B,C,D)\n",
        "print(\"Zero calculated by utils = \",zeros)\n",
        "        \n"
      ],
      "outputs": [],
      "execution_count": null
    }
  ],
  "metadata": {
    "anaconda-cloud": {},
    "kernelspec": {
      "display_name": "Python 3",
      "language": "python",
      "name": "python3"
    },
    "language_info": {
      "codemirror_mode": {
        "name": "ipython",
        "version": 3
      },
      "file_extension": ".py",
      "mimetype": "text/x-python",
      "name": "python",
      "nbconvert_exporter": "python",
      "pygments_lexer": "ipython3",
      "version": "3.6.1"
    }
  },
  "nbformat": 4,
  "nbformat_minor": 1
}