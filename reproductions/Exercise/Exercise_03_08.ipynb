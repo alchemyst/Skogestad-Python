{
  "cells": [
    {
      "cell_type": "code",
      "metadata": {},
      "source": [
        "import numpy as np\n",
        "\n",
        "from robustcontrol.utils import RGA\n",
        "\n",
        "G = np.matrix([[16.8, 30.5, 4.30],\n",
        "               [-16.7, 31.0, -1.41],\n",
        "               [1.27, 54.1, 5.4]])\n",
        "\n",
        "# Define 6 alternate pairings\n",
        "I1 = np.asmatrix(np.eye(3))\n",
        "I2 = np.matrix([[0, 1, 0], [0, 0, 1], [1, 0, 0]])\n",
        "I3 = np.matrix([[0, 0, 1], [1, 0, 0], [0, 1, 0]])\n",
        "I4 = np.matrix([[0, 0, 1], [0, 1, 0], [1, 0, 0]])\n",
        "I5 = np.matrix([[1, 0, 0], [0, 0, 1], [0, 1, 0]])\n",
        "I6 = np.matrix([[0, 1, 0], [1, 0, 0], [0, 0, 1]])\n",
        "\n",
        "for I in I1, I2, I3, I4, I5, I6:\n",
        "    print('Pairing', '\\n', I, 'RGA Number =', np.sum(np.abs(RGA(G) - I)))\n",
        "# Pairing of diagonal matrix I1 provides the smallest RGA number and is\n",
        "# is therefore preferred\n"
      ],
      "outputs": [],
      "execution_count": null
    }
  ],
  "metadata": {
    "anaconda-cloud": {},
    "kernelspec": {
      "display_name": "Python 3",
      "language": "python",
      "name": "python3"
    },
    "language_info": {
      "codemirror_mode": {
        "name": "ipython",
        "version": 3
      },
      "file_extension": ".py",
      "mimetype": "text/x-python",
      "name": "python",
      "nbconvert_exporter": "python",
      "pygments_lexer": "ipython3",
      "version": "3.6.1"
    }
  },
  "nbformat": 4,
  "nbformat_minor": 1
}