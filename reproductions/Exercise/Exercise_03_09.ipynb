{
  "cells": [
    {
      "cell_type": "code",
      "metadata": {},
      "source": [
        "import numpy as np\n",
        "\n",
        "from robustcontrol.utils import RGA\n",
        "\n",
        "G = np.matrix([[16.8, 30.5, 4.30],\n",
        "               [-16.7, 31.0, -1.41],\n",
        "               [1.27, 54.1, 5.4]])\n",
        "\n",
        "# Iterative evaluation of the RGA\n",
        "k = 1\n",
        "while (k <= 5):\n",
        "    G = RGA(G)\n",
        "    print('Iteration**', k, '\\n', G.round(3))\n",
        "    k = k + 1\n",
        "# result confirms diagonal dominance pairing since G converges\n",
        "# to identity matrix\n"
      ],
      "outputs": [],
      "execution_count": null
    }
  ],
  "metadata": {
    "anaconda-cloud": {},
    "kernelspec": {
      "display_name": "Python 3",
      "language": "python",
      "name": "python3"
    },
    "language_info": {
      "codemirror_mode": {
        "name": "ipython",
        "version": 3
      },
      "file_extension": ".py",
      "mimetype": "text/x-python",
      "name": "python",
      "nbconvert_exporter": "python",
      "pygments_lexer": "ipython3",
      "version": "3.6.1"
    }
  },
  "nbformat": 4,
  "nbformat_minor": 1
}