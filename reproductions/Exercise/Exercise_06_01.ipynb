{
  "cells": [
    {
      "cell_type": "code",
      "metadata": {},
      "source": [
        "import numpy as np\n",
        "\n",
        "from robustcontrol.utils import pole_zero_directions, tf, mimotf, BoundKS, BoundST\n",
        "from robustcontrol.reporting import display_export_data\n",
        "\n",
        "s = tf([1, 0], 1)\n",
        "\n",
        "z = 2.5\n",
        "p = 2\n",
        "\n",
        "G = np.matrix([[(s - z)/(s - p), -(0.1*s + 1)/(s - p)],[(s - z)/(0.1*s + 1), 1]])\n",
        "G = mimotf(G)\n",
        "\n",
        "p_list = G.poles()\n",
        "z_list = G.zeros()\n",
        "print('Poles: {0}'.format(p_list))\n",
        "print('Zeros: {0}\\n'.format(z_list))\n",
        "\n",
        "zerodata = pole_zero_directions(G, z_list, 'z')\n",
        "poledata = pole_zero_directions(G, p_list, 'p')\n",
        "rowhead = ['   u', '   y', '   e ']\n",
        "display_export_data(zerodata, 'Zeros', rowhead)\n",
        "display_export_data(poledata, 'Poles', rowhead)\n",
        "up = poledata[0][1]\n",
        "\n",
        "# Obtain stable plant\n",
        "p = -2\n",
        "Gs = np.matrix([[(s - z)/(s - p), -(0.1*s + 1)/(s - p)],[(s - z)/(0.1*s + 1), 1]])\n",
        "Gs = mimotf(Gs)\n",
        "\n",
        "#||KS||inf MSmin, MTmin using Utils functions\n",
        "print('||KS||inf >= {:.2f}'.format(BoundKS(Gs, p_list, up)))\n",
        "print('M_S,min = M_T,min = {:.2f}'.format(BoundST(G, p_list, z_list)))\n",
        "\n",
        "\n",
        "\n",
        "\n",
        "\n",
        "\n",
        "\n"
      ],
      "outputs": [],
      "execution_count": null
    }
  ],
  "metadata": {
    "anaconda-cloud": {},
    "kernelspec": {
      "display_name": "Python 3",
      "language": "python",
      "name": "python3"
    },
    "language_info": {
      "codemirror_mode": {
        "name": "ipython",
        "version": 3
      },
      "file_extension": ".py",
      "mimetype": "text/x-python",
      "name": "python",
      "nbconvert_exporter": "python",
      "pygments_lexer": "ipython3",
      "version": "3.6.1"
    }
  },
  "nbformat": 4,
  "nbformat_minor": 1
}