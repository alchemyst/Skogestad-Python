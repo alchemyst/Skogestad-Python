{
 "cells": [
  {
   "cell_type": "code",
   "execution_count": 43,
   "metadata": {},
   "outputs": [],
   "source": [
    "import numpy as np\n",
    "from robustcontrol import utils\n",
    "from matplotlib import pyplot as plt\n",
    "import sympy"
   ]
  },
  {
   "cell_type": "code",
   "execution_count": 44,
   "metadata": {},
   "outputs": [],
   "source": [
    "s = utils.tf([1, 0])\n",
    "Ga = 1/(1.25*(s + 1)*(s + 20))*utils.mimotf([[s - 1, s], [-42, s - 20]])\n",
    "Gb = 1/(s**2 + 0.1)*utils.mimotf([[1, 0.1*(s - 1)], [10*(s + 0.1)/s, (s + 0.1)/s]])"
   ]
  },
  {
   "cell_type": "code",
   "execution_count": 45,
   "metadata": {},
   "outputs": [
    {
     "name": "stdout",
     "output_type": "stream",
     "text": [
      "RHP Zeros of Ga are: []\n",
      "RHP Poles of Ga are: []\n",
      "RHP Zeros of Ga are: [(2+0j)]\n",
      "RHP Poles of Ga are: []\n",
      "RHP zero at s = 2 can cause controllability issues due to an introduced instability\n"
     ]
    }
   ],
   "source": [
    "za = utils.RHPonly([round(zi, 3) for zi in utils.zeros(Ga)])\n",
    "pa = utils.RHPonly([round(pi, 3) for pi in utils.poles(Ga)])\n",
    "\n",
    "zb = utils.RHPonly([round(zi, 3) for zi in utils.zeros(Gb)])\n",
    "pb = utils.RHPonly([round(pi, 3) for pi in utils.poles(Gb)])\n",
    "\n",
    "print('RHP Zeros of Ga are:', za)\n",
    "print('RHP Poles of Ga are:', pa)\n",
    "\n",
    "print('RHP Zeros of Ga are:', zb)\n",
    "print('RHP Poles of Ga are:', pb)\n",
    "\n",
    "print('RHP zero at s = 2 can cause controllability issues due to an introduced instability')"
   ]
  },
  {
   "cell_type": "code",
   "execution_count": 18,
   "metadata": {},
   "outputs": [],
   "source": [
    "w = np.logspace(-3, 3, 1000)\n",
    "s = 1j*w\n",
    "\n",
    "\n",
    "def g11a(s):\n",
    "    return s - 1 \n",
    "def g12a(s):\n",
    "    return s\n",
    "def g21a(s):\n",
    "    return -42\n",
    "def g22a(s):\n",
    "    return s - 20\n",
    "def Ga(s):\n",
    "    return 1/(1.25*(s + 1)*(s + 20))*np.matrix([[s - 1, s], [-42, s - 20]])\n",
    "\n",
    "\n",
    "def λ_11a(s):\n",
    "    return 1/(1 - ((g12a(s)*g21a(s))/(g11a(s)*g22a(s))))\n",
    "\n",
    "\n",
    "λ11a = np.array([λ_11a(i) for i in s])\n",
    "λ21a = 1 - λ11a"
   ]
  },
  {
   "cell_type": "code",
   "execution_count": 19,
   "metadata": {},
   "outputs": [],
   "source": [
    "def g11b(s):\n",
    "    return 1\n",
    "def g12b(s):\n",
    "    return 0.1*(s - 1)\n",
    "def g21b(s):\n",
    "    return 10*(s + 0.1)/s\n",
    "def g22b(s):\n",
    "    return (s + 0.1)/s\n",
    "def Gb(s):\n",
    "    return 1/(s**2 + 0.1)*np.matrix([[1, 0.1*(s - 1)], [10*(s + 0.1)/s,  (s + 0.1)/s]])\n",
    "\n",
    "\n",
    "def λ_11b(s):\n",
    "    return 1/(1 - ((g12b(s)*g21b(s))/(g11b(s)*g22b(s))))\n",
    "\n",
    "\n",
    "λ11b = np.array([λ_11b(i) for i in s])\n",
    "λ21b = 1 - λ11b"
   ]
  },
  {
   "cell_type": "code",
   "execution_count": 20,
   "metadata": {},
   "outputs": [
    {
     "data": {
      "text/plain": [
       "<matplotlib.legend.Legend at 0x1b289ff3088>"
      ]
     },
     "execution_count": 20,
     "metadata": {},
     "output_type": "execute_result"
    },
    {
     "data": {
      "image/png": "[encoded data removed]",
      "text/plain": [
       "<Figure size 432x288 with 1 Axes>"
      ]
     },
     "metadata": {
      "needs_background": "light"
     },
     "output_type": "display_data"
    }
   ],
   "source": [
    "plt.figure(1)\n",
    "plt.title('RGA Values over Frequency')\n",
    "plt.xlabel(r'Frequency [rad/s]')\n",
    "plt.ylabel(r'|Λ|')\n",
    "plt.loglog(w, abs(λ11a), label='$\\lambda_{11}/\\lambda_{22}$ a', ls='--')\n",
    "plt.loglog(w, abs(λ21a), label='$\\lambda_{12}/\\lambda_{21}$ a', ls='--')\n",
    "plt.loglog(w, abs(λ11b), label='$\\lambda_{11}/\\lambda_{22}$ b')\n",
    "plt.loglog(w, abs(λ21b), label='$\\lambda_{12}/\\lambda_{21}$ b')\n",
    "plt.grid(b=None, which='both', axis='both')\n",
    "plt.legend(loc=3)"
   ]
  },
  {
   "cell_type": "code",
   "execution_count": 41,
   "metadata": {},
   "outputs": [
    {
     "data": {
      "text/plain": [
       "(matrix([[1., 0.],\n",
       "         [0., 1.]]),\n",
       " matrix([[0.5, 0.5],\n",
       "         [0.5, 0.5]]))"
      ]
     },
     "execution_count": 41,
     "metadata": {},
     "output_type": "execute_result"
    }
   ],
   "source": [
    "RGA_a = np.matrix([[round(λ_11a(0), 3), round(1 - λ_11a(0), 3)], [round(1 - λ_11a(0), 3), round(λ_11a(0), 3)]])\n",
    "RGA_b = np.matrix([[round(λ_11b(1e-10), 3), round(1 - λ_11b(1e-10), 3)], [round(1 - λ_11b(1e-10), 3), round(λ_11b(1e-10), 3)]])\n",
    "\n",
    "RGA_a, RGA_b"
   ]
  },
  {
   "cell_type": "markdown",
   "metadata": {},
   "source": []
  }
 ],
 "metadata": {
  "kernelspec": {
   "display_name": "Python 3",
   "language": "python",
   "name": "python3"
  },
  "language_info": {
   "codemirror_mode": {
    "name": "ipython",
    "version": 3
   },
   "file_extension": ".py",
   "mimetype": "text/x-python",
   "name": "python",
   "nbconvert_exporter": "python",
   "pygments_lexer": "ipython3",
   "version": "3.7.6"
  }
 },
 "nbformat": 4,
 "nbformat_minor": 4
}
