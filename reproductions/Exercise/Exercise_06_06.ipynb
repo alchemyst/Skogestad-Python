{
 "cells": [
  {
   "cell_type": "code",
   "execution_count": 7,
   "metadata": {},
   "outputs": [],
   "source": [
    "import sympy\n",
    "import numpy as np\n",
    "import utils"
   ]
  },
  {
   "cell_type": "code",
   "execution_count": 14,
   "metadata": {},
   "outputs": [],
   "source": [
    "α, s, a, b, yz1, yz2 = sympy.symbols('α, s. a , b, y_z_1, y_z_2')"
   ]
  },
  {
   "cell_type": "code",
   "execution_count": 15,
   "metadata": {},
   "outputs": [
    {
     "data": {
      "text/latex": [
       "$\\displaystyle \\left[\\begin{matrix}α & 1\\\\\\frac{1}{s. + 1} & α\\end{matrix}\\right]$"
      ],
      "text/plain": [
       "Matrix([\n",
       "[         α, 1],\n",
       "[1/(s. + 1), α]])"
      ]
     },
     "execution_count": 15,
     "metadata": {},
     "output_type": "execute_result"
    }
   ],
   "source": [
    "G = sympy.Matrix([[α, 1], [1/(s + 1), α]])\n",
    "G"
   ]
  },
  {
   "cell_type": "markdown",
   "metadata": {},
   "source": [
    "a) Find the zeros and its output direction\n"
   ]
  },
  {
   "cell_type": "code",
   "execution_count": 16,
   "metadata": {},
   "outputs": [
    {
     "data": {
      "text/latex": [
       "$\\displaystyle \\left[\\begin{matrix}a\\\\b\\end{matrix}\\right]$"
      ],
      "text/plain": [
       "Matrix([\n",
       "[a],\n",
       "[b]])"
      ]
     },
     "execution_count": 16,
     "metadata": {},
     "output_type": "execute_result"
    }
   ],
   "source": [
    "u = sympy.Matrix([[a], [b]])\n",
    "u"
   ]
  },
  {
   "cell_type": "code",
   "execution_count": 17,
   "metadata": {},
   "outputs": [
    {
     "data": {
      "text/latex": [
       "$\\displaystyle -1 + \\frac{1}{α^{2}}$"
      ],
      "text/plain": [
       "-1 + α**(-2)"
      ]
     },
     "execution_count": 17,
     "metadata": {},
     "output_type": "execute_result"
    }
   ],
   "source": [
    "ans = sympy.solve(G*u, [s, a])\n",
    "zero = ans[s]\n",
    "zero"
   ]
  },
  {
   "cell_type": "code",
   "execution_count": 59,
   "metadata": {},
   "outputs": [
    {
     "data": {
      "text/latex": [
       "$\\displaystyle \\left[\\begin{matrix}y_{z 1} & y_{z 2}\\end{matrix}\\right]$"
      ],
      "text/plain": [
       "Matrix([[y_z_1, y_z_2]])"
      ]
     },
     "execution_count": 59,
     "metadata": {},
     "output_type": "execute_result"
    }
   ],
   "source": [
    "yzH = sympy.Matrix([[yz1], [yz2]]).T\n",
    "yzH"
   ]
  },
  {
   "cell_type": "code",
   "execution_count": 61,
   "metadata": {},
   "outputs": [
    {
     "data": {
      "text/latex": [
       "$\\displaystyle \\left[\\begin{matrix}y_{z 1} α + y_{z 2} α^{2} & y_{z 1} + y_{z 2} α\\end{matrix}\\right]$"
      ],
      "text/plain": [
       "Matrix([[y_z_1*α + y_z_2*α**2, y_z_1 + y_z_2*α]])"
      ]
     },
     "execution_count": 61,
     "metadata": {},
     "output_type": "execute_result"
    }
   ],
   "source": [
    "Gz = G.subs(s, zero)\n",
    "yzHGz = yzH*Gz\n",
    "yzHGz"
   ]
  },
  {
   "cell_type": "code",
   "execution_count": 71,
   "metadata": {},
   "outputs": [
    {
     "data": {
      "text/plain": [
       "{y_z_1: -y_z_2*α}"
      ]
     },
     "execution_count": 71,
     "metadata": {},
     "output_type": "execute_result"
    }
   ],
   "source": [
    "zdir = sympy.solve(yzHGz, [yz1, yz2])\n",
    "zdir"
   ]
  },
  {
   "cell_type": "markdown",
   "metadata": {},
   "source": [
    "For z1 = -1 +$1/\\alpha^2$: if yz2 = 1, yz1 = -$\\alpha$\n",
    "\n",
    "Thus $$ y_z = [-\\alpha, 1]^T$$"
   ]
  },
  {
   "cell_type": "markdown",
   "metadata": {},
   "source": [
    "b) Which values of $\\alpha$ yield a RHP-zero, and which of these values is best/worst in terms of achievable performance?\n",
    "\n",
    "We have a RHP-zero for |$\\alpha$| < 1 . \n",
    "- Best for $\\alpha$ = 0 with zero at s = $\\infty$; \n",
    "- If control at steady-state is required then worst for $\\alpha$ = 1 zero at s = 0."
   ]
  },
  {
   "cell_type": "markdown",
   "metadata": {},
   "source": [
    "c) Suppose  $\\alpha$ = 0.1. Which output is the most difficult to control? Illustrate your conclusion using Theorem 6.4.\n",
    "\n",
    "Output 2 is most difficult to control since the zero is in that direction. We get strong interaction woth $\\beta$ = 20 if we want to control y2 perfectly as seen below:"
   ]
  },
  {
   "cell_type": "code",
   "execution_count": 76,
   "metadata": {},
   "outputs": [
    {
     "name": "stdout",
     "output_type": "stream",
     "text": [
      "β1 =  0.2\n",
      "β2 =  20.0\n"
     ]
    }
   ],
   "source": [
    "α = 0.1\n",
    "\n",
    "zdir1 = - α\n",
    "zdir2 = 1\n",
    "\n",
    "β1 = -2*zdir1/zdir2\n",
    "β2 = -2*zdir2/zdir1\n",
    "\n",
    "print ('β1 = ', β1)\n",
    "print ('β2 = ', β2)"
   ]
  },
  {
   "cell_type": "code",
   "execution_count": null,
   "metadata": {},
   "outputs": [],
   "source": []
  }
 ],
 "metadata": {
  "kernelspec": {
   "display_name": "Python 3",
   "language": "python",
   "name": "python3"
  },
  "language_info": {
   "codemirror_mode": {
    "name": "ipython",
    "version": 3
   },
   "file_extension": ".py",
   "mimetype": "text/x-python",
   "name": "python",
   "nbconvert_exporter": "python",
   "pygments_lexer": "ipython3",
   "version": "3.7.6"
  }
 },
 "nbformat": 4,
 "nbformat_minor": 4
}
