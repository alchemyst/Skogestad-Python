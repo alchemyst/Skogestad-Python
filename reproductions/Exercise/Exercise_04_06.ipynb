{
  "cells": [
    {
      "cell_type": "code",
      "metadata": {},
      "source": [
        "import sympy\n",
        "import numpy\n",
        "from robustcontrol.utils import ssr_solve\n",
        "\n",
        "a11, a12, a21, a22, b21, b22, z = sympy.symbols(\n",
        "    'a11 a12 a21 a22 b21 b22 z'\n",
        ")\n",
        "\n",
        "A = sympy.Matrix([[a11, a12], [a21, a22]])\n",
        "B = sympy.Matrix([[1, 1], [b21, b22]])\n",
        "C = sympy.Matrix([[1, 0], [0, 1]])\n",
        "D = sympy.zeros(*A.shape)\n",
        "\n",
        "zeros, _ = ssr_solve(A, B, C, D)\n",
        "print(\"Zeros = \", zeros)\n",
        "\n",
        "# Result confirmed by para 4.6.7.  C has full rank, and D = zero. No zero\n",
        "# value s = z for which P loses rank"
      ],
      "outputs": [],
      "execution_count": null
    }
  ],
  "metadata": {
    "anaconda-cloud": {},
    "kernelspec": {
      "display_name": "Python 3",
      "language": "python",
      "name": "python3"
    },
    "language_info": {
      "codemirror_mode": {
        "name": "ipython",
        "version": 3
      },
      "file_extension": ".py",
      "mimetype": "text/x-python",
      "name": "python",
      "nbconvert_exporter": "python",
      "pygments_lexer": "ipython3",
      "version": "3.6.1"
    }
  },
  "nbformat": 4,
  "nbformat_minor": 1
}