{
  "cells": [
    {
      "cell_type": "code",
      "metadata": {},
      "source": [
        "import sympy\n",
        "import numpy\n",
        "from robustcontrol.utils import ssr_solve\n",
        "\n",
        "c1, z = sympy.symbols('c1 z')\n",
        "\n",
        "A = sympy.Matrix([[10, 0], [0, -1]])\n",
        "B = sympy.Matrix([[1, 0], [0, 1]])\n",
        "C = sympy.Matrix([[10, c1], [10, 0]])\n",
        "D = sympy.Matrix([[0, 0], [0, 1]])\n",
        "\n",
        "zeros, _ = ssr_solve(A, B, C, D)\n",
        "print(\"Zeros = \", zeros)\n",
        "# c1 must be less than 1 for RHP zero"
      ],
      "outputs": [],
      "execution_count": null
    }
  ],
  "metadata": {
    "anaconda-cloud": {},
    "kernelspec": {
      "display_name": "Python 3",
      "language": "python",
      "name": "python3"
    },
    "language_info": {
      "codemirror_mode": {
        "name": "ipython",
        "version": 3
      },
      "file_extension": ".py",
      "mimetype": "text/x-python",
      "name": "python",
      "nbconvert_exporter": "python",
      "pygments_lexer": "ipython3",
      "version": "3.6.1"
    }
  },
  "nbformat": 4,
  "nbformat_minor": 1
}