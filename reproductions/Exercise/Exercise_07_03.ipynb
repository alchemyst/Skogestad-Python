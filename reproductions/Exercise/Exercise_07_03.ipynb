{
  "cells": [
    {
      "cell_type": "code",
      "metadata": {},
      "source": [
        "# -*- coding: utf-8 -*-\n",
        "\"\"\"\n",
        "Created on Thu Jun  4 20:10:25 2015\n",
        "\n",
        "@author: cronjej\n",
        "\"\"\"\n",
        "from __future__ import print_function\n",
        "import numpy as np\n",
        "import robustcontrol.doc_func as df\n",
        "\n",
        "Gprime2 = [\n",
        "    ['a)', np.linspace(0, 2, 201), df.Gp_a, False, '$l_{I}$'],\n",
        "    ['b)', np.linspace(0, 2, 201), df.Gp_b, False, '$l_{I}$'],\n",
        "    ['c)', np.linspace(0, 2, 201), df.Gp_c, True, '$l_{I}(p_{min})$'],\n",
        "    ['d)', np.linspace(0, 3, 301), df.Gp_d, True, r'$l_{I}(\\tau_{min})$'],\n",
        "    ['e)', np.linspace(0, 8, 801), df.Gp_e, True, '$l_{I}(\\zeta_{max})$'],\n",
        "    ['f)', np.linspace(100, 150, 51), df.Gp_f, True, '$l_{I}$'],\n",
        "    ['g)', np.linspace(0, 1, 101), df.Gp_g, False, '$l_{I}$']]\n",
        "\n",
        "\n",
        "def wI(s):\n",
        "    return (s + 0.3)/((1/3)*s + 1)\n",
        "\n",
        "df.plot_range(df.G, Gprime2, wI, np.logspace(-3, 3, 200))\n"
      ],
      "outputs": [],
      "execution_count": null
    }
  ],
  "metadata": {
    "anaconda-cloud": {},
    "kernelspec": {
      "display_name": "Python 3",
      "language": "python",
      "name": "python3"
    },
    "language_info": {
      "codemirror_mode": {
        "name": "ipython",
        "version": 3
      },
      "file_extension": ".py",
      "mimetype": "text/x-python",
      "name": "python",
      "nbconvert_exporter": "python",
      "pygments_lexer": "ipython3",
      "version": "3.6.1"
    }
  },
  "nbformat": 4,
  "nbformat_minor": 1
}