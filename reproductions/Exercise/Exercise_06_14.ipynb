{
 "cells": [
  {
   "cell_type": "code",
   "execution_count": 52,
   "metadata": {},
   "outputs": [],
   "source": [
    "from robustcontrol import utils\n",
    "import sympy\n",
    "import numpy as np\n",
    "from sympy.abc import i, j\n",
    "from matplotlib import pyplot as plt"
   ]
  },
  {
   "cell_type": "code",
   "execution_count": 67,
   "metadata": {},
   "outputs": [],
   "source": [
    "G = np.matrix([[100, 102], [100, 100]])"
   ]
  },
  {
   "cell_type": "markdown",
   "metadata": {},
   "source": [
    "# RGA"
   ]
  },
  {
   "cell_type": "code",
   "execution_count": 82,
   "metadata": {},
   "outputs": [
    {
     "data": {
      "text/plain": [
       "(array([[-50.,  51.],\n",
       "        [ 51., -50.]]),\n",
       " 204.00000000000114)"
      ]
     },
     "execution_count": 82,
     "metadata": {},
     "output_type": "execute_result"
    }
   ],
   "source": [
    "utils.RGA(G), utils.RGAnumber(G, np.eye(2))"
   ]
  },
  {
   "cell_type": "code",
   "execution_count": 85,
   "metadata": {},
   "outputs": [],
   "source": [
    "w = np.logspace(-2, 2, 20)\n",
    "s = 1j*w\n",
    "\n",
    "def Gnp(s):\n",
    "    return G\n",
    "def g11(s):\n",
    "    return Gnp(s)[0, 0]\n",
    "def g12(s):\n",
    "    return Gnp(s)[0, 1]\n",
    "def g21(s):\n",
    "    return Gnp(s)[1, 0]\n",
    "def g22(s):\n",
    "    return Gnp(s)[1, 1]\n",
    "\n",
    "def λ_11(s):\n",
    "    return 1/(1 - ((g12(s)*g21(s))/(g11(s)*g22(s))))\n",
    "\n",
    "λ11= np.array([λ_11(i) for i in s])\n",
    "λ21 = 1 - λ11\n",
    "\n"
   ]
  },
  {
   "cell_type": "code",
   "execution_count": 87,
   "metadata": {},
   "outputs": [
    {
     "data": {
      "text/plain": [
       "<matplotlib.legend.Legend at 0x29435b51c08>"
      ]
     },
     "execution_count": 87,
     "metadata": {},
     "output_type": "execute_result"
    },
    {
     "data": {
      "image/png": "[encoded data removed]",
      "text/plain": [
       "<Figure size 432x288 with 1 Axes>"
      ]
     },
     "metadata": {
      "needs_background": "light"
     },
     "output_type": "display_data"
    }
   ],
   "source": [
    "plt.figure(1)\n",
    "plt.title('RGA Values over Frequency')\n",
    "plt.xlabel(r'Frequency [rad/s]')\n",
    "plt.ylabel(r'Magnitude')\n",
    "plt.loglog(w, abs(λ11), label='$\\lambda_{11}/\\lambda_{22}$')\n",
    "plt.loglog(w, abs(λ21), label='$\\lambda_{12}/\\lambda_{21}$')\n",
    "plt.grid(b=None, which='both', axis='both')\n",
    "plt.legend()\n"
   ]
  },
  {
   "cell_type": "markdown",
   "metadata": {},
   "source": [
    "### This is an ill conditioned plant as can be seen by the $ \\lambda_{11} $ = -50 over all freq "
   ]
  },
  {
   "cell_type": "markdown",
   "metadata": {},
   "source": [
    "# Disturbances"
   ]
  },
  {
   "cell_type": "code",
   "execution_count": 75,
   "metadata": {},
   "outputs": [],
   "source": [
    "s = 0\n",
    "gd1 = np.matrix([[10/(s + 1)], [10/(s + 1)]])\n",
    "gd2 = np.matrix([[1/(s + 1)], [-1/(s + 1)]])"
   ]
  },
  {
   "cell_type": "code",
   "execution_count": 78,
   "metadata": {},
   "outputs": [
    {
     "data": {
      "text/plain": [
       "(1.4213199846401867,\n",
       " [0.7071067811865475, 0.7071067811865475],\n",
       " 202.01252492109865,\n",
       " [0.7071067811865475, -0.7071067811865475])"
      ]
     },
     "execution_count": 78,
     "metadata": {},
     "output_type": "execute_result"
    }
   ],
   "source": [
    "_, yd1, condno1 = utils.distRej(G, gd1)\n",
    "_, yd2, condno2= utils.distRej(G, gd2)\n",
    "\n",
    "condno1 , yd1 , condno2 , yd2"
   ]
  },
  {
   "cell_type": "code",
   "execution_count": 79,
   "metadata": {},
   "outputs": [
    {
     "data": {
      "text/plain": [
       "(matrix([[0.70710678],\n",
       "         [0.70710678]]),\n",
       " matrix([[0.71407284],\n",
       "         [0.70007141]]))"
      ]
     },
     "execution_count": 79,
     "metadata": {},
     "output_type": "execute_result"
    }
   ],
   "source": [
    "Gu1 = G[:, 0]\n",
    "Gu2 = G[:, 1]\n",
    "\n",
    "G1 = 1 / np.linalg.norm(Gu1, 2)# Returns largest sing value of gd(wj)\n",
    "u1 = G1 * Gu1\n",
    "\n",
    "G2 = 1 / np.linalg.norm(Gu2, 2)# Returns largest sing value of gd(wj)\n",
    "u2 = G2 * Gu2\n",
    "\n",
    "u1, u2"
   ]
  },
  {
   "cell_type": "markdown",
   "metadata": {},
   "source": [
    "##### 1) d1 and u1 is in the same direction, and thus d1 is easily rejected\n",
    "##### 2) d2 is more difficult to control also as its condition number is 202.01 compared to 1.42 for d1"
   ]
  },
  {
   "cell_type": "code",
   "execution_count": null,
   "metadata": {},
   "outputs": [],
   "source": []
  }
 ],
 "metadata": {
  "kernelspec": {
   "display_name": "Python 3",
   "language": "python",
   "name": "python3"
  },
  "language_info": {
   "codemirror_mode": {
    "name": "ipython",
    "version": 3
   },
   "file_extension": ".py",
   "mimetype": "text/x-python",
   "name": "python",
   "nbconvert_exporter": "python",
   "pygments_lexer": "ipython3",
   "version": "3.7.6"
  }
 },
 "nbformat": 4,
 "nbformat_minor": 4
}
