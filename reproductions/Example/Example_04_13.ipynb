{
  "cells": [
    {
      "cell_type": "code",
      "metadata": {},
      "source": [
        "from robustcontrol.utils import pole_zero_directions, tf, mimotf\n",
        "from robustcontrol.reporting import display_export_data\n",
        "\n",
        "s = tf([1, 0])\n",
        "\n",
        "G = 1/(s + 2)*mimotf([[s - 1, 4],\n",
        "                      [4.5, 2*(s - 1)]])\n",
        "\n",
        "# Poles and zeros calculated in Example 4.11\n",
        "\n",
        "zerodata = pole_zero_directions(G, [4.], 'z')\n",
        "poledata = pole_zero_directions(G, [-2.], 'p')\n",
        "rowhead = ['   u', '   y', '   e ']\n",
        "\n",
        "display_export_data(zerodata, 'Zeros', rowhead)\n",
        "display_export_data(poledata, 'Poles', rowhead)\n"
      ],
      "outputs": [],
      "execution_count": null
    }
  ],
  "metadata": {
    "anaconda-cloud": {},
    "kernelspec": {
      "display_name": "Python 3",
      "language": "python",
      "name": "python3"
    },
    "language_info": {
      "codemirror_mode": {
        "name": "ipython",
        "version": 3
      },
      "file_extension": ".py",
      "mimetype": "text/x-python",
      "name": "python",
      "nbconvert_exporter": "python",
      "pygments_lexer": "ipython3",
      "version": "3.6.1"
    }
  },
  "nbformat": 4,
  "nbformat_minor": 1
}