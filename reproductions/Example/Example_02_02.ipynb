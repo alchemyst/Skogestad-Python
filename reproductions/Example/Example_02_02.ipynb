{
 "cells": [
  {
   "cell_type": "code",
   "execution_count": 8,
   "metadata": {},
   "outputs": [
    {
     "ename": "ImportError",
     "evalue": "attempted relative import with no known parent package",
     "output_type": "error",
     "traceback": [
      "\u001b[1;31m---------------------------------------------------------------------------\u001b[0m",
      "\u001b[1;31mImportError\u001b[0m                               Traceback (most recent call last)",
      "\u001b[1;32m<ipython-input-8-f48ef7e4c6f7>\u001b[0m in \u001b[0;36m<module>\u001b[1;34m\u001b[0m\n\u001b[0;32m      3\u001b[0m \u001b[1;32mimport\u001b[0m \u001b[0mnumpy\u001b[0m \u001b[1;32mas\u001b[0m \u001b[0mnp\u001b[0m\u001b[1;33m\u001b[0m\u001b[1;33m\u001b[0m\u001b[0m\n\u001b[0;32m      4\u001b[0m \u001b[1;33m\u001b[0m\u001b[0m\n\u001b[1;32m----> 5\u001b[1;33m \u001b[1;32mfrom\u001b[0m \u001b[1;33m.\u001b[0m\u001b[1;33m.\u001b[0m\u001b[0mrobustcontrol\u001b[0m\u001b[1;33m.\u001b[0m\u001b[0mutils\u001b[0m \u001b[1;32mimport\u001b[0m \u001b[0mfeedback\u001b[0m\u001b[1;33m,\u001b[0m \u001b[0mtf\u001b[0m\u001b[1;33m\u001b[0m\u001b[1;33m\u001b[0m\u001b[0m\n\u001b[0m\u001b[0;32m      6\u001b[0m \u001b[1;33m\u001b[0m\u001b[0m\n\u001b[0;32m      7\u001b[0m \u001b[1;31m# Process model of G with various Controller Gains\u001b[0m\u001b[1;33m\u001b[0m\u001b[1;33m\u001b[0m\u001b[1;33m\u001b[0m\u001b[0m\n",
      "\u001b[1;31mImportError\u001b[0m: attempted relative import with no known parent package"
     ]
    }
   ],
   "source": [
    "import matplotlib.pyplot as plt\n",
    "%matplotlib inline\n",
    "import numpy as np\n",
    "\n",
    "from robustcontrol.utils import feedback, tf\n",
    "\n",
    "# Process model of G with various Controller Gains\n",
    "s = tf([1, 0], 1)\n",
    "G = 3*(-2*s + 1)/((10*s + 1)*(5*s + 1))\n",
    "\n",
    "# Configure plot and generate timespan\n",
    "tspan = np.linspace(0, 50, 100)\n",
    "plt.figure('Figure 2.6')\n",
    "plt.title('Effect of proportional gain Kc on closed loop response')\n",
    "\n",
    "# Calculate the time domain response\n",
    "Ks = [0.5, 1.5, 2, 2.5, 3.0]\n",
    "for K in Ks:\n",
    "    T = feedback(G * K, 1)\n",
    "    [t, y] = T.step(0, tspan)\n",
    "    if K >= 3.0:\n",
    "        plt.plot(t, y, '-.')\n",
    "    else:\n",
    "        plt.plot(t, y)\n",
    "\n",
    "# Plot the time domain response\n",
    "plt.legend([\"Kc = %1.1f\" % K for K in Ks])\n",
    "plt.xlabel('Time [s]')\n",
    "plt.ylim(-0.5, 2.5)\n",
    "plt.show()\n"
   ]
  },
  {
   "cell_type": "code",
   "execution_count": null,
   "metadata": {},
   "outputs": [],
   "source": []
  }
 ],
 "metadata": {
  "anaconda-cloud": {},
  "kernelspec": {
   "display_name": "Python 3",
   "language": "python",
   "name": "python3"
  },
  "language_info": {
   "codemirror_mode": {
    "name": "ipython",
    "version": 3
   },
   "file_extension": ".py",
   "mimetype": "text/x-python",
   "name": "python",
   "nbconvert_exporter": "python",
   "pygments_lexer": "ipython3",
   "version": "3.7.7"
  }
 },
 "nbformat": 4,
 "nbformat_minor": 4
}
