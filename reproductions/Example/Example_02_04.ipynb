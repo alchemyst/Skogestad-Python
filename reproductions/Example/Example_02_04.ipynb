{
  "cells": [
    {
      "cell_type": "code",
      "metadata": {},
      "source": [
        "from __future__ import print_function\n",
        "import matplotlib.pyplot as plt\n",
        "%matplotlib inline\n",
        "import numpy as np\n",
        "\n",
        "from robustcontrol.utils import feedback, tf, marginsclosedloop, ControllerTuning, maxpeak\n",
        "from robustcontrol.utilsplot import  step_response_plot, bodeclosedloop\n",
        "\n",
        "s = tf([1, 0], 1)\n",
        "G = 3*(-2*s + 1)/((10*s + 1)*(5*s + 1))\n",
        "\n",
        "[Kc, Taui, Ku, Pu] = ControllerTuning(G, method='ZN')\n",
        "print('Kc:', np.round(Ku/2.2, 3))\n",
        "print('Taui:', np.round(Pu/1.2, 3))\n",
        "print('Ku:', np.round(Ku, 3))\n",
        "print('Pu:', np.round(Pu, 3))\n",
        "\n",
        "K1 = Kc*(1 + 1/(Taui*s))\n",
        "K = K1[0]  # use this code to remove array\n",
        "L = G * K\n",
        "T = feedback(L, 1)\n",
        "S = feedback(1, L)\n",
        "u = S * K\n",
        "\n",
        "plt.figure('Figure 2.8')\n",
        "step_response_plot(T, u, 80, 0)\n",
        "plt.show()\n",
        "\n",
        "plt.figure('Figure 2.14')\n",
        "bodeclosedloop(G, K, -2, 1, margin=True)\n",
        "plt.show()\n",
        "\n",
        "GM, PM, wc, wb, wbt, valid = marginsclosedloop(L)\n",
        "Mt = maxpeak(T)\n",
        "Ms = maxpeak(S)\n",
        "print('GM: ', np.round(GM, 2))\n",
        "print('PM: ', np.round(PM, 1), \"deg or\", np.round(PM / 180 * np.pi, 2), \"rad\")\n",
        "print('wb: ', np.round(wb, 2))\n",
        "print('wc: ', np.round(wc, 2))\n",
        "print('wbt:', np.round(wbt, 2))\n",
        "print('Ms: ', np.round(Ms, 2))\n",
        "print('Mt: ', np.round(Mt, 2))\n",
        "\n",
        "if valid:\n",
        "    print(\"Frequency range wb < wc < wbt is valid\")\n",
        "else:\n",
        "    print(\"Frequency range wb < wc < wbt is not valid\")\n"
      ],
      "outputs": [],
      "execution_count": null
    }
  ],
  "metadata": {
    "anaconda-cloud": {},
    "kernelspec": {
      "display_name": "Python 3",
      "language": "python",
      "name": "python3"
    },
    "language_info": {
      "codemirror_mode": {
        "name": "ipython",
        "version": 3
      },
      "file_extension": ".py",
      "mimetype": "text/x-python",
      "name": "python",
      "nbconvert_exporter": "python",
      "pygments_lexer": "ipython3",
      "version": "3.6.1"
    }
  },
  "nbformat": 4,
  "nbformat_minor": 1
}