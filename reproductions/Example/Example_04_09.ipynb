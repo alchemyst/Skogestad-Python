{
  "cells": [
    {
      "cell_type": "code",
      "metadata": {},
      "source": [
        "from __future__ import print_function\n",
        "\n",
        "from robustcontrol.utils import tf, mimotf\n",
        "\n",
        "s = tf([1, 0], 1)\n",
        "G = 1/(1.25*(s + 1)*(s + 2)) * mimotf([[s - 1, s],\n",
        "                                       [-6, s - 2]])\n",
        "\n",
        "print('Poles: ', G.poles())\n",
        "# TODO: Incorrect result. G has no zeros\n",
        "print('Zeros: ', G.zeros())\n"
      ],
      "outputs": [],
      "execution_count": null
    }
  ],
  "metadata": {
    "anaconda-cloud": {},
    "kernelspec": {
      "display_name": "Python 3",
      "language": "python",
      "name": "python3"
    },
    "language_info": {
      "codemirror_mode": {
        "name": "ipython",
        "version": 3
      },
      "file_extension": ".py",
      "mimetype": "text/x-python",
      "name": "python",
      "nbconvert_exporter": "python",
      "pygments_lexer": "ipython3",
      "version": "3.6.1"
    }
  },
  "nbformat": 4,
  "nbformat_minor": 1
}