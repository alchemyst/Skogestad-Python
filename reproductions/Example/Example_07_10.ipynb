{
  "cells": [
    {
      "cell_type": "code",
      "metadata": {},
      "source": [
        "from robustcontrol import utils\n",
        "import numpy as np\n",
        "import sympy as sp\n",
        "from scipy.optimize import fsolve\n",
        "\n",
        "s = utils.tf([1,0],[1])\n",
        "L = (-s + 2)/(s*(s + 2))\n",
        "\n",
        "_,_,_,w180 = utils.margins(L)\n",
        "GM = 1/np.abs(L(1j*w180))\n",
        "print('w_180',w180)\n",
        "print('GM = 1/|L(w180)|',GM)\n",
        "print('From 7.55, kmax = GM = ',GM)\n",
        "\n",
        "omega = np.logspace(-2,2,1000)\n",
        "\n",
        "def rk(kmax):\n",
        "    return (kmax - 1)/(kmax + 1)\n",
        "\n",
        "def kbar(kmax):\n",
        "    return (kmax + 1)/2\n",
        "\n",
        "def RScondition(kmax):\n",
        "    abs_ineq = [abs(rk(kmax) * kbar(kmax) * L(1j*s)/(1 + kbar(kmax)*L(1j*s))) for s in omega]\n",
        "    max_ineq = max(abs_ineq) - 1\n",
        "    return max_ineq\n",
        "\n",
        "kcal = fsolve(RScondition,1)\n",
        "print('From 7.58, kmax = ',np.round(kcal,2))"
      ],
      "outputs": [],
      "execution_count": null
    }
  ],
  "metadata": {
    "anaconda-cloud": {},
    "kernelspec": {
      "display_name": "Python 3",
      "language": "python",
      "name": "python3"
    },
    "language_info": {
      "codemirror_mode": {
        "name": "ipython",
        "version": 3
      },
      "file_extension": ".py",
      "mimetype": "text/x-python",
      "name": "python",
      "nbconvert_exporter": "python",
      "pygments_lexer": "ipython3",
      "version": "3.6.1"
    }
  },
  "nbformat": 4,
  "nbformat_minor": 1
}