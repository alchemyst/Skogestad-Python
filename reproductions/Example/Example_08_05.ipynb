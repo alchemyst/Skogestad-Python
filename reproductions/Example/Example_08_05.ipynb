{
  "cells": [
    {
      "cell_type": "code",
      "metadata": {},
      "source": [
        "from __future__ import print_function\n",
        "import numpy as np\n",
        "\n",
        "from robustcontrol.robusttools import  UnstructuredDelta\n",
        "\n",
        "\n",
        "M = np.matrix([[2., 2.],[-1., -1.]])\n",
        "\n",
        "print('Full perturbation delta matrix')\n",
        "print(UnstructuredDelta(M, 'Full'))\n",
        "print('\\nDiagonal perturbation delta matrix')\n",
        "print(UnstructuredDelta(M, 'Diagonal'))\n"
      ],
      "outputs": [],
      "execution_count": null
    }
  ],
  "metadata": {
    "anaconda-cloud": {},
    "kernelspec": {
      "display_name": "Python 3",
      "language": "python",
      "name": "python3"
    },
    "language_info": {
      "codemirror_mode": {
        "name": "ipython",
        "version": 3
      },
      "file_extension": ".py",
      "mimetype": "text/x-python",
      "name": "python",
      "nbconvert_exporter": "python",
      "pygments_lexer": "ipython3",
      "version": "3.6.1"
    }
  },
  "nbformat": 4,
  "nbformat_minor": 1
}