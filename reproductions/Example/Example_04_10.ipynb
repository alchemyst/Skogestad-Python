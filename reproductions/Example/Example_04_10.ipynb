{
  "cells": [
    {
      "cell_type": "code",
      "metadata": {},
      "source": [
        "from __future__ import print_function\n",
        "import sympy\n",
        "from robustcontrol import utils\n",
        "\n",
        "s = sympy.Symbol('s')\n",
        "M = sympy.Matrix([[(s - 1)*(s + 2), 0, (s - 1)**2],\n",
        "                  [-(s + 1)*(s + 2), (s - 1)*(s + 1),  (s - 1)*(s + 1)]])\n",
        "G = (1/((s + 1)*(s + 2)*(s - 1)))*M\n",
        "\n",
        "poles = utils.poles(G)\n",
        "\n",
        "print(\"The poles of the system are = \", poles)\n",
        "\n",
        "s = utils.tf([1, 0], 1)\n",
        "M = utils.mimotf([[(s - 1) * (s + 2), 0, (s - 1) ** 2],\n",
        "                  [-(s + 1) * (s + 2), (s - 1) * (s + 1), (s - 1) * (s + 1)]])\n",
        "G = 1/((s + 1)*(s + 2)*(s - 1)) * M\n",
        "print(\"The poles of the system are = \", G.poles())\n"
      ],
      "outputs": [],
      "execution_count": null
    }
  ],
  "metadata": {
    "anaconda-cloud": {},
    "kernelspec": {
      "display_name": "Python 3",
      "language": "python",
      "name": "python3"
    },
    "language_info": {
      "codemirror_mode": {
        "name": "ipython",
        "version": 3
      },
      "file_extension": ".py",
      "mimetype": "text/x-python",
      "name": "python",
      "nbconvert_exporter": "python",
      "pygments_lexer": "ipython3",
      "version": "3.6.1"
    }
  },
  "nbformat": 4,
  "nbformat_minor": 1
}