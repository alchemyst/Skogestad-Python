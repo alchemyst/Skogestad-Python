{
  "cells": [
    {
      "cell_type": "code",
      "metadata": {},
      "source": [
        "from __future__ import print_function\n",
        "from robustcontrol.utils import tf, feedback, tf_step\n",
        "from robustcontrol import utilsplot\n",
        "import matplotlib.pyplot as plt\n",
        "%matplotlib inline\n",
        "import numpy as np\n",
        "\n",
        "s = tf([1,0], 1)\n",
        "G = 200/((10*s + 1)*(0.05*s + 1)**2)\n",
        "Gd = 100/(10*s + 1)\n",
        "\n",
        "wc = 10\n",
        "K = wc*(10*s + 1)*(0.1*s + 1)/(200*s*(0.01*s + 1))\n",
        "L = G*K\n",
        "\n",
        "t = np.linspace(0, 3)\n",
        "Sd = (1/(1 + G*K))*Gd\n",
        "T = feedback(L, 1)\n",
        "\n",
        "[t,y] = tf_step(T, 3)\n",
        "plt.figure('Figure 2.22')\n",
        "plt.subplot(1, 2, 1)\n",
        "plt.plot(t, y)\n",
        "plt.title('Tracking Response')\n",
        "plt.ylabel('y(t)')\n",
        "plt.xlabel('Time (s)')\n",
        "plt.ylim([0, 1.5])\n",
        "\n",
        "[t,yd] = Sd.step(0, t)\n",
        "plt.subplot(1, 2, 2)\n",
        "plt.plot(t, yd)\n",
        "plt.ylabel('y(t)')\n",
        "plt.xlabel('Time (s)')\n",
        "plt.title('Disturbance Response')\n",
        "plt.ylim([0, 1.5])\n",
        "plt.show()\n"
      ],
      "outputs": [],
      "execution_count": null
    }
  ],
  "metadata": {
    "anaconda-cloud": {},
    "kernelspec": {
      "display_name": "Python 3",
      "language": "python",
      "name": "python3"
    },
    "language_info": {
      "codemirror_mode": {
        "name": "ipython",
        "version": 3
      },
      "file_extension": ".py",
      "mimetype": "text/x-python",
      "name": "python",
      "nbconvert_exporter": "python",
      "pygments_lexer": "ipython3",
      "version": "3.6.1"
    }
  },
  "nbformat": 4,
  "nbformat_minor": 1
}