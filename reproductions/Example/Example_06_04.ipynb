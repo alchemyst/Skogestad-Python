{
  "cells": [
    {
      "cell_type": "code",
      "metadata": {},
      "source": [
        "from __future__ import print_function\n",
        "from robustcontrol.utils import pole_zero_directions, BoundKS, tf, mimotf\n",
        "from robustcontrol.reporting import display_export_data\n",
        "\n",
        "s = tf([1, 0])\n",
        "\n",
        "G11 = (s + 2.5) / (s - 2)\n",
        "G12 = -(0.1 * s + 1) / (s - 2)\n",
        "G21 = (s + 2.5) / (0.1 * s + 1)\n",
        "G22 = 1\n",
        "G = mimotf([[G11, G12],\n",
        "            [G21, G22]])\n",
        "\n",
        "p = G.poles()\n",
        "z = G.zeros()\n",
        "print('Poles: {0}'.format(p))\n",
        "print('Zeros: {0}\\n'.format(z))\n",
        "\n",
        "\n",
        "# stable matrix\n",
        "G11 = (s + 2.5) / (s + 2)\n",
        "G12 = -(0.1 * s + 1) / (s + 2)\n",
        "G21 = (s + 2.5) / (0.1 * s + 1)\n",
        "G22 = 1\n",
        "Gs = mimotf([[G11, G12],\n",
        "             [G21, G22]])\n",
        "\n",
        "# select RHP-pole\n",
        "p = [2.]\n",
        "pdir = pole_zero_directions(G, p, 'p')\n",
        "display_export_data(pdir, 'Poles', ['   u', '   y', '   e '])\n",
        "\n",
        "up = pdir[0][1]\n",
        "print('||KS||inf >= {:.3}'.format(BoundKS(Gs, p, up)))\n"
      ],
      "outputs": [],
      "execution_count": null
    }
  ],
  "metadata": {
    "anaconda-cloud": {},
    "kernelspec": {
      "display_name": "Python 3",
      "language": "python",
      "name": "python3"
    },
    "language_info": {
      "codemirror_mode": {
        "name": "ipython",
        "version": 3
      },
      "file_extension": ".py",
      "mimetype": "text/x-python",
      "name": "python",
      "nbconvert_exporter": "python",
      "pygments_lexer": "ipython3",
      "version": "3.6.1"
    }
  },
  "nbformat": 4,
  "nbformat_minor": 1
}