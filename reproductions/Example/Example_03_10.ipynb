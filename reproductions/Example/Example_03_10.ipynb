{
  "cells": [
    {
      "cell_type": "code",
      "metadata": {},
      "source": [
        "from __future__ import print_function\n",
        "import numpy as np\n",
        "\n",
        "from robustcontrol.utils import RGA\n",
        "\n",
        "# 3x3 plant at steady-state\n",
        "G = np.matrix([[16.8, 30.5, 4.30],\n",
        "               [-16.7, 31.0, -1.41],\n",
        "               [1.27, 54.1, 5.40]])\n",
        "\n",
        "print(np.round(RGA(G), 2))\n",
        "\n",
        "# pairing rule 2: avoid pairing negative RGA elements\n",
        "# RGA = [[1.50, 0.99, -1.48], [-0.41, 0.97, 0.45], [-0.08, -0.95, 2.03]]\n",
        "# Therefore pair the diagonal elements because they are positive, this means\n",
        "# use u1 to control y1, u2 to control y2 and u3 to control y3\n"
      ],
      "outputs": [],
      "execution_count": null
    }
  ],
  "metadata": {
    "anaconda-cloud": {},
    "kernelspec": {
      "display_name": "Python 3",
      "language": "python",
      "name": "python3"
    },
    "language_info": {
      "codemirror_mode": {
        "name": "ipython",
        "version": 3
      },
      "file_extension": ".py",
      "mimetype": "text/x-python",
      "name": "python",
      "nbconvert_exporter": "python",
      "pygments_lexer": "ipython3",
      "version": "3.6.1"
    }
  },
  "nbformat": 4,
  "nbformat_minor": 1
}