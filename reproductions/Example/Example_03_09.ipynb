{
  "cells": [
    {
      "cell_type": "code",
      "metadata": {},
      "source": [
        "from __future__ import print_function\n",
        "import numpy as np\n",
        "\n",
        "from robustcontrol.utils import RGA\n",
        "\n",
        "\n",
        "# Blending process: mix sugar (u1) and water (u2) to control amount\n",
        "# (y1 = F) and sugar fraction(y2 = x) in a soft drink\n",
        "\n",
        "# y = G*u\n",
        "# After linearization the equations become:\n",
        "# y1 = u1+u2\n",
        "# y2 = (1-x*)/(F*)u1 - (x*/F*)u2\n",
        "# given that at steady-state\n",
        "# x* = 0.2\n",
        "# F* = 2 kg/s\n",
        "# therefore;\n",
        "# G(s) = np.matrix([[1, 1], [(1-x*)/F* -x*/F*]])\n",
        "# after substitution\n",
        "G = np.matrix([[1, 1], [0.4, -0.1]])\n",
        "print(RGA(G))\n",
        "\n",
        "# pairing rule 1: prefer pairing on RGA elements close to 1\n",
        "# RGA = [[0.2, 0.8], [0.8, 0.2]]\n",
        "# RGA11 = 0.2; effect of u1 on y1\n",
        "# RGA12 = 0.8 close to 1; effect of u2 (water) on the amount y1\n",
        "# RGA21 = 0.8 close to 1; effect of u1(sugar) on the sugar fraction y2\n",
        "# RGA22 = 0.2; effect of u2 (water) on the sugar fraction y2\n",
        "# It is reasonable to use input u2 (water) to control amount y1 hence RGA = 0.8\n",
        "# and use input u1 (sugar) to control the sugar fraction y2\n"
      ],
      "outputs": [],
      "execution_count": null
    }
  ],
  "metadata": {
    "anaconda-cloud": {},
    "kernelspec": {
      "display_name": "Python 3",
      "language": "python",
      "name": "python3"
    },
    "language_info": {
      "codemirror_mode": {
        "name": "ipython",
        "version": 3
      },
      "file_extension": ".py",
      "mimetype": "text/x-python",
      "name": "python",
      "nbconvert_exporter": "python",
      "pygments_lexer": "ipython3",
      "version": "3.6.1"
    }
  },
  "nbformat": 4,
  "nbformat_minor": 1
}