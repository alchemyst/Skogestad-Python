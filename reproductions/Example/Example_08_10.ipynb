{
  "cells": [
    {
      "cell_type": "code",
      "metadata": {},
      "source": [
        "import numpy as np\n",
        "import matplotlib.pyplot as plt\n",
        "%matplotlib inline\n",
        "\n",
        "from robustcontrol import utils\n",
        "\n",
        "\n",
        "a = 10\n",
        "I = np.asmatrix(np.identity(2))\n",
        "\n",
        "\n",
        "def G(s):\n",
        "    \"\"\"process transfer matrix\"\"\"\n",
        "    return 1 / ((s ** 2) + a ** 2) * np.matrix([[s - a ** 2, a * (s + 1)],\n",
        "                                                [-a * (s + 1), s - a ** 2]])\n",
        "\n",
        "\n",
        "def K():\n",
        "    \"\"\"controller\"\"\"\n",
        "    return I\n",
        "\n",
        "\n",
        "def T(s):\n",
        "    \"\"\"this is a special case where T_I(s)= T(s) \"\"\"\n",
        "    return G(s) * K() * (I + G(s) * K()).I\n",
        "\n",
        "frequency = np.logspace(-3, 2, 1000)\n",
        "s = 1j * frequency\n",
        "\n",
        "max_singular_value_of_T = [max(utils.sigmas(T(si))) for si in s]\n",
        "mu_T = [max(np.abs(np.linalg.eigvals(T(si)))) for si in s]\n",
        "\n",
        "plt.loglog(frequency, max_singular_value_of_T, 'b')\n",
        "plt.loglog(frequency, mu_T, 'r')\n",
        "plt.legend(('max_singular_value(T)', 'mu(T)'), 'best', shadow=False)\n",
        "plt.xlabel('frequency')\n",
        "plt.ylabel('Magnitude')\n",
        "plt.show()\n"
      ],
      "outputs": [],
      "execution_count": null
    }
  ],
  "metadata": {
    "anaconda-cloud": {},
    "kernelspec": {
      "display_name": "Python 3",
      "language": "python",
      "name": "python3"
    },
    "language_info": {
      "codemirror_mode": {
        "name": "ipython",
        "version": 3
      },
      "file_extension": ".py",
      "mimetype": "text/x-python",
      "name": "python",
      "nbconvert_exporter": "python",
      "pygments_lexer": "ipython3",
      "version": "3.6.1"
    }
  },
  "nbformat": 4,
  "nbformat_minor": 1
}