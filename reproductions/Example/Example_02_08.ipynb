{
  "cells": [
    {
      "cell_type": "code",
      "metadata": {},
      "source": [
        "from __future__ import print_function\n",
        "import numpy as np\n",
        "import matplotlib.pyplot as plt\n",
        "%matplotlib inline\n",
        "\n",
        "from robustcontrol.utils import tf, feedback, marginsclosedloop\n",
        "from robustcontrol.utilsplot import  bode, step_response_plot\n",
        "\n",
        "# Loop shaping is an iterative procedure where the designer\n",
        "# 1. shapes and reshapes |L(jw)| after computing PM and GM,\n",
        "# 2. the peaks of closed loop frequency responses (Mt and Ms),\n",
        "# 3. selected closed-loop time responses,\n",
        "# 4. the magnitude of the input signal\n",
        "#\n",
        "# 1 to 4 are the important frequency domain measures used to assess\n",
        "#   performance and characterise speed of response\n",
        "\n",
        "s = tf([1, 0], 1)\n",
        "\n",
        "Kc = 0.05\n",
        "# plant model\n",
        "G = 3*(-2*s + 1)/((10*s + 1)*(5*s + 1))\n",
        "# Controller model\n",
        "K = Kc*(10*s + 1)*(5*s + 1)/(s*(2*s + 1)*(0.33*s + 1))\n",
        "# closed-loop transfer function\n",
        "L = G*K\n",
        "\n",
        "# magnitude and phase of L\n",
        "plt.figure('Figure 2.19')\n",
        "bode(L, -2, 1)\n",
        "\n",
        "# From the figure we can calculate w180\n",
        "#         w180 = 0.44\n",
        "GM, PM, wc, wb, wbt, valid = marginsclosedloop(L)\n",
        "print('GM:', np.round(GM, 2))\n",
        "print('PM:', np.round(PM*np.pi/180, 2), \"rad or\", np.round(PM, 2), \"deg\")\n",
        "print('wb:', np.round(wb, 2))\n",
        "print('wc:', np.round(wc, 2))\n",
        "print('wbt:', np.round(wbt, 4))\n",
        "\n",
        "# Response to step in reference for loop shaping design\n",
        "# y = Tr, r(t) = 1 for t > 0\n",
        "# u = KSr, r(t) = 1 for t > 0\n",
        "\n",
        "plt.figure('Figure 2.20')\n",
        "T = feedback(L, 1)\n",
        "S = feedback(1, L)\n",
        "u = K*S\n",
        "step_response_plot(T, u, 50, 0)\n",
        "\n",
        "# magnitude and phase of K\n",
        "plt.figure('Figure 2.21')\n",
        "bode(K, -2, 1)\n",
        "plt.show()\n"
      ],
      "outputs": [],
      "execution_count": null
    }
  ],
  "metadata": {
    "anaconda-cloud": {},
    "kernelspec": {
      "display_name": "Python 3",
      "language": "python",
      "name": "python3"
    },
    "language_info": {
      "codemirror_mode": {
        "name": "ipython",
        "version": 3
      },
      "file_extension": ".py",
      "mimetype": "text/x-python",
      "name": "python",
      "nbconvert_exporter": "python",
      "pygments_lexer": "ipython3",
      "version": "3.6.1"
    }
  },
  "nbformat": 4,
  "nbformat_minor": 1
}