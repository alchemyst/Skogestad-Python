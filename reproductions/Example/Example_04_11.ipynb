{
  "cells": [
    {
      "cell_type": "code",
      "metadata": {},
      "source": [
        "from __future__ import print_function\n",
        "from robustcontrol.utils import poles, zeros, tf, mimotf\n",
        "\n",
        "s = tf([1, 0], [1])\n",
        "G =  1 / (s + 2) * mimotf([[s - 1, 4], [4.5, 2 * (s - 1)]])\n",
        "print('Poles: ', poles(G))\n",
        "print('Zeros: ', zeros(G))\n"
      ],
      "outputs": [],
      "execution_count": null
    }
  ],
  "metadata": {
    "anaconda-cloud": {},
    "kernelspec": {
      "display_name": "Python 3",
      "language": "python",
      "name": "python3"
    },
    "language_info": {
      "codemirror_mode": {
        "name": "ipython",
        "version": 3
      },
      "file_extension": ".py",
      "mimetype": "text/x-python",
      "name": "python",
      "nbconvert_exporter": "python",
      "pygments_lexer": "ipython3",
      "version": "3.6.1"
    }
  },
  "nbformat": 4,
  "nbformat_minor": 1
}