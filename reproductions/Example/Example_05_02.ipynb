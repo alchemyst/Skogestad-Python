{
  "cells": [
    {
      "cell_type": "code",
      "metadata": {},
      "source": [
        "from robustcontrol.utils import tf, RHPonly\n",
        "import numpy as np\n",
        "\n",
        "s = tf([1,0],[1])\n",
        "G = 10*(s - 2)/(s**2 - 2*s + 5)\n",
        "\n",
        "RHPpoles = RHPonly(G.poles())\n",
        "RHPzeros = RHPonly(G.zeros())\n",
        "\n",
        "print(\"The RHP poles of the system are:\",RHPpoles)\n",
        "print(\"The RHP zeros of the system are:\",RHPzeros)\n",
        "\n",
        "Ms = 1\n",
        "for p in RHPpoles:\n",
        "    Ms *= np.abs(RHPzeros + p)/np.abs(RHPzeros - p)\n",
        "    \n",
        "print(\"The tight lower bound on ||S|| and ||T|| is:\", Ms)"
      ],
      "outputs": [],
      "execution_count": null
    }
  ],
  "metadata": {
    "anaconda-cloud": {},
    "kernelspec": {
      "display_name": "Python 3",
      "language": "python",
      "name": "python3"
    },
    "language_info": {
      "codemirror_mode": {
        "name": "ipython",
        "version": 3
      },
      "file_extension": ".py",
      "mimetype": "text/x-python",
      "name": "python",
      "nbconvert_exporter": "python",
      "pygments_lexer": "ipython3",
      "version": "3.6.1"
    }
  },
  "nbformat": 4,
  "nbformat_minor": 1
}