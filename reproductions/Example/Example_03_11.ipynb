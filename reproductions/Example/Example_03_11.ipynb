{
  "cells": [
    {
      "cell_type": "code",
      "metadata": {},
      "source": [
        "import numpy as np\n",
        "import matplotlib.pyplot as plt\n",
        "%matplotlib inline\n",
        "\n",
        "from robustcontrol.utilsplot import  rga_plot, rga_nm_plot\n",
        "\n",
        "\n",
        "def G(s):\n",
        "    G = 0.01**(-5*s)/((s + 1.72e-4)*(4.32*s + 1))*np.matrix([[-34.54*(s + 0.0572), 1.913],\n",
        "                                                             [-30.22*s, -9.188*(s + 6.95e-4)]])\n",
        "    return G\n",
        "\n",
        "I1 = np.asmatrix(np.identity(2))\n",
        "I2 = np.matrix([[0, 1], [1, 0]])\n",
        "\n",
        "plt.figure('Figure 3.8')\n",
        "plt.subplot(1, 2, 1)\n",
        "plt.title('(a) Magnitude of RGA elements')\n",
        "rga_plot(G, -5, 1, [None, None, 0, 1], plot_type='all')\n",
        "plt.text(3e-4, 0.8, '|$\\lambda$$_1$$_2$| = |$\\lambda$$_2$$_1$|', fontsize=15)\n",
        "plt.text(3e-4, 0.2, '|$\\lambda$$_1$$_1$| = |$\\lambda$$_2$$_2$|', fontsize=15)\n",
        "\n",
        "plt.subplot(1, 2, 2)\n",
        "plt.title('(b) RGA numbers')\n",
        "rga_nm_plot(G, [I1, I2], ['Diagonal pairing', 'Off-diagonal pairing'], -5, 1, plot_type='all')\n",
        "plt.show()\n",
        "\n",
        "# The section below demonstrates more utilsplot functions\n",
        "plt.figure('RGA per element')\n",
        "rga_plot(G, -5, 1, plot_type='elements')\n",
        "\n",
        "plt.figure('RGA per output')\n",
        "rga_plot(G, -5, 1, plot_type='outputs')\n",
        "\n",
        "plt.figure('RGA per input')\n",
        "rga_plot(G, -5, 1, plot_type='inputs')\n",
        "plt.show()\n"
      ],
      "outputs": [],
      "execution_count": null
    }
  ],
  "metadata": {
    "anaconda-cloud": {},
    "kernelspec": {
      "display_name": "Python 3",
      "language": "python",
      "name": "python3"
    },
    "language_info": {
      "codemirror_mode": {
        "name": "ipython",
        "version": 3
      },
      "file_extension": ".py",
      "mimetype": "text/x-python",
      "name": "python",
      "nbconvert_exporter": "python",
      "pygments_lexer": "ipython3",
      "version": "3.6.1"
    }
  },
  "nbformat": 4,
  "nbformat_minor": 1
}