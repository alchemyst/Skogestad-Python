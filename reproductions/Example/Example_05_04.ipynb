{
  "cells": [
    {
      "cell_type": "code",
      "metadata": {},
      "source": [
        "from robustcontrol.utils import tf, RHPonly\n",
        "import numpy as np\n",
        "\n",
        "\n",
        "def add_deadtime_SISO(G, deadtime):\n",
        "    G = (tf(list(G.numerator.coeffs),\n",
        "            list(G.denominator.coeffs), deadtime=deadtime))\n",
        "    return G\n",
        "\n",
        "s = tf([1, 0], [1])\n",
        "G = 5/((s - 3)*(10*s + 1))\n",
        "Gd_noDT = 0.5/((s - 3)*(0.2*s + 1))\n",
        "Gd = add_deadtime_SISO(Gd_noDT, 1.5)\n",
        "\n",
        "\n",
        "def Gstable(G, poles):\n",
        "    Gmul = 1\n",
        "    for p in poles:\n",
        "        Gmul *= (s - p)/(s + p)\n",
        "    return Gmul*G\n",
        "\n",
        "\n",
        "G_RHPpoles = RHPonly(G.poles())\n",
        "Gs = Gstable(G, G_RHPpoles)\n",
        "Gd_RHPpoles = RHPonly(Gd.poles())\n",
        "Gds = Gstable(Gd_noDT, Gd_RHPpoles)\n",
        "\n",
        "KSGd_bound = np.abs((Gs(G_RHPpoles[0]))**(-1) * Gds(G_RHPpoles[0]))\n",
        "print('The lower bound on the peak of ||KSGd|| is: ', KSGd_bound)\n"
      ],
      "outputs": [],
      "execution_count": null
    }
  ],
  "metadata": {
    "anaconda-cloud": {},
    "kernelspec": {
      "display_name": "Python 3",
      "language": "python",
      "name": "python3"
    },
    "language_info": {
      "codemirror_mode": {
        "name": "ipython",
        "version": 3
      },
      "file_extension": ".py",
      "mimetype": "text/x-python",
      "name": "python",
      "nbconvert_exporter": "python",
      "pygments_lexer": "ipython3",
      "version": "3.6.1"
    }
  },
  "nbformat": 4,
  "nbformat_minor": 1
}