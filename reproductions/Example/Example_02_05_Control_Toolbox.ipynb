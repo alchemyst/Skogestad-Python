{
  "cells": [
    {
      "cell_type": "code",
      "metadata": {},
      "source": [
        "# -*- coding: utf-8 -*-\n",
        "\"\"\"\n",
        "Created on Tue Jun 04 13:03:43 2013\n",
        "\n",
        "@author: Ruanne\n",
        "\"\"\"\n",
        "from __future__ import print_function\n",
        "import numpy as np\n",
        "import control\n",
        "import matplotlib.pyplot as plt\n",
        "%matplotlib inline\n",
        "\n",
        "from robustcontrol.utils import feedback\n",
        "\n",
        "w = np.logspace(-1, 2, 1000)\n",
        "s = control.tf([1, 0], 1)\n",
        "G = 4/((s - 1)*(0.02*s + 1)**2)\n",
        "Kc = 1.25\n",
        "tau1 = 1.5\n",
        "K = Kc*(1 + 1/(tau1*s))\n",
        "L = K*G\n",
        "S = feedback(1, L)\n",
        "T = feedback(L, 1)\n",
        "\n",
        "mag, phase, omega = control.bode(L, w)\n",
        "magS, phaseS, omega = control.bode(S, w)\n",
        "magT, phaseT, omega = control.bode(T, w)\n",
        "plt.legend([\"L\", \"S\", \"T\"],\n",
        "           bbox_to_anchor=(0, 1.01, 1, 0), loc=3, ncol=3)\n",
        "\n",
        "Ms = max(magS)\n",
        "Mt = max(magT)\n",
        "\n",
        "gm, pm, wg, wp = control.margin(mag, phase, omega)\n",
        "\n",
        "Lu_180 = 1/np.abs(control.evalfr(L, wg))\n",
        "P = np.angle(control.evalfr(L, wp)) + np.pi\n",
        "\n",
        "print(\"Lower GM:\", Lu_180)\n",
        "print(\"PM:\", np.round(P*180/np.pi, 1), \"deg or\", np.round(P, 2), \"rad\")\n",
        "print(\"Ms:\", Ms)\n",
        "print(\"Mt:\", Mt)\n",
        "\n",
        "plt.show()\n"
      ],
      "outputs": [],
      "execution_count": null
    }
  ],
  "metadata": {
    "anaconda-cloud": {},
    "kernelspec": {
      "display_name": "Python 3",
      "language": "python",
      "name": "python3"
    },
    "language_info": {
      "codemirror_mode": {
        "name": "ipython",
        "version": 3
      },
      "file_extension": ".py",
      "mimetype": "text/x-python",
      "name": "python",
      "nbconvert_exporter": "python",
      "pygments_lexer": "ipython3",
      "version": "3.6.1"
    }
  },
  "nbformat": 4,
  "nbformat_minor": 1
}