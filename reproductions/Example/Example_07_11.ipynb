{
  "cells": [
    {
      "cell_type": "code",
      "metadata": {},
      "source": [
        "import numpy as np\n",
        "import matplotlib.pyplot as plt\n",
        "%matplotlib inline\n",
        "\n",
        "from robustcontrol.utils import tf\n",
        "\n",
        "\n",
        "WP = tf([0.25, 0.1], [1, 0])\n",
        "WU = tf([1, 0], [1, 1])\n",
        "GK1 = tf([0, 0.5], [1, 0])\n",
        "GK2 = tf([0, -0.5, 0.5], [1, 1, 0])\n",
        "\n",
        "w = np.logspace(-2, 2, 500)\n",
        "s = 1j*w\n",
        "ru = np.linspace(0, 1, 10)\n",
        "\n",
        "\"\"\"Solution to part a,b is on pg 284, only part c is illustrateed here\"\"\"\n",
        "plt.loglog(w, np.abs(1/(1 + GK1(s))), label='$S_1$')\n",
        "plt.loglog(w, np.abs(1/(1 + GK2(s))), label='$S_2$')\n",
        "\n",
        "for i in range(np.size(ru)):\n",
        "    if i == 1:\n",
        "        plt.loglog(w, 1/(np.abs(WP(s)) + np.abs(ru[i]*WU(s))), 'k--', label='varying $r_u$')\n",
        "    else:\n",
        "        plt.loglog(w, 1/(np.abs(WP(s)) + np.abs(ru[i]*WU(s))), 'k--')\n",
        "\n",
        "plt.loglog(w, 1/(np.abs(WP(s)) + np.abs(0.75*WU(s))), 'r', label='$r_u$ = 0.75')\n",
        "plt.legend(loc=2)\n",
        "plt.title(r'Figure 7.19')\n",
        "plt.xlabel(r'Frequency [rad/s]', fontsize=14)\n",
        "plt.ylabel(r'Magnitude', fontsize=15)\n",
        "plt.show()\n"
      ],
      "outputs": [],
      "execution_count": null
    }
  ],
  "metadata": {
    "anaconda-cloud": {},
    "kernelspec": {
      "display_name": "Python 3",
      "language": "python",
      "name": "python3"
    },
    "language_info": {
      "codemirror_mode": {
        "name": "ipython",
        "version": 3
      },
      "file_extension": ".py",
      "mimetype": "text/x-python",
      "name": "python",
      "nbconvert_exporter": "python",
      "pygments_lexer": "ipython3",
      "version": "3.6.1"
    }
  },
  "nbformat": 4,
  "nbformat_minor": 1
}